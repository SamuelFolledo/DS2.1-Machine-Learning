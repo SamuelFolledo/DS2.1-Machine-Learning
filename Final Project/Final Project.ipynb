{
 "cells": [
  {
   "cell_type": "markdown",
   "metadata": {},
   "source": [
    "# Final Project: Predicting NBA's Most Valuable Player (MVP)\n",
    "\n",
    "My goal on this final project is to  **predicting NBA's MVP each year** based on their stats. \n",
    "\n",
    "### Dataset\n",
    "- Datasets is from [NBA Players stats since 1950](https://www.kaggle.com/drgilermo/nba-players-stats?select=Seasons_Stats.csv)\n",
    "- Th"
   ]
  },
  {
   "cell_type": "code",
   "execution_count": 3,
   "metadata": {},
   "outputs": [],
   "source": [
    "import pandas as pd\n",
    "\n",
    "players = pd.read_csv('datasets/Players.csv')\n",
    "seasons_stats = pd.read_csv('datasets/Seasons_Stats.csv')\n",
    "player_data = pd.read_csv('datasets/player_data.csv')"
   ]
  },
  {
   "cell_type": "code",
   "execution_count": null,
   "metadata": {},
   "outputs": [],
   "source": []
  }
 ],
 "metadata": {
  "kernelspec": {
   "display_name": "Python 3",
   "language": "python",
   "name": "python3"
  },
  "language_info": {
   "codemirror_mode": {
    "name": "ipython",
    "version": 3
   },
   "file_extension": ".py",
   "mimetype": "text/x-python",
   "name": "python",
   "nbconvert_exporter": "python",
   "pygments_lexer": "ipython3",
   "version": "3.7.4"
  }
 },
 "nbformat": 4,
 "nbformat_minor": 2
}
