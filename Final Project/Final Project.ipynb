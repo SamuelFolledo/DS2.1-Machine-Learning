{
 "cells": [
  {
   "cell_type": "markdown",
   "metadata": {},
   "source": [
    "# Final Project: Predicting NBA's Most Valuable Player (MVP)\n",
    "\n",
    "## Goal\n",
    "- Create an **unsupervised machine learning to predict NBA's MVP each year** based on their stats. \n",
    "\n",
    "### Dataset\n",
    "- Datasets is from [NBA Players stats since 1950](https://www.kaggle.com/drgilermo/nba-players-stats?select=Seasons_Stats.csv)\n",
    "\n",
    "#### Seasons Stats Columns\n",
    "- **Year - season**\n",
    "- **Player - name**\n",
    "- Pos - position\n",
    "- Age - age\n",
    "- Tm - team\n",
    "- **G - games**\n",
    "- **GS - games started**\n",
    "- **MP - minutes played**\n",
    "- PER - player efficiency rating\n",
    "- TS% - true shooting %\n",
    "- 3PAr - 3-point attempt rate\n",
    "- FTr - free throw rate\n",
    "- ORB% - offensive rebound percentage\n",
    "- DRB% - defensive rebound percentage\n",
    "- TRB% - total rebound percentage\n",
    "- AST% - assist percentage\n",
    "- STL% - steal percentage\n",
    "- BLK% - block percentage\n",
    "- TOV% - turnover percentage\n",
    "- USG% - usage percentage\n",
    "- OWS - offensive win shares\n",
    "- DWS - defensive win shares\n",
    "- WS/48 - win shares per 48\n",
    "- OBPM - offensive box plus/minus\n",
    "- DBPM - defensive box plus/minus\n",
    "- BPM - box plus/minus\n",
    "- VORP - value over replacement\n",
    "- **FG - field goals**\n",
    "- **FGA - field goal attempts**\n",
    "- **FG% - field goal percentage**\n",
    "- **3P - 3-point field goals**\n",
    "- 3PA - 3-point field goal attempts\n",
    "- **3P% - 3-point field goal percentage**\n",
    "- **2P - 2-point field goals**\n",
    "- 2PA - 2-point field goals attempts\n",
    "- **2P% - 2-point field goals percentage**\n",
    "- **eFG% - effective field goal percentage**\n",
    "- FT - free throws\n",
    "- FTA - free throw attempts\n",
    "- FT% - free throw percentage\n",
    "- **ORB - offensive rebounds**\n",
    "- **DRB - defensive rebounds**\n",
    "- **TRB - total rebounds**\n",
    "- **AST - assists**\n",
    "- **STL - steals**\n",
    "- **BLK - blocks**\n",
    "- **TOV - turnovers**\n",
    "- PF - personal fouls\n",
    "- **PTS - points**"
   ]
  },
  {
   "cell_type": "markdown",
   "metadata": {},
   "source": [
    "## Import Dataset"
   ]
  },
  {
   "cell_type": "code",
   "execution_count": 3,
   "metadata": {},
   "outputs": [],
   "source": [
    "import pandas as pd\n",
    "\n",
    "players = pd.read_csv('datasets/Players.csv')\n",
    "seasons_stats = pd.read_csv('datasets/Seasons_Stats.csv')\n",
    "player_data = pd.read_csv('datasets/player_data.csv')"
   ]
  },
  {
   "cell_type": "code",
   "execution_count": null,
   "metadata": {},
   "outputs": [],
   "source": []
  }
 ],
 "metadata": {
  "kernelspec": {
   "display_name": "Python 3",
   "language": "python",
   "name": "python3"
  },
  "language_info": {
   "codemirror_mode": {
    "name": "ipython",
    "version": 3
   },
   "file_extension": ".py",
   "mimetype": "text/x-python",
   "name": "python",
   "nbconvert_exporter": "python",
   "pygments_lexer": "ipython3",
   "version": "3.7.4"
  }
 },
 "nbformat": 4,
 "nbformat_minor": 2
}
