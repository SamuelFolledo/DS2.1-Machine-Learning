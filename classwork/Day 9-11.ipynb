{
 "cells": [
  {
   "cell_type": "markdown",
   "metadata": {},
   "source": [
    "# Day 9: Text Processing and Data Sample Clustering\n",
    "https://github.com/Make-School-Courses/DS-2.1-Machine-Learning/blob/master/Notebooks/remote_simple_kmeans.ipynb\n",
    "\n",
    "## Learning Outcomes\n",
    "1. Transform text data into numerical vectors\n",
    "2. Group or cluster the data samples we have\n",
    "\n",
    "### By the end of class you'll be able to\n",
    "- Define Bag-of-Words\n",
    "- Writie K-means to group text data\n",
    "\n",
    "## Text Vectorization\n",
    "- The process to transform text data to numerical vectors\n",
    "\n",
    "### Why do we need text vectorization?\n",
    "Think back to when we learned about **Label Encoding** and **One-Hot Encoding**: We took categories (text) and transformed them into numerical values.\n",
    "\n",
    "Text vectorization is similar in that we are taking text and turning it into something a machine can understand and manipulate by translating a word in to a unique vector of numbers. For example, we could associate the unique vector (0, 1, 0, 1) to the word queen.\n",
    "\n",
    "**Question: What are some other use cases for text vectorization?**\n",
    "\n",
    "### Use Cases for Text Vectorization\n",
    "- Count the number of unique words in each sentence (Bag-of-Words, we'll discuss this shortly!)\n",
    "- Assign weights to each word in the sentence.\n",
    "- Map each word to a number (dictionary with words as key and numbers as values) and represent each sentences as the sequence of numbers\n",
    "\n",
    "## Bag-of-Words Matrix\n",
    "- Bag-of-Words (BoW) is a matrix where its rows are sentences and its columns are unique words seen across all of the sentences\n",
    "\n",
    "### BoW Example\n",
    "We have the following 4 sentences:\n",
    "\n",
    "1. This is the first sentence.\n",
    "2. This one is the second sentence.\n",
    "3. And this is the third one.\n",
    "4. Is this the first sentence?\n",
    "\n",
    "Question: Given the above sentances, how many unique words are there?\n",
    "\n",
    "A BoW matrix would look like the following, where 0 means the word does not appear in the sentence, and 1 means the word does appear in the sentence\n",
    "\n",
    "<img src=\"../static/screenshots/day9-1.png\">\n",
    "\n",
    "### BoW Worksheet (7 min)\n",
    "**Complete the following worksheet on your own:**\n",
    "\n",
    "- Copy [this blank table](https://docs.google.com/presentation/d/1B7v33fPEwblhHYBCSrCvKRBZz776Df4T_t2jcPXt4k8/edit#slide=id.g74c1153bdd_0_15), and create the BoW matrix for the following sentences:\n",
    "1. Data Science is the best.\n",
    "2. Data Science has cool topics.\n",
    "3. Are these the best topics?\n",
    "4. Is Data Science the best track?\n",
    "\n",
    "## BoW in Sklearn\n",
    "We can write a function to return a BoW matrix\n",
    "\n",
    "Below, we will see how we can build a BoW matrix by calling [CountVectorizer](https://scikit-learn.org/stable/modules/generated/sklearn.feature_extraction.text.CountVectorizer.html?highlight=countvectorizer#sklearn-feature-extraction-text-countvectorizer) in sklearn"
   ]
  },
  {
   "cell_type": "code",
   "execution_count": 7,
   "metadata": {},
   "outputs": [],
   "source": [
    "from sklearn.feature_extraction.text import CountVectorizer, TfidfVectorizer\n",
    "from sklearn.cluster import KMeans\n",
    "from sklearn.metrics import adjusted_rand_score\n",
    "\n",
    "sentences = ['This is the first sentence.',\n",
    "             'This one is the second sentence.',\n",
    "             'And this is the third one.',\n",
    "             'Is this the first sentence?']"
   ]
  },
  {
   "cell_type": "code",
   "execution_count": 8,
   "metadata": {},
   "outputs": [
    {
     "name": "stdout",
     "output_type": "stream",
     "text": [
      "[[0 1 1 0 0 1 1 0 1]\n",
      " [0 0 1 1 1 1 1 0 1]\n",
      " [1 0 1 1 0 0 1 1 1]\n",
      " [0 1 1 0 0 1 1 0 1]]\n"
     ]
    }
   ],
   "source": [
    "vectorizer = CountVectorizer()\n",
    "# create a term-document matrix: assign each word a tuple: \n",
    "# first number is the sentence, and the second is the unique number that corresponds to the word\n",
    "# for example, if the word \"one\" is assigned the number 3,\n",
    "# then the word \"one\" that is used in the third sentence is represented by the tuple (2,3)\n",
    "X = vectorizer.fit_transform(sentences)\n",
    "\n",
    "# from the term-document matrix, create the BoW matrix\n",
    "print(X.toarray())"
   ]
  },
  {
   "cell_type": "markdown",
   "metadata": {},
   "source": [
    "## How do we get unique words?"
   ]
  },
  {
   "cell_type": "code",
   "execution_count": 9,
   "metadata": {},
   "outputs": [
    {
     "name": "stdout",
     "output_type": "stream",
     "text": [
      "['and', 'first', 'is', 'one', 'second', 'sentence', 'the', 'third', 'this']\n"
     ]
    }
   ],
   "source": [
    "# Get the unique words\n",
    "print(vectorizer.get_feature_names())"
   ]
  },
  {
   "cell_type": "markdown",
   "metadata": {},
   "source": [
    "### Activity: Worksheet --> sklearn (7 min)\n",
    "Use sklearn to take the 4 sentences you used in the worksheet and create the BoW matrix using sklearn"
   ]
  },
  {
   "cell_type": "code",
   "execution_count": 10,
   "metadata": {},
   "outputs": [
    {
     "name": "stdout",
     "output_type": "stream",
     "text": [
      "[[0 1 0 1 0 1 1 1 0 0 0]\n",
      " [0 0 1 1 1 0 1 0 0 1 0]\n",
      " [1 1 0 0 0 0 0 1 1 1 0]\n",
      " [0 1 0 1 0 1 1 1 0 0 1]]\n",
      "['are', 'best', 'cool', 'data', 'has', 'is', 'science', 'the', 'these', 'topics', 'track']\n"
     ]
    }
   ],
   "source": [
    "from sklearn.feature_extraction.text import CountVectorizer, TfidfVectorizer\n",
    "from sklearn.cluster import KMeans\n",
    "from sklearn.metrics import adjusted_rand_score\n",
    "\n",
    "sentences = [\"Data Science is the best.\", \"Data Science has cool topics.\", \n",
    "             \"Are these the best topics?\", \"Is Data Science the best track?\"]\n",
    "\n",
    "vectorizer = CountVectorizer()\n",
    "X = vectorizer.fit_transform(sentences)\n",
    "# from the term-document matrix, create the BoW matrix\n",
    "print(X.toarray())\n",
    "print(vectorizer.get_feature_names())"
   ]
  },
  {
   "cell_type": "markdown",
   "metadata": {},
   "source": [
    "## Clustering\n",
    "- Clustering is an unsupervised learning method. A cluster is a **group of data points that are grouped together due to similarities in their features**\n",
    "- This is very often used because we usually **don’t have labeled data**\n",
    "- K-Means clustering is a popular clustering algorithms: it **finds a fixed number (k) of clusters in a set of data.**\n",
    "- The goal of any cluster algorithm is to **find groups (clusters) in the given data**\n",
    "\n",
    "### Question: What are some use cases of clustering?\n",
    "Examples of Clustering\n",
    "- Cluster movie dataset -> We expect the movies which their genres are similar be clustered in the same group\n",
    "- News Article Clustering -> We want the News related to science be in the same group, News related to sport be in the same group\n",
    "\n",
    "## Demo of K-means"
   ]
  },
  {
   "cell_type": "code",
   "execution_count": 11,
   "metadata": {},
   "outputs": [
    {
     "data": {
      "text/plain": [
       "<matplotlib.collections.PathCollection at 0x11e056090>"
      ]
     },
     "execution_count": 11,
     "metadata": {},
     "output_type": "execute_result"
    },
    {
     "data": {
      "image/png": "[encoded data removed]",
      "text/plain": [
       "<Figure size 432x288 with 1 Axes>"
      ]
     },
     "metadata": {
      "needs_background": "light"
     },
     "output_type": "display_data"
    }
   ],
   "source": [
    "from sklearn.datasets.samples_generator import make_blobs\n",
    "import matplotlib.pyplot as plt\n",
    "\n",
    "# create a sample dataset with 300 data points and 4 cluster centers\n",
    "X, y = make_blobs(n_samples=300, centers=4,\n",
    "                          random_state=0, cluster_std=0.60)\n",
    "\n",
    "# plot the data\n",
    "plt.scatter(X[:, 0], X[:, 1])"
   ]
  },
  {
   "cell_type": "code",
   "execution_count": 12,
   "metadata": {},
   "outputs": [],
   "source": [
    "# from figures import plot_kmeans_interactive\n",
    "\n",
    "# plot_kmeans_interactive()"
   ]
  },
  {
   "cell_type": "markdown",
   "metadata": {},
   "source": [
    "### Question: How many samples we have at each cluster?"
   ]
  },
  {
   "cell_type": "code",
   "execution_count": 13,
   "metadata": {},
   "outputs": [
    {
     "name": "stdout",
     "output_type": "stream",
     "text": [
      "[[-1.58438467  2.83081263]\n",
      " [-1.37324398  7.75368871]\n",
      " [ 1.98258281  0.86771314]\n",
      " [ 0.94973532  4.41906906]]\n"
     ]
    }
   ],
   "source": [
    "from sklearn.cluster import KMeans\n",
    "\n",
    "# k-means algorithm where k = 4\n",
    "km = KMeans(n_clusters=4)\n",
    "# perform k-means clustering on the previous dataset\n",
    "km.fit(X)\n",
    "# print the 4 cluster centers\n",
    "print(km.cluster_centers_)"
   ]
  },
  {
   "cell_type": "markdown",
   "metadata": {},
   "source": [
    "### Answer:"
   ]
  },
  {
   "cell_type": "code",
   "execution_count": 14,
   "metadata": {},
   "outputs": [
    {
     "name": "stdout",
     "output_type": "stream",
     "text": [
      "[2 1 3 1 2 2 0 3 1 1 0 1 3 1 2 3 3 2 0 0 2 2 3 0 0 3 2 3 0 3 1 1 3 1 1 1 1\n",
      " 1 0 2 3 0 3 3 0 0 1 0 1 2 0 2 1 2 2 0 1 0 1 2 1 3 1 0 0 0 1 2 1 0 3 0 1 0\n",
      " 0 1 0 3 2 1 2 3 2 2 1 3 2 3 1 1 3 2 1 0 0 3 2 2 3 0 1 2 1 2 3 2 2 3 1 3 0\n",
      " 0 2 1 2 3 1 2 2 3 0 2 0 2 2 2 2 0 2 0 1 0 0 2 1 0 0 1 3 1 1 0 3 0 3 0 1 3\n",
      " 1 1 1 3 1 3 2 0 1 0 2 3 1 3 3 2 3 0 0 3 2 3 3 1 2 3 0 1 2 2 3 0 2 3 0 0 3\n",
      " 3 3 3 2 1 3 0 3 3 0 0 0 3 0 1 3 0 2 0 3 1 0 1 3 1 3 0 3 3 1 0 0 2 2 3 1 2\n",
      " 2 0 2 0 3 1 1 3 3 1 3 2 0 3 2 0 1 0 2 3 2 1 1 1 1 0 0 1 3 0 2 3 0 0 0 2 2\n",
      " 1 3 3 0 2 1 0 3 1 3 2 2 0 0 3 2 2 2 3 1 1 2 2 3 2 2 2 1 0 1 3 2 2 1 1 1 2\n",
      " 2 3 1 0]\n"
     ]
    },
    {
     "data": {
      "text/plain": [
       "{3: 75, 2: 75, 1: 75, 0: 75}"
      ]
     },
     "execution_count": 14,
     "metadata": {},
     "output_type": "execute_result"
    }
   ],
   "source": [
    "import pandas as pd\n",
    "\n",
    "print(km.predict(X))\n",
    "\n",
    "#then obtain the histogram of the above list\n",
    "dict(pd.Series(km.predict(X)).value_counts())"
   ]
  },
  {
   "cell_type": "markdown",
   "metadata": {},
   "source": [
    "## How to choose the optimal number (K) of clusters?\n",
    "- We could always choose a high number, but we may be wasting a lot of time and resources when a smaller number would give us the same results. How do we know the best K to pick so that we are running k-means as efficiently as possible?\n",
    "\n",
    "#### Possible (min and max cluster)\n",
    "- k=1 (one big cluster)-> minimum number of cluster\n",
    "- k=300 (number of samples) -> the maximum number of cluster\n",
    "\n",
    "\n",
    "## The Elbow Method\n",
    "We can find the optimal K by utilizing the **Elbow Method**: a method that **assigns a score to each K**. When we plot these scores, we will get a line that looks like an arm bending at the elbow. The **K value that is closest to the \"elbow\" point of the graph is our optimal K**\n",
    "\n",
    "Scores can be calculated two different ways:\n",
    "1. **Distortion**: the average of the squared distances from each sample to its closest cluster center. Typically, the Euclidean distance metric is used. The lower the distortion, the better the score\n",
    "    - For numberes 1 to k, compute the following:\n",
    "        - Euclidean squared distance formula: $\\sum_{j=1}^{k} (a_j-b_j)^2$\n",
    "        - For each sample, find the squared distance between the sample and all k cluster centers, and then pick the closest center (shortest distance)\n",
    "        - Take the average of the above\n",
    "2. Inertia: the sum of squared distances of samples to their closest cluster center. The lower the inertia, the better the score\n",
    "    - We'll use the same Euclidean squared distance formula for here as well.\n",
    "\n",
    "Either scoring method is valid, and will give you the same optimal K value. Below we will look at how to implement both scoring methods:\n",
    "\n",
    "## Distortion"
   ]
  },
  {
   "cell_type": "code",
   "execution_count": 15,
   "metadata": {},
   "outputs": [
    {
     "data": {
      "image/png": "[encoded data removed]",
      "text/plain": [
       "<Figure size 432x288 with 1 Axes>"
      ]
     },
     "metadata": {
      "needs_background": "light"
     },
     "output_type": "display_data"
    }
   ],
   "source": [
    "import numpy as np\n",
    "from scipy.spatial import distance\n",
    "\n",
    "distortions = []\n",
    "K = range(1, 10)\n",
    "for k in K:\n",
    "    # fit the k-means for a given k to the data (X)\n",
    "    km = KMeans(n_clusters=k)\n",
    "    km.fit(X)\n",
    "    # distance.cdist finds the squared distances\n",
    "    # axis=1 allows us to keep the min for each sample, not jsut the min across the entire dataset\n",
    "    # find the closest distance for each sample to a center, and take the average\n",
    "    distortions.append(sum(np.min(distance.cdist(X, km.cluster_centers_, 'euclidean'), axis=1)) / X.shape[0])\n",
    "\n",
    "# Plot the elbow: bx- = use a solid (-) blue (b) line, \n",
    "# and mark the x-axis points with an x (x)\n",
    "plt.plot(K, distortions, 'bx-')\n",
    "plt.xlabel('k')\n",
    "plt.ylabel('Distortion')\n",
    "plt.title('The Elbow Method showing the optimal k')\n",
    "plt.show()"
   ]
  },
  {
   "cell_type": "markdown",
   "metadata": {},
   "source": [
    "## Intertia"
   ]
  },
  {
   "cell_type": "code",
   "execution_count": 16,
   "metadata": {},
   "outputs": [
    {
     "data": {
      "image/png": "[encoded data removed]",
      "text/plain": [
       "<Figure size 432x288 with 1 Axes>"
      ]
     },
     "metadata": {
      "needs_background": "light"
     },
     "output_type": "display_data"
    }
   ],
   "source": [
    "sum_of_squared_distances = []\n",
    "K = range(1,15)\n",
    "for k in K:\n",
    "    km = KMeans(n_clusters=k)\n",
    "    km.fit(X)\n",
    "    # inertia is an attribute of km!\n",
    "    # https://scikit-learn.org/stable/modules/generated/sklearn.cluster.KMeans.html#sklearn.cluster.KMeans\n",
    "    sum_of_squared_distances.append(km.inertia_)\n",
    "    \n",
    "\n",
    "    # Plot the elbow\n",
    "plt.plot(K, sum_of_squared_distances, 'bx-')\n",
    "plt.xlabel('k')\n",
    "plt.ylabel('Distortion')\n",
    "plt.title('The Elbow Method showing the optimal k')\n",
    "plt.show()"
   ]
  },
  {
   "cell_type": "markdown",
   "metadata": {},
   "source": [
    "## Activity - Elbow Method (7 min)¶\n",
    "Using the starter code below, prove that 6 is the optimal K for clustering the data using k-means using the elbow method. You can use either Distortion or Inertia."
   ]
  },
  {
   "cell_type": "code",
   "execution_count": 17,
   "metadata": {},
   "outputs": [
    {
     "data": {
      "text/plain": [
       "<matplotlib.collections.PathCollection at 0x120010f90>"
      ]
     },
     "execution_count": 17,
     "metadata": {},
     "output_type": "execute_result"
    },
    {
     "data": {
      "image/png": "[encoded data removed]",
      "text/plain": [
       "<Figure size 432x288 with 1 Axes>"
      ]
     },
     "metadata": {
      "needs_background": "light"
     },
     "output_type": "display_data"
    }
   ],
   "source": [
    "from sklearn.datasets.samples_generator import make_blobs\n",
    "import matplotlib.pyplot as plt\n",
    "\n",
    "Data, blob_y = make_blobs(n_samples=500, centers=6,\n",
    "                          random_state=0, cluster_std=0.80)\n",
    "\n",
    "# plot the data\n",
    "plt.scatter(Data[:, 0], Data[:, 1])"
   ]
  },
  {
   "cell_type": "code",
   "execution_count": 18,
   "metadata": {},
   "outputs": [
    {
     "data": {
      "image/png": "[encoded data removed]",
      "text/plain": [
       "<Figure size 432x288 with 1 Axes>"
      ]
     },
     "metadata": {
      "needs_background": "light"
     },
     "output_type": "display_data"
    }
   ],
   "source": [
    "import numpy as np\n",
    "from scipy.spatial import distance\n",
    "\n",
    "def get_k_distortion(data, max_range):\n",
    "    distortions = []\n",
    "    K = range(1, max_range)\n",
    "    for k in K:\n",
    "        km = KMeans(n_clusters=k)\n",
    "        km.fit(data)\n",
    "        distortions.append(sum(np.min(distance.cdist(data, km.cluster_centers_, 'euclidean'), axis=1)) / data.shape[0])\n",
    "\n",
    "    plt.plot(K, distortions, 'bx-')\n",
    "    plt.xlabel('k')\n",
    "    plt.ylabel('Distortion')\n",
    "    plt.title('The Elbow Method showing the optimal k')\n",
    "    plt.show()\n",
    "    \n",
    "    \n",
    "get_k_distortion(Data, 12)"
   ]
  },
  {
   "cell_type": "code",
   "execution_count": 19,
   "metadata": {},
   "outputs": [
    {
     "data": {
      "image/png": "[encoded data removed]",
      "text/plain": [
       "<Figure size 432x288 with 1 Axes>"
      ]
     },
     "metadata": {
      "needs_background": "light"
     },
     "output_type": "display_data"
    }
   ],
   "source": [
    "import numpy as np\n",
    "from scipy.spatial import distance\n",
    "\n",
    "def get_k_intertia(data, max_range):\n",
    "    sum_of_squared_distances = []\n",
    "    K = range(1,max_range)\n",
    "    for k in K:\n",
    "        km = KMeans(n_clusters=k)\n",
    "        km.fit(data)\n",
    "        sum_of_squared_distances.append(km.inertia_)\n",
    "\n",
    "    plt.plot(K, sum_of_squared_distances, 'bx-')\n",
    "    plt.xlabel('k')\n",
    "    plt.ylabel('Distortion')\n",
    "    plt.title('The Elbow Method showing the optimal k')\n",
    "    plt.show()\n",
    "\n",
    "get_k_intertia(Data, 12)"
   ]
  },
  {
   "cell_type": "markdown",
   "metadata": {},
   "source": [
    "## Activity: Combine Text Vectorization and Clustering the Texts (30 min)\n",
    "**Complete the activity below in groups of 3**\n",
    "\n",
    "- We want to cluster the given sentences\n",
    "- To do this: We want to use both concepts we learned today:\n",
    "    - Vectorize the sentences (text-vectorization)\n",
    "    - Apply Kmeans to cluster our vectorized sentences\n",
    "- **Note**: We want to remove stop words from our sentences (and, or, is, etc.). To do this, we add stop_words='english' to our call to CountVectorize\n",
    "- **Hint**: Look at the sentences in the starter code. How would you cluster the data if you were doing the clustering? Use that number as your K to start with."
   ]
  },
  {
   "cell_type": "markdown",
   "metadata": {},
   "source": [
    "#### My Solution - Do not use LOL"
   ]
  },
  {
   "cell_type": "code",
   "execution_count": 54,
   "metadata": {},
   "outputs": [
    {
     "name": "stdout",
     "output_type": "stream",
     "text": [
      "[0]\n",
      "[0]\n",
      "[0]\n",
      "[1]\n",
      "[0]\n",
      "[0]\n",
      "[0]\n",
      "[0]\n"
     ]
    }
   ],
   "source": [
    "from sklearn.feature_extraction.text import CountVectorizer, TfidfVectorizer\n",
    "from sklearn.cluster import KMeans\n",
    "from sklearn.metrics import adjusted_rand_score\n",
    "import pandas as pd\n",
    "\n",
    "sentences = [\"This little kitty came to play when I was eating at a restaurant.\",\n",
    "             \"Merley has the best squooshy kitten belly.\",\n",
    "             \"Google Translate app is incredible.\",\n",
    "             \"If you open 100 tab in google you get a smiley face.\",\n",
    "             \"Best cat photo I've ever taken.\",\n",
    "             \"Climbing ninja cat.\",\n",
    "             \"Impressed with google map feedback.\",\n",
    "             \"Key promoter extension for Google Chrome.\"]\n",
    "\n",
    "def vectorize_sentences(sentences, clusters):\n",
    "    # 1. Vectorize the sentences by BOW\n",
    "    vectorizer = CountVectorizer()\n",
    "    X = vectorizer.fit_transform(sentences)\n",
    "    \n",
    "    # 2. Cluster 2- Cluster the vectorized sentences in 2 groups by K-Means\n",
    "    km = KMeans(n_clusters = clusters)\n",
    "    km.fit(X)\n",
    "#     print(km.cluster_centers_)\n",
    "#     print(km.predict(X))\n",
    "\n",
    "    # 3. Obtain which group the S1 will be mapped\n",
    "    # print(dict(pd.Series(km.predict(X)).value_counts())) #then obtain the histogram of the above list    \n",
    "    \n",
    "    # 4. Do step 3 for all S1 … S8\n",
    "    for sentence in sentences:\n",
    "        y= vectorizer.transform([sentence])\n",
    "        prediction = km.predict(y)\n",
    "        print(prediction)    \n",
    "    \n",
    "    \n",
    "vectorize_sentences(sentences, 2)"
   ]
  },
  {
   "cell_type": "markdown",
   "metadata": {},
   "source": [
    "### Milad's Solution"
   ]
  },
  {
   "cell_type": "code",
   "execution_count": 62,
   "metadata": {},
   "outputs": [
    {
     "name": "stdout",
     "output_type": "stream",
     "text": [
      "['100', 'app', 'belly', 'best', 'came', 'cat', 'chrome', 'climbing', 'eating', 'extension', 'face', 'feedback', 'google', 'impressed', 'incredible', 'key', 'kitten', 'kitty', 'little', 'map', 'merley', 'ninja', 'open', 'photo', 'play', 'promoter', 'restaurant', 'smiley', 'squooshy', 'tab', 'taken', 'translate', 've']\n",
      "(8, 33)\n",
      "Y:\n",
      "[[0 0 0 0 0 0 1 0 0 0 0 0 0 0 0 0 0 0 0 0 0 0 1 0 0 0 0 0 0 0 0 0 0]]\n",
      "Y Sentences Prediction [0]\n",
      "[1]\n",
      "Sentences Prediction [1 1 0 0 1 1 0 0]\n"
     ]
    }
   ],
   "source": [
    "from sklearn.feature_extraction.text import CountVectorizer, TfidfVectorizer\n",
    "from sklearn.cluster import KMeans\n",
    "from sklearn.metrics import adjusted_rand_score\n",
    "\n",
    "sentences = [\"This little kitty came to play when I was eating at a restaurant.\",\n",
    "             \"Merley has the best squooshy kitten belly.\",\n",
    "             \"Google Translate app is incredible.\",\n",
    "             \"If you open 100 tab in google you get a smiley face.\",\n",
    "             \"Best cat photo I've ever taken.\",\n",
    "             \"Climbing ninja cat.\",\n",
    "             \"Impressed with google map feedback.\",\n",
    "             \"Key promoter extension for Google Chrome.\"]\n",
    "\n",
    "def vectorize_sentences_solution(sentences):\n",
    "    # remove stop words from sentences (and, or, is, ...) and instantiate the Bag-of-Word \n",
    "    vectorizer = CountVectorizer(stop_words='english') # Highly recommend to always do this stop_words='english' = remove stop words in English\n",
    "    # transform sentences into numerical arrays \n",
    "    X = vectorizer.fit_transform(sentences) # transform to BOW matrix\n",
    "    # print unique words (vocabulary)\n",
    "    print(vectorizer.get_feature_names())\n",
    "    print(X.shape)\n",
    "    \n",
    "    # We know there are two group of sentences -> Group 1: cats | Group 2: Google\n",
    "    true_k = 2\n",
    "    model = KMeans(n_clusters=true_k, init='k-means++') # init='k-means++' not an important parameter\n",
    "    model.fit(X)\n",
    "\n",
    "    # Testing our model: For a new sentence, let's see how the model will cluster it. \n",
    "\n",
    "    # first we should convert the sentence to a numerical array\n",
    "    Y = vectorizer.transform([\"chrome browser to open.\"]) # vector the represent these sentences\n",
    "    print('Y:')\n",
    "    print(Y.toarray()) # all words will be 0, but Cat and Google will be 1\n",
    "    prediction = model.predict(Y)\n",
    "    print(\"Y Sentences Prediction\", prediction)\n",
    "    # Let's do the same for another sentence\n",
    "    Y = vectorizer.transform([\"My cat is hungry.\"])\n",
    "    prediction = model.predict(Y)\n",
    "    print(prediction)\n",
    "    # Lets see the model prediction for training docs\n",
    "    print(\"Sentences Prediction\", model.predict(X))\n",
    "    \n",
    "vectorize_sentences_solution(sentences)"
   ]
  },
  {
   "cell_type": "markdown",
   "metadata": {},
   "source": [
    "## Other clustering methods and comparison:\n",
    "http://scikit-learn.org/stable/modules/clustering.html\n",
    "\n",
    "## Resources:\n",
    "- https://www.youtube.com/watch?v=FrmrHyOSyhE\n",
    "- https://jakevdp.github.io/PythonDataScienceHandbook/05.11-k-means.html\n",
    "\n",
    "## Summary\n",
    "- In order to work with text, we should transform sentences into vectors of numbers\n",
    "- We learned a method for text vectorization -> Bag-of-Words (CountVectorizer)\n",
    "    - We will learn TFIDF Vectorizer next session\n",
    "- Clustering is an unsupervised learning algorithm that obtains groups based on the geometric positions of features\n",
    "- K-means is one clustering method that separates the data into K number of clusters. The Elbow method can be used to find the optimal K\n",
    "\n",
    "## Optional: Obtain the centers (centriods) of two cluster: which words would be close to the centriods"
   ]
  },
  {
   "cell_type": "code",
   "execution_count": 63,
   "metadata": {},
   "outputs": [
    {
     "name": "stdout",
     "output_type": "stream",
     "text": [
      "['100', 'app', 'belly', 'best', 'came', 'cat', 'chrome', 'climbing', 'eating', 'extension', 'face', 'feedback', 'google', 'impressed', 'incredible', 'key', 'kitten', 'kitty', 'little', 'map', 'merley', 'ninja', 'open', 'photo', 'play', 'promoter', 'restaurant', 'smiley', 'squooshy', 'tab', 'taken', 'translate', 've']\n",
      "(8, 33)\n",
      "Y:\n",
      "[[0 0 0 0 0 0 1 0 0 0 0 0 0 0 0 0 0 0 0 0 0 0 1 0 0 0 0 0 0 0 0 0 0]]\n",
      "[1]\n",
      "[0]\n",
      "[0 0 1 1 0 0 1 1]\n"
     ]
    }
   ],
   "source": [
    "from sklearn.feature_extraction.text import CountVectorizer, TfidfVectorizer\n",
    "from sklearn.cluster import KMeans\n",
    "from sklearn.metrics import adjusted_rand_score\n",
    "\n",
    "sentences = [\"This little kitty came to play when I was eating at a restaurant.\",\n",
    "             \"Merley has the best squooshy kitten belly.\",\n",
    "             \"Google Translate app is incredible.\",\n",
    "             \"If you open 100 tab in google you get a smiley face.\",\n",
    "             \"Best cat photo I've ever taken.\",\n",
    "             \"Climbing ninja cat.\",\n",
    "             \"Impressed with google map feedback.\",\n",
    "             \"Key promoter extension for Google Chrome.\"]\n",
    "\n",
    "# vectorizer = TfidfVectorizer(stop_words='english')\n",
    "vectorizer = CountVectorizer(stop_words='english')\n",
    "\n",
    "X = vectorizer.fit_transform(sentences)\n",
    "print(vectorizer.get_feature_names())\n",
    "print(X.shape)\n",
    "true_k = 2\n",
    "model = KMeans(n_clusters=true_k, init='k-means++')\n",
    "model.fit(X)\n",
    "# print('M:')\n",
    "# print(model.cluster_centers_.argsort())\n",
    "# print(model.cluster_centers_.argsort()[:, ::-1])\n",
    "# print(\"Top terms per cluster:\")\n",
    "# order_centroids = model.cluster_centers_.argsort()[:, ::-1]\n",
    "# terms = vectorizer.get_feature_names()\n",
    "# for i in range(true_k):\n",
    "#     print(\"Cluster %d:\" % i),\n",
    "#     for ind in order_centroids[i, :10]:\n",
    "#         print(' %s' % terms[ind]),\n",
    "\n",
    "\n",
    "# print(\"\\n\")\n",
    "# print(\"Prediction\")\n",
    "\n",
    "Y = vectorizer.transform([\"chrome browser to open.\"])\n",
    "print('Y:')\n",
    "print(Y.toarray())\n",
    "prediction = model.predict(Y)\n",
    "print(prediction)\n",
    "\n",
    "Y = vectorizer.transform([\"My cat is hungry.\"])\n",
    "prediction = model.predict(Y)\n",
    "print(prediction)\n",
    "# Lets see the model prediction for training docs\n",
    "print(model.predict(X))"
   ]
  },
  {
   "cell_type": "code",
   "execution_count": null,
   "metadata": {},
   "outputs": [],
   "source": []
  },
  {
   "cell_type": "markdown",
   "metadata": {},
   "source": [
    "# Day 10: Naive Bayes\n",
    "https://github.com/Make-School-Courses/DS-2.1-Machine-Learning/blob/master/Notebooks/remote_simple_naive_Bayes.ipynb\n",
    "\n",
    "**During extended Day 9**"
   ]
  },
  {
   "cell_type": "markdown",
   "metadata": {},
   "source": [
    "## Learning Objectives\n",
    "By the end of today's class, you should be able to...\n",
    "- Review Bayes'formula for conditional probability\n",
    "- Apply Bayes' rule for text classification\n",
    "- Write a Python function for text classification with Naive Bayes\n",
    "\n",
    "## Text Classification\n",
    "Text classification is the **process of attaching labels to bodies of text**, e.g., tax document, medical form, etc. based on the content of the text itself.\n",
    "\n",
    "Think of your spam folder in your email. How does your email provider know that a particular message is spam or “ham” (not spam)?\n",
    "\n",
    "#### Question: How do you tell if an email is spam or ham? What are the signs?\n",
    "##### Followup: How does your process differ from a text classifier's?\n",
    "\n",
    "## Review of conditional probability and its application on Text\n",
    "- Assume this small dataset is given:\n",
    "\n",
    "<img src=\"../static/screenshots/day10-1.png\">\n",
    "\n",
    "## Question: What is the probability that an email is spam? What is the probability that an email is ham?\n",
    "$P(spam) = ?$\n",
    "\n",
    "$P(ham) = ?$\n",
    "\n",
    "## Activity: Create spam and ham dictionary\n",
    "- Create two dictionaries for spam and ham where keys are unique words and values are the frequency of each word\n",
    "    - Example: if the word \"password\" shows up 4 times in the text, then in the dictionary, the key would be \"password\" and the value would be 4\n",
    "- Create the dictionaries programatically using for loops\n",
    "- Use the below text to create your dictionaries:\n",
    "    - spam_text= ['Send us your password', 'review us', 'Send your password', 'Send us your account']\n",
    "    - ham_text= ['Send us your review', 'review your password']"
   ]
  },
  {
   "cell_type": "code",
   "execution_count": 65,
   "metadata": {},
   "outputs": [
    {
     "name": "stdout",
     "output_type": "stream",
     "text": [
      "Spam Dictionary:\n",
      "{'send': 3, 'us': 3, 'your': 3, 'password': 2, 'review': 1, 'account': 1}\n",
      "\n",
      "\n",
      "Ham Dictionary:\n",
      "{'send': 1, 'us': 1, 'your': 2, 'review': 2, 'password': 1}\n"
     ]
    }
   ],
   "source": [
    "spam_text= ['Send us your password', 'review us', 'Send your password', 'Send us your account']\n",
    "ham_text= ['Send us your review', 'review your password']\n",
    "\n",
    "spam = {}\n",
    "for i in spam_text:\n",
    "    for j in i.lower().split(' '):\n",
    "        if j not in spam:\n",
    "            spam[j] = 1\n",
    "        else:\n",
    "            spam[j] += 1\n",
    "\n",
    "print(\"Spam Dictionary:\")            \n",
    "print(spam)\n",
    "print(\"\\n\")\n",
    "\n",
    "ham = {}\n",
    "for i in ham_text:\n",
    "    for j in i.lower().split(' '):\n",
    "        if j not in ham:\n",
    "            ham[j] = 1\n",
    "        else:\n",
    "            ham[j] += 1\n",
    "\n",
    "print(\"Ham Dictionary:\")\n",
    "print(ham)"
   ]
  },
  {
   "cell_type": "markdown",
   "metadata": {},
   "source": [
    "## Question: We know an email is spam, what is the probability that password be a word in it?\n",
    "What is the frequency of \"password\" in a spam email?\n",
    "\n",
    "Answer:\n",
    "\n",
    "$P(password \\mid spam) = 2/(3+3+3+2+1+1) = 2/13 \\approx 15.38\\%$"
   ]
  },
  {
   "cell_type": "code",
   "execution_count": 67,
   "metadata": {},
   "outputs": [
    {
     "name": "stdout",
     "output_type": "stream",
     "text": [
      "0.15384615384615385\n"
     ]
    }
   ],
   "source": [
    "# or \n",
    "p_password_given_spam = spam['password'] / sum(spam.values())\n",
    "print(p_password_given_spam)"
   ]
  },
  {
   "cell_type": "markdown",
   "metadata": {},
   "source": [
    "## Question: We know an email is spam, what is the probability that password be a word in it?\n",
    "What is the frequency of \"password\" in a ham email?\n",
    "\n",
    "Answer:\n",
    "$P(password \\mid ham) = 1/(1+2+1+1+2+0) = 1/7 \\approx 14.29\\%$"
   ]
  },
  {
   "cell_type": "code",
   "execution_count": 68,
   "metadata": {},
   "outputs": [
    {
     "name": "stdout",
     "output_type": "stream",
     "text": [
      "0.14285714285714285\n"
     ]
    }
   ],
   "source": [
    "# or \n",
    "p_password_given_ham = ham['password'] / sum(ham.values())\n",
    "print(p_password_given_ham)"
   ]
  },
  {
   "cell_type": "markdown",
   "metadata": {},
   "source": [
    "## Question: Assume we have seen the word \"password\" in an email, what is the probability that the email is spam?\n",
    "- $P(spam \\mid password) = ?$\n",
    "- Hint: Use Bayes' rule and Law of Total Probability (LOTP):\n",
    "    - Bayes' Rule: $P(spam \\mid password) = (P(password \\mid spam) P(spam))/ P(password)$\n",
    "    - LOTP: $P(password) = P(password \\mid spam) P(spam) + P(password \\mid ham) P(ham)$"
   ]
  },
  {
   "cell_type": "code",
   "execution_count": 76,
   "metadata": {},
   "outputs": [
    {
     "name": "stdout",
     "output_type": "stream",
     "text": [
      "Probability of Password: 0.15018315018315018\n",
      "Probability of spam given password: 0.6829268292682927\n"
     ]
    }
   ],
   "source": [
    "# Calculated by viewing our dataset\n",
    "p_spam = spam['password'] / (spam['password'] + ham['password'])\n",
    "p_ham = ham['password'] / (spam['password'] + ham['password'])\n",
    "\n",
    "# LOTP\n",
    "p_password = p_password_given_spam * p_spam + p_password_given_ham * p_ham \n",
    "print(\"Probability of Password:\", p_password)\n",
    "\n",
    "# Bayes Rule\n",
    "p_spam_given_password = p_password_given_spam * p_spam / p_password\n",
    "print(\"Probability of spam given password:\", p_spam_given_password)"
   ]
  },
  {
   "cell_type": "markdown",
   "metadata": {},
   "source": [
    "#### End of Day 9 lecture day 10"
   ]
  },
  {
   "cell_type": "markdown",
   "metadata": {},
   "source": [
    "## Naive Bayes Classifier (Math)\n",
    "The Bayes Theorem : $P(spam | w_1, w_2, ..., w_n) = {P(w_1, w_2, ..., w_n | spam)P(spam)}/{P(w_1, w_2, ..., w_n)}$\n",
    "\n",
    "**Naive Bayes assumption is that each word is independent of all other words, In reality, this is not true!** But let's try it out for our spam/ham examples:\n",
    "\n",
    "Applying Bayes' Rule, the above relationship becomes simple for both spam and ham with the Naive Bayes assumption:\n",
    "\n",
    "$P(spam | w_1, w_2, ..., w_n) = {P(w_1| spam)P(w_2| spam) ... P(w_n| spam)P(spam)}/{P(w_1, w_2, ..., w_n)}$\n",
    "\n",
    "$P(ham | w_1, w_2, ..., w_n) = {P(w_1| ham)P(w_2| ham) ... P(w_n| ham)P(ham)}/{P(w_1, w_2, ..., w_n)}$\n",
    "\n",
    "The denominator $P(w_1, w_2, ..., w_n)$ is independent of spam and ham, so we can remove it to simplify our equations, as we only care about labeling, and proportional relationships:\n",
    "\n",
    "$P(spam | w_1, w_2, ..., w_n) \\propto P(spam | w_1, w_2, ..., w_n) = {P(w_1| spam)P(w_2| spam) ... P(w_n| spam)P(spam)}$\n",
    "\n",
    "$P(ham | w_1, w_2, ..., w_n) \\propto P(ham | w_1, w_2, ..., w_n) = {P(w_1| ham)P(w_2| ham) ... P(w_n| ham)P(ham)}$\n",
    "\n",
    "This is **easier to express if we can write it as a summation. To do so, we can take the log of both sides of the equation**, because the **log of a product is the sum of the logs.**\n",
    "\n",
    "$logP(spam | w_1, w_2, ..., w_n) \\propto {\\sum_{i=1}^{n}log P(w_i| spam)+ log P(spam)}$\n",
    "\n",
    "$logP(ham | w_1, w_2, ..., w_n) \\propto {\\sum_{i=1}^{n}log P(w_i| ham)+ log P(ham)}$\n",
    "\n",
    "##### Given the above, we can therefore, say that if:\n",
    "\n",
    "${\\sum_{i=1}^{n}log P(w_i| spam)+ log P(spam)} > {\\sum_{i=1}^{n}log P(w_i| ham)+ log P(ham)}$\n",
    "\n",
    "#### then that sentence is spam. Otherwise, the sentence is ham!\n",
    "\n",
    "## Pseudo-code for Naive Bayes for spam/ham dataset:\n",
    "- Assume the following small dataset is given\n",
    "- The first column is the labels of received emails\n",
    "- The second column is the body of the email (sentences)\n",
    "\n",
    "<img src=\"../static/screenshots/day10-2.png\">\n",
    "\n",
    "1. Based on the given dataset above, create the following two dictionaries:\n",
    "\n",
    "  Ham -> D_ham = {'Jos': 1,'ask':1, 'you':1,... }\n",
    "    \n",
    "  Spam- > D_spam= {'Did': 1, 'you':3, ... }\n",
    "\n",
    "Each dictionary representes all words for the spam and ham emails and their frequency (as the value of dictionaries)\n",
    "\n",
    "2. For any new given sentences, having $w_1$, $w_2$, ... $w_n$ words, assuming the sentence is ham, calculate the following:\n",
    "\n",
    " $P(w_1| ham)$, $P(w_2| ham)$, ..., $P(w_n| ham)$\n",
    " \n",
    " $log(P(w_1| ham))$, $log(P(w_2| ham))$, ..., $log(P(w_n| ham))$\n",
    "\n",
    "then add them all together to create one value\n",
    "\n",
    "3. Calculate what percentage of labels are ham -> $P(ham)$ -> then take the log -> $log(P(ham))$\n",
    "\n",
    "4. Add the value from step (2) and (3)\n",
    "\n",
    "5. Do Steps (2) - (4) again, but assume the given new sentence is spam\n",
    "\n",
    "6. Compare the two values. The greater value indicates which label (class) the sentence should be given"
   ]
  },
  {
   "cell_type": "code",
   "execution_count": null,
   "metadata": {},
   "outputs": [],
   "source": []
  },
  {
   "cell_type": "markdown",
   "metadata": {},
   "source": [
    "## Activity: Apply the naive Bayes to spam/ham email dataset:\n",
    "In groups of 3, complete the following activity\n",
    "\n",
    "1. Please read this article, starting at the **Naive Bayes Assumption** section: https://pythonmachinelearning.pro/text-classification-tutorial-with-naive-bayes/\n",
    "2. We will use the [Spam Dataset](https://render.githubusercontent.com/view/Datasets/spam.csv)\n",
    "3. In the article, for the codeblock of the fit method, which line(s) of the method calculates the probabilty of ham and spam?\n",
    "4. For the same fit method, which line(s) of the method calculates the spam and ham dictionaries?\n",
    "5. In the article, for the codeblock of the predict method, which line(s) compares the scores of ham or spam based on log probabilities?\n",
    "\n",
    "We will discuss as a class after workinging in groups."
   ]
  },
  {
   "cell_type": "markdown",
   "metadata": {},
   "source": [
    "## Activity: Find the Naive Bayes core parts in the SpamDetector Class\n",
    "\n",
    "Assume we have written the SpamDetector class from the article. Train this model from the given [Spam Dataset](https://render.githubusercontent.com/view/Datasets/spam.csv), and use it to make a prediction!\n",
    "\n",
    "Use the starter code below, and then fill in the TODOs in the main.\n",
    "\n",
    "#### Hints:\n",
    "- you will need to use train_test_split from sklearn to obtain your training and test (prediction) data\n",
    "- You will need to instantiate your SpamDetector, fit the training data to it, predict using the test values, and then measure the accuracy\n",
    "- To calculate accuracy: add up all the correct predictions divided by the total number of predictions\n",
    "- Use the following code to get your data ready for transforming/manipulating:\n",
    "\n",
    "```\n",
    "    data = pd.read_csv('Datasets/spam.csv',encoding='latin-1')\n",
    "    data = data.drop([\"Unnamed: 2\", \"Unnamed: 3\", \"Unnamed: 4\"], axis=1)\n",
    "    data = data.rename(columns={\"v1\":'label', \"v2\":'text'})\n",
    "    print(data.head())\n",
    "    tags = data[\"label\"]\n",
    "    texts = data[\"text\"]\n",
    "    X, y = texts, tags\n",
    "```"
   ]
  },
  {
   "cell_type": "code",
   "execution_count": 4,
   "metadata": {},
   "outputs": [],
   "source": [
    "import os\n",
    "import re\n",
    "import string\n",
    "import math\n",
    "import pandas as pd\n",
    "\n",
    "class SpamDetector(object):\n",
    "    \"\"\"Implementation of Naive Bayes for binary classification\"\"\"\n",
    "\n",
    "    # clean up our string by removing punctuation\n",
    "    def clean(self, s):\n",
    "        translator = str.maketrans(\"\", \"\", string.punctuation)\n",
    "        return s.translate(translator)\n",
    "\n",
    "    #  tokenize our string into words\n",
    "    def tokenize(self, text):\n",
    "        text = self.clean(text).lower()\n",
    "        return re.split(\"\\W+\", text)\n",
    "\n",
    "    # count up how many of each word appears in a list of words.\n",
    "    def get_word_counts(self, words):\n",
    "        word_counts = {}\n",
    "        for word in words:\n",
    "            word_counts[word] = word_counts.get(word, 0.0) + 1.0\n",
    "        return word_counts\n",
    "\n",
    "    def fit(self, X, Y):\n",
    "        \"\"\"Fit our classifier\n",
    "        Arguments:\n",
    "            X {list} -- list of document contents\n",
    "            y {list} -- correct labels\n",
    "        \"\"\"\n",
    "        self.num_messages = {}\n",
    "        self.log_class_priors = {}\n",
    "        self.word_counts = {}\n",
    "        self.vocab = set()\n",
    "\n",
    "        # Compute log class priors (the probability that any given message is spam/ham),\n",
    "        # by counting how many messages are spam/ham, \n",
    "        # dividing by the total number of messages, and taking the log.\n",
    "        n = len(X)\n",
    "        self.num_messages['spam'] = sum(1 for label in Y if label == 'spam')\n",
    "        self.num_messages['ham'] = sum(1 for label in Y if label == 'ham')\n",
    "        self.log_class_priors['spam'] = math.log(self.num_messages['spam'] / n )\n",
    "        self.log_class_priors['ham'] = math.log(self.num_messages['ham'] / n )\n",
    "        self.word_counts['spam'] = {}\n",
    "        self.word_counts['ham'] = {}\n",
    "\n",
    "        # for each (document, label) pair, tokenize the document into words.\n",
    "        for x, y in zip(X, Y):\n",
    "            c = 'spam' if y == 'spam' else 'ham'\n",
    "            counts = self.get_word_counts(self.tokenize(x))\n",
    "            # For each word, either add it to the vocabulary for spam/ham, \n",
    "            # if it isn’t already there, and update the number of counts. \n",
    "            for word, count in counts.items():\n",
    "                # Add that word to the global vocabulary.\n",
    "                if word not in self.vocab:\n",
    "                    self.vocab.add(word)\n",
    "                if word not in self.word_counts[c]:\n",
    "                    self.word_counts[c][word] = 0.0\n",
    "\n",
    "                self.word_counts[c][word] += count\n",
    "\n",
    "    # function to actually output the class label for new data.\n",
    "    def predict(self, X):\n",
    "        result = []\n",
    "        # Given a document...\n",
    "        for x in X:\n",
    "            counts = self.get_word_counts(self.tokenize(x))\n",
    "            spam_score = 0\n",
    "            ham_score = 0\n",
    "            # We iterate through each of the words...\n",
    "            for word, _ in counts.items():\n",
    "                if word not in self.vocab: continue\n",
    "                # ... and compute log p(w_i|Spam), and sum them all up. The same will happen for Ham\n",
    "                # add Laplace smoothing\n",
    "                # https://medium.com/syncedreview/applying-multinomial-naive-bayes-to-nlp-problems-a-practical-explanation-4f5271768ebf\n",
    "                log_w_given_spam = math.log( (self.word_counts['spam'].get(word, 0.0) + 1) / (self.num_messages['spam'] + len(self.vocab)) )\n",
    "                log_w_given_ham = math.log( (self.word_counts['ham'].get(word, 0.0) + 1) / (self.num_messages['ham'] + len(self.vocab)) )\n",
    "\n",
    "                spam_score += log_w_given_spam\n",
    "                ham_score += log_w_given_ham\n",
    "            \n",
    "            # Then we add the log class priors...\n",
    "            spam_score += self.log_class_priors['spam']\n",
    "            ham_score += self.log_class_priors['ham']\n",
    "\n",
    "            # ... and check to see which score is bigger for that document.\n",
    "            # Whichever is larger, that is the predicted label!\n",
    "            if spam_score > ham_score:\n",
    "                result.append('spam')\n",
    "            else:\n",
    "                result.append('ham')\n",
    "        return result\n",
    "        \n",
    "\n",
    "# TODO: Fill in the below function to make a prediction, \n",
    "# your answer should match the final number in the below output (0.9641)\n",
    "if __name__ == '__main__':\n",
    "    pass"
   ]
  },
  {
   "cell_type": "markdown",
   "metadata": {},
   "source": [
    "### Solution"
   ]
  },
  {
   "cell_type": "code",
   "execution_count": 8,
   "metadata": {},
   "outputs": [
    {
     "name": "stdout",
     "output_type": "stream",
     "text": [
      "  label                                               text\n",
      "0   ham  Go until jurong point, crazy.. Available only ...\n",
      "1   ham                      Ok lar... Joking wif u oni...\n",
      "2  spam  Free entry in 2 a wkly comp to win FA Cup fina...\n",
      "3   ham  U dun say so early hor... U c already then say...\n",
      "4   ham  Nah I don't think he goes to usf, he lives aro...\n",
      "5572\n",
      "{'spam': 567, 'ham': 3612}\n",
      "0.9641\n"
     ]
    }
   ],
   "source": [
    "if __name__ == '__main__':\n",
    "    from sklearn.model_selection import train_test_split\n",
    "\n",
    "    # import/clean/label your data\n",
    "    data = pd.read_csv('dataset/spam.csv',encoding='latin-1')\n",
    "    data = data.drop([\"Unnamed: 2\", \"Unnamed: 3\", \"Unnamed: 4\"], axis=1)\n",
    "    data = data.rename(columns={\"v1\":'label', \"v2\":'text'})\n",
    "    print(data.head())\n",
    "    tags = data[\"label\"]\n",
    "    texts = data[\"text\"]\n",
    "\n",
    "    # create texts and tags\n",
    "    X, y = texts, tags\n",
    "    print(len(X))\n",
    "    \n",
    "    # transform text into numerical vectors\n",
    "    X_train, X_test, y_train, y_test = train_test_split(X, y, random_state=1)\n",
    "    \n",
    "    # instantiate your SpamDetector\n",
    "    MNB = SpamDetector()\n",
    "    # fit to model, with the trained part of the dataset\n",
    "    MNB.fit(X_train.values, y_train.values)\n",
    "    print(MNB.num_messages)\n",
    "#     print(MNB.word_counts)\n",
    "\n",
    "    # make predictions\n",
    "    pred = MNB.predict(X_test.values)\n",
    "    true = y_test.values\n",
    "    # test for accuracy\n",
    "    accuracy = sum(1 for i in range(len(pred)) if pred[i] == true[i]) / float(len(pred))\n",
    "    print(\"{0:.4f}\".format(accuracy))\n"
   ]
  },
  {
   "cell_type": "markdown",
   "metadata": {},
   "source": [
    "## Activity: use sklearn CountVectorizer and MultinomialNB to spam email dataset\n",
    "\n",
    "- Article: [Vectorization, Multinomial Naive Bayes Classifier and Evaluation](https://www.ritchieng.com/machine-learning-multinomial-naive-bayes-vectorization/)\n",
    "\n",
    "As we've seen with previous topics, sklearn has a lot of built in functionality that can save us from writing the code from scratch. We are going to solve the same problem in the previous activity, but using sklearn!\n",
    "\n",
    "For example, the SpamDectector class in the previous activity is an example of a **Multinomial Naive Bayes (MNB)** model. An MNB lets us know that each conditional probability we're looking at (i.e. $P(spam | w_1, w_2, ..., w_n)$) is a multinomial (several terms, polynomial) distribution, rather than another type distribution.\n",
    "\n",
    "##### In groups of 3, complete the activity by using the provided starter code and following the steps below:\n",
    "\n",
    "1. Split the dataset\n",
    "\n",
    "from sklearn.cross_validation import train_test_split\n",
    "X_train, X_test, y_train, y_test = train_test_split(X, y, random_state=1)\n",
    "\n",
    "2. Vectorize the dataset : vect = CountVectorizer()\n",
    "\n",
    "3. Transform training data into a document-term matrix (BoW): X_train_dtm = vect.fit_transform(X_train)\n",
    "\n",
    "4. Build and evaluate the model\n",
    "\n",
    "#### Hints:\n",
    "\n",
    "- Remember how you prepared/cleaned/labeled the dataset, created texts and tags, and split the data innto train vs test from the previous activity. You'll need to do so again here\n",
    "- Review the [CountVectorizer documentation](https://scikit-learn.org/stable/modules/generated/sklearn.feature_extraction.text.CountVectorizer.html) to see how you can transform text into numerical vectors\n",
    "- Need more help? Check out this [MNB Vectorization](https://www.ritchieng.com/machine-learning-multinomial-naive-bayes-vectorization/) article and see what you can use from it."
   ]
  },
  {
   "cell_type": "code",
   "execution_count": 10,
   "metadata": {},
   "outputs": [
    {
     "name": "stdout",
     "output_type": "stream",
     "text": [
      "  label                                               text\n",
      "0   ham  Go until jurong point, crazy.. Available only ...\n",
      "1   ham                      Ok lar... Joking wif u oni...\n",
      "2  spam  Free entry in 2 a wkly comp to win FA Cup fina...\n",
      "3   ham  U dun say so early hor... U c already then say...\n",
      "4   ham  Nah I don't think he goes to usf, he lives aro...\n",
      "  (0, 3286)\t1\n",
      "  (0, 4747)\t2\n",
      "  (0, 1896)\t1\n",
      "  (0, 875)\t2\n",
      "  (0, 6599)\t2\n",
      "  (0, 801)\t1\n",
      "  (0, 5258)\t1\n",
      "  (0, 7209)\t3\n",
      "  (0, 1559)\t1\n",
      "  (0, 913)\t1\n",
      "  (0, 6623)\t3\n",
      "  (0, 1050)\t1\n",
      "  (0, 5980)\t1\n",
      "  (0, 3530)\t1\n",
      "  (0, 919)\t1\n",
      "  (0, 802)\t1\n",
      "  (0, 819)\t1\n",
      "  (0, 5712)\t1\n",
      "  (0, 6727)\t1\n",
      "  (0, 2112)\t1\n",
      "  (0, 5065)\t2\n",
      "  (0, 7373)\t1\n",
      "  (0, 4176)\t2\n",
      "  (0, 1535)\t2\n",
      "  (0, 6604)\t1\n",
      "  :\t:\n",
      "  (4176, 4747)\t1\n",
      "  (4176, 3252)\t1\n",
      "  (4176, 3416)\t1\n",
      "  (4176, 2304)\t1\n",
      "  (4176, 6638)\t1\n",
      "  (4176, 4450)\t1\n",
      "  (4176, 7163)\t1\n",
      "  (4176, 4219)\t1\n",
      "  (4176, 1590)\t1\n",
      "  (4176, 3439)\t1\n",
      "  (4176, 4833)\t1\n",
      "  (4176, 4894)\t1\n",
      "  (4177, 3647)\t1\n",
      "  (4177, 3252)\t1\n",
      "  (4177, 6074)\t1\n",
      "  (4177, 4125)\t1\n",
      "  (4177, 3162)\t1\n",
      "  (4177, 4766)\t1\n",
      "  (4177, 1848)\t1\n",
      "  (4177, 5232)\t1\n",
      "  (4177, 6953)\t1\n",
      "  (4178, 4274)\t1\n",
      "  (4178, 7295)\t1\n",
      "  (4178, 6055)\t1\n",
      "  (4178, 1695)\t1\n"
     ]
    },
    {
     "data": {
      "text/plain": [
       "0.9856424982053122"
      ]
     },
     "execution_count": 10,
     "metadata": {},
     "output_type": "execute_result"
    }
   ],
   "source": [
    "## Solution\n",
    "\n",
    "from sklearn.naive_bayes import MultinomialNB\n",
    "from sklearn import metrics\n",
    "import pandas as pd\n",
    "from sklearn.feature_extraction.text import TfidfVectorizer, CountVectorizer\n",
    "# from sklearn.cross_validation import train_test_split\n",
    "from sklearn.model_selection import train_test_split\n",
    "from sklearn import metrics\n",
    "\n",
    "# Prepare the dataset\n",
    "data = pd.read_csv('dataset/spam.csv',encoding='latin-1')\n",
    "data = data.drop([\"Unnamed: 2\", \"Unnamed: 3\", \"Unnamed: 4\"], axis=1)\n",
    "data = data.rename(columns={\"v1\":'label', \"v2\":'text'})\n",
    "print(data.head())\n",
    "tags = data[\"label\"]\n",
    "texts = data[\"text\"]\n",
    "\n",
    "# create texts and tags\n",
    "X, y = texts, tags\n",
    "\n",
    "# split the data into train vs test\n",
    "X_train, X_test, y_train, y_test = train_test_split(X, y, random_state=1)\n",
    "\n",
    "# transform text into numerical vectors\n",
    "vectorizer = CountVectorizer()\n",
    "X_train_dtm = vectorizer.fit_transform(X_train)\n",
    "print(X_train_dtm)\n",
    "\n",
    "# instantiate Multinomial Naive Bayes model\n",
    "nb = MultinomialNB()\n",
    "# fit to model, with the trained part of the dataset\n",
    "nb.fit(X_train_dtm, y_train)\n",
    "X_test_dtm = vectorizer.transform(X_test)\n",
    "# make prediction\n",
    "y_pred_class = nb.predict(X_test_dtm)\n",
    "# test accurarcy of prediction\n",
    "metrics.accuracy_score(y_test, y_pred_class)"
   ]
  },
  {
   "cell_type": "code",
   "execution_count": null,
   "metadata": {},
   "outputs": [],
   "source": []
  },
  {
   "cell_type": "markdown",
   "metadata": {},
   "source": [
    "# Day 11: TFIDF and it's application\n",
    "https://github.com/Make-School-Courses/DS-2.1-Machine-Learning/blob/master/Notebooks/tf_idf_and_its_application.ipynb\n",
    "\n",
    "### Learning Objectives\n",
    "- How we can exctract keywords from corpus (collections of texts) using TF-IDF\n",
    "- Explain what is TF-IDF\n",
    "- Applications of keywords exctraction algorithm and Word2Vec\n",
    "\n",
    "### Review: What are the pre-processings to apply a machine learning algorithm on text data?\n",
    "1. The text must be parsed to words, called tokenization\n",
    "2. Then the words need to be encoded as integers or floating point values\n",
    "3. scikit-learn library offers easy-to-use tools to perform both tokenization and feature extraction of text data\n",
    "\n",
    "## What is TF-IDF Vectorizer?\n",
    "- Word counts are a good starting point, but are very basic\n",
    "\n",
    "An alternative is to calculate word frequencies, and by far the most popular method is called TF-IDF.\n",
    "\n",
    "**Term Frequency**: This summarizes how often a given word appears within a document\n",
    "\n",
    "**Inverse Document Frequency**: This downscales words that appear a lot across documents\n",
    "\n",
    "## Intuitive idea behind TF-IDF:\n",
    "- If a word appears frequently in a document, it's important. Give the word a high score\n",
    "- But if a word appears in many documents, it's not a unique identifier. Give the word a low score\n",
    "\n",
    "<img src=\"../static/screenshots/day11-1.png\">\n",
    "\n",
    "\n",
    "## Activity: Obtain the keywords from TF-IDF\n",
    "1. First obtain the TF-IDF matrix for given corpus\n",
    "2. Do column-wise addition\n",
    "3. Sort the score from highest to lowest\n",
    "4. Return the associated words based on step 3"
   ]
  },
  {
   "cell_type": "code",
   "execution_count": 20,
   "metadata": {},
   "outputs": [
    {
     "name": "stdout",
     "output_type": "stream",
     "text": [
      "[0.7  0.86 0.75] ['bright' 'blue' 'sun']\n",
      "[1 2 0]\n",
      "['blue' 'sun' 'bright']\n"
     ]
    }
   ],
   "source": [
    "import numpy as np\n",
    "\n",
    "def sort_dic_by_value(dictionary):\n",
    "    key_list = np.array(list(dictionary.keys()))\n",
    "    val_list = np.array(list(dictionary.values()))\n",
    "    print(val_list, key_list)\n",
    "    ind_sorted_val = np.argsort(val_list)[::-1]\n",
    "    print(ind_sorted_val)\n",
    "    return key_list[ind_sorted_val]\n",
    "\n",
    "D = {'bright': 0.7, 'blue': 0.86, 'sun': 0.75}\n",
    "print(sort_dic_by_value(D))"
   ]
  },
  {
   "cell_type": "markdown",
   "metadata": {},
   "source": [
    "## Using SKLearn"
   ]
  },
  {
   "cell_type": "code",
   "execution_count": 23,
   "metadata": {},
   "outputs": [
    {
     "name": "stdout",
     "output_type": "stream",
     "text": [
      "[[0.         0.78528828 0.         0.6191303  0.        ]\n",
      " [0.70710678 0.         0.         0.         0.70710678]\n",
      " [0.53256952 0.         0.         0.65782931 0.53256952]\n",
      " [0.36626037 0.         0.57381765 0.         0.73252075]]\n",
      "['bright', 'bule', 'shining', 'sky', 'sun']\n",
      "[('sun', 1.9721970507561841), ('bright', 1.605936677684143), ('sky', 1.27695960978985)]\n"
     ]
    }
   ],
   "source": [
    "from sklearn.feature_extraction.text import TfidfVectorizer, CountVectorizer\n",
    "import numpy as np\n",
    "\n",
    "def keyword_sklearn(docs, k):\n",
    "    vectorizer = TfidfVectorizer(stop_words='english')\n",
    "    tfidf_matrix = vectorizer.fit_transform(docs)\n",
    "    print(tfidf_matrix.toarray())\n",
    "    print(vectorizer.get_feature_names())\n",
    "    tfidf_scores = np.sum(tfidf_matrix, axis=0)\n",
    "    tfidf_scores = np.ravel(tfidf_scores)\n",
    "    return sorted(dict(zip(vectorizer.get_feature_names(), tfidf_scores)).items(), key=lambda x: x[1], reverse=True)[:k]\n",
    "\n",
    "documnets = ['The sky is bule', 'The sun is bright', 'The sun in the sky is bright', 'we can see the shining sun, the bright sun']\n",
    "\n",
    "print(keyword_sklearn(documnets, 3))"
   ]
  },
  {
   "cell_type": "markdown",
   "metadata": {},
   "source": [
    "## Word2Vec\n",
    "- Data Scientists have assigned a vector to each english word\n",
    "- This process of assignning vectors to each word is called Word2Vec\n",
    "- In DS 2.4, we will learn how they accomplished Word2Vec task\n",
    "- Download this huge Word2Vec file: https://nlp.stanford.edu/projects/glove/\n",
    "- Do not open the extracted file\n",
    "\n",
    "## What is the property of vectors associated to each word in Word2Vec?\n",
    "- Words with similar meanings would be closer to each other in Euclidean Space\n",
    "- For example if $V_{pizza}$, $V_{food}$ and $V_{sport}$ represent the vector associated to pizza, food and sport then:\n",
    "\n",
    "${\\| V_{pizza} - V_{food}}\\|$ < ${\\| V_{pizza} - V_{sport}}\\|$\n",
    "\n",
    "## Acitivity: Obtain the vector associated to pizza in Glove"
   ]
  },
  {
   "cell_type": "code",
   "execution_count": 33,
   "metadata": {},
   "outputs": [
    {
     "name": "stdout",
     "output_type": "stream",
     "text": [
      "pizza\n",
      "[0.0068727, -0.21634, 0.27831, -0.26192, 0.22884, 0.89332, 0.4131, 0.27377, 0.22652, 1.5041, -0.58059, 0.56083, -0.18432, 0.27738, -0.10709, -0.13519, 0.023817, 1.1765, -0.12659, 0.043173, 0.23242, -0.63213, 0.40228, -0.20605, 0.46381, -0.12991, -0.68031, -0.010371, 0.50033, -0.32266, 0.24053, 0.40178, 0.12051, -0.13791, 0.40821, 0.54735, -0.25946, 0.020254, 0.21249, 0.91965, -0.21202, 0.66568, 0.25879, -0.36124, -0.10977, 0.87492, -0.089425, 0.39184, -0.32589, -0.22331, -0.17504, 0.074762, 0.45271, 0.085476, -0.079526, -0.23986, -0.010322, 0.089974, 0.29794, 0.26672, -0.044288, -0.082716, 0.20801, 0.38404, 0.15281, -1.1292, -0.094527, 0.16901, -0.018155, 0.31023, -0.095716, 0.32587, -0.2225, -0.040376, -0.52201, -0.040547, -0.2473, 0.059596, 0.31592, 0.48751, 0.14681, -0.29337, 0.61309, -0.7844, -0.16297, 0.042847, 0.90914, 0.70536, -0.44725, -0.3035, -0.26998, -0.32488, 0.10539, -0.24494, -0.023413, 0.51872, -0.0060798, -0.039611, 0.28618, 0.17071, -0.661, -0.1303, 0.59381, 0.33792, -0.016678, -0.31536, 0.92849, -0.19661, 0.14412, 0.141, 0.095604, -0.65534, -0.66278, -0.068806, 0.57471, -0.34244, 0.30524, 0.070219, -0.31053, 0.25418, 0.16362, 0.48417, 0.15889, 0.20571, -0.24816, -0.52146, 0.85366, 0.029624, -0.20695, 0.68848, -0.19801, -0.55261, 0.25334, 0.23374, -0.47797, -0.58102, -0.30506, -0.24182, -0.089947, 0.020074, -2.442, -0.38229, 0.38005, 0.45891, -0.10147, -0.46439, -0.47909, 0.48057, 0.66937, 0.16773, 0.23094, -0.0037971, 0.11692, 0.19027, 0.22866, -0.10451, 0.16913, 0.1929, 0.21792, 0.3183, -0.69639, -0.039663, -0.034875, -0.34398, -0.033303, -0.44731, 0.39323, 0.28786, 0.41256, -0.042063, 0.053043, 0.032974, 0.13665, -0.47123, -0.59784, -0.15469, -0.043701, -0.28768, -0.5192, -0.81342, 0.28083, -0.20795, -0.0063995, -0.2165, -0.18462, -0.12112, 0.16446, 0.1074, -0.21256, -0.079728, -0.26936, 0.1213, -0.41473, -0.3929, 0.11391, 0.017356, 0.6225, 0.39374, 0.18043, 0.06208, -0.048457, -0.13303, -0.28215, 0.23984, 0.19951, 0.079811, -0.24321, 0.52115, 0.37684, -0.16641, 0.18813, 0.38081, -0.068178, 0.17925, 0.26455, -0.19848, 0.23375, -0.075531, -0.26779, 0.20576, -0.14164, 0.18145, -0.27216, -0.27441, 0.07846, -0.15033, -1.008, 0.010385, -0.42617, -0.2697, -0.1037, 0.23114, 0.31361, -0.64973, 0.081318, -0.20336, -0.21733, -0.47194, -0.22844, 0.3207, 0.47024, 0.19194, -0.38945, -0.53102, 0.30868, 0.4516, 0.35045, -0.41879, -0.6142, -0.25174, 0.1445, -0.37202, -0.29062, -0.24497, 0.11433, 0.51326, -0.10476, 0.070229, -0.33251, -0.26181, -0.22115, -0.098211, -0.8274, -0.73995, -0.2146, 0.61523, -0.36608, -0.043749, -1.0097, 0.19351, -0.54799, 0.28998, -0.07631, 0.075785, -0.63011, 0.084629, -0.021395, -0.060536, 0.48363, 0.16488, 0.42662, -0.1786, 0.14382, 0.3153, 0.017293, 0.6706, 0.49765, 0.34787, -0.62071, 0.20983, 0.71446, 0.071448, -0.14597, 0.50002, -0.42449, -0.3517, 0.10134, -0.5875, 0.11043, 0.47559]\n",
      "300\n"
     ]
    }
   ],
   "source": [
    "import codecs\n",
    "\n",
    "glove_dataset_path = '/Users/macbookpro15/Desktop/MakeSchool/Term6/DS2.1/classwork/dataset/glove.840B.300d.txt'\n",
    "\n",
    "with codecs.open(glove_dataset_path, 'r') as f:\n",
    "    for c, r in enumerate(f):\n",
    "        sr = r.split()\n",
    "        if sr[0] == 'pizza':\n",
    "            print(sr[0])\n",
    "            print([float(i) for i in sr[1:]])\n",
    "            print(len([float(i) for i in sr[1:]]))\n",
    "            break"
   ]
  },
  {
   "cell_type": "markdown",
   "metadata": {},
   "source": [
    "## Activity: Obtain the vectors associated to pizza, food and sport in Glove"
   ]
  },
  {
   "cell_type": "code",
   "execution_count": 34,
   "metadata": {},
   "outputs": [
    {
     "name": "stdout",
     "output_type": "stream",
     "text": [
      "{'food': [-0.43512, 0.028351, 0.4911, -0.35168, -0.11578, 1.0369, -0.09755, 0.086624, -0.1789, 2.4555, -1.2798, 0.021074, -0.03225, 0.094673, -0.14, -0.52143, 0.00066447, 1.8051, -0.22604, 0.33227, 0.00041163, 0.062654, 0.14973, -0.5026, 0.089701, -0.26908, -0.083594, -0.16677, -0.17036, -0.32049, -0.23586, -0.40395, 0.32683, -0.21712, 0.098576, 0.47552, 0.092994, -0.061034, 0.12673, 0.60856, -0.0067936, -0.21831, 0.021751, -0.24858, -0.035244, 0.13692, -0.37109, 0.54421, 0.040017, 0.13992, 0.039967, -0.31745, 0.24408, -0.2355, 0.24884, -0.31929, 0.11282, -0.010198, -0.050538, -0.1155, 0.30273, -0.61441, 0.016135, 0.010675, 0.15108, -1.1759, 0.097104, 0.071706, 0.19795, 0.27253, -0.22122, 0.64478, -0.066252, -0.29403, 0.16281, -0.0078554, -0.14986, -0.11364, 0.36459, 0.13723, 0.46612, 0.26157, 0.0065022, -0.67068, -0.075247, -0.50802, -0.049202, 0.90222, -0.30085, 0.15453, -0.44762, -0.30997, -0.14006, -0.48079, 0.07838, -0.20951, -0.07558, -0.37064, 0.48714, -0.31549, -0.51954, -0.23939, -0.066667, 0.18613, -0.0022506, -1.1914, 0.88962, 0.077849, -0.028469, -0.20316, 0.1663, -0.51348, -0.5587, -0.23375, -0.053809, -0.22482, -0.16111, -0.055308, 0.25306, -0.26012, -0.44041, 0.45938, 0.2086, -0.37273, 0.18066, -0.68302, 0.6074, -0.43613, 0.21322, 0.080519, 0.23692, -0.82568, 0.60825, 0.28487, -0.21523, -0.25527, -0.02536, -0.20474, 0.17836, -0.46982, -1.5028, -0.13935, 0.63359, 0.077543, 0.23253, -0.9455, -0.31292, 0.1868, -0.15495, 0.044739, 0.039165, 0.25441, 0.3317, -0.072885, 0.26937, -0.46139, 0.67444, 0.040953, 0.17357, 0.24625, 0.11436, -0.019437, 0.084576, -0.25671, -0.19088, -0.0097901, 0.4067, -0.52662, 0.33074, -0.016063, 0.50736, -0.078741, -0.10957, -0.16075, -0.57401, 0.32421, 0.26512, 0.22437, 0.168, 0.0083381, 0.29091, -0.8531, -0.10966, 0.012598, 0.19428, -0.34592, 0.15497, 0.11221, -0.019593, -0.51683, -0.27562, -0.29003, -0.29849, -0.74871, -0.43796, 0.53964, 0.25437, 0.43718, 0.56013, -0.24569, -0.026945, 0.35646, 0.15037, 0.10629, 0.31965, 0.35652, 0.029006, 0.83085, 0.78779, -0.58642, -0.078122, 0.19765, -0.14726, -0.13157, -0.068822, -0.30101, 0.32966, -0.19465, -0.15736, 0.16771, -0.39267, 0.31687, 0.080543, -0.021005, -0.028093, -0.0086245, -0.11506, 0.078586, -0.43331, 0.15771, -0.30605, -0.32882, 0.18208, -0.39534, 0.33031, -0.099457, -0.16041, 0.057775, 0.20208, -0.3808, -0.23455, -0.025349, -0.23527, -0.081126, 0.035611, 0.56273, -0.096986, -0.38146, -0.62962, -0.20775, 0.05543, 0.44946, -0.27455, -0.11277, 0.31322, 0.71544, 0.022552, 0.0783, -0.25574, -0.23078, -0.76146, -0.13497, -0.474, -0.11224, 0.11929, 0.45973, -0.21328, -0.039544, -0.11253, -0.060995, -0.52906, 0.18361, 0.059157, -0.31468, 0.10018, 0.43707, -0.064725, 0.50211, 0.29269, 0.8572, -0.22293, 0.11703, -0.036008, -0.30947, -0.069151, 0.43019, 0.67241, -0.083894, -0.2771, 0.1445, 0.26701, 0.32489, -0.077239, 0.078217, -0.28737, 0.30253, 0.21972, -0.47151, 0.4301, 0.36573], 'sport': [0.61275, 0.31162, 0.27068, -0.22297, 0.45731, 0.016208, 0.22091, 0.12843, -0.43509, 1.8299, -0.60721, 0.060513, 0.25038, 0.39679, 0.46771, -0.13166, -0.11571, 0.7405, 0.26475, -0.11693, -0.64858, -0.54887, 0.54541, -0.20667, -0.086033, 0.27114, -0.1618, 0.22554, -0.17955, 0.36903, 0.12691, -0.1174, 0.019318, -0.28953, 0.30217, -0.47576, 0.54093, -0.38579, -0.21052, 0.4893, -0.15147, 0.28609, 0.22013, 0.75681, -0.14469, -0.16423, -0.095192, 0.63646, 0.2875, 0.088499, -0.21929, 0.10507, 0.41082, -0.28774, 0.1258, 0.063986, 0.44362, 0.34902, 0.19372, 0.16683, -0.12552, 0.36517, 0.31794, 0.2044, -0.15177, -0.18454, 0.078573, -0.28761, -0.2069, -0.36376, -0.52133, -0.48128, 0.15204, 0.15267, -0.37969, 0.14952, -0.014321, 0.28997, -0.28155, 0.4166, -0.35878, -0.70023, -0.17649, 0.39382, 0.1224, 0.18871, -0.26526, 0.91397, -0.01213, -0.055295, -0.11003, 0.20884, -0.037053, 0.01181, 0.10168, -0.62347, -0.0086453, -0.065524, 0.4229, 0.28113, -0.12605, -0.14138, -0.27168, -0.17355, -0.099353, -1.1769, 0.23814, 0.37717, 0.13348, 0.18683, -0.10739, -0.55708, -0.2436, -0.17149, -0.062647, -0.060539, 0.038614, -0.15553, 0.42478, 0.055208, 0.060124, -0.0488, -0.31571, -0.49472, 0.12172, 0.59352, -0.18675, -0.0017853, 0.5732, -0.16613, 0.47102, 0.019576, -0.38946, -0.61033, 0.35581, -0.43863, -0.35678, -0.54695, 0.19365, 0.33768, -1.7134, -0.025204, 0.92273, 0.27697, 0.4186, -0.14367, 0.65432, 0.065611, -0.17391, 0.35995, -0.49654, 0.38485, 0.46463, 0.17546, -0.017041, -0.07243, -0.14917, 0.20194, -0.28059, 0.059065, 0.32861, -0.55298, 0.5258, -0.57452, 0.34638, -0.0487, -0.385, -0.10107, -0.18656, -0.32187, -0.48726, -0.043128, -0.2229, 0.088367, 0.2682, -0.051919, -0.24149, 0.14255, 0.10829, 0.27343, -0.039065, 0.25164, 0.1256, 0.032913, -0.47683, -0.17763, 0.25448, 0.60327, -0.10467, -0.28146, 0.254, -0.25732, 0.041916, -0.63216, -0.10634, 0.30662, 0.40009, -0.574, 0.39424, 0.58208, 0.37425, 0.31072, 0.43803, 0.0041596, -0.6017, -0.090444, 0.23195, 0.0064566, -0.43496, -0.30735, -0.3633, 0.10456, -0.11538, -0.24502, -0.090916, 0.42796, -0.12982, 0.23451, -0.72916, 0.025435, 0.42421, 0.095135, 0.09271, -0.42076, -0.76232, 0.094191, -0.16968, 0.050921, 0.86174, 0.56093, -0.45083, 0.18556, -0.43674, 0.14425, -0.22978, -0.11217, -0.40731, 0.35943, 0.039032, 0.71693, -0.35826, -0.41117, 0.37001, -0.0030921, -0.42987, 0.24203, -0.15659, -0.15211, -0.61453, 0.53476, 0.61175, -0.47458, -0.36237, -0.045465, -0.054131, 0.28169, 0.089874, -0.047726, -0.23881, 0.34993, 0.70692, 0.2221, -0.11816, -0.00085544, 0.017349, 0.0064164, 0.058943, 0.19897, -0.066186, -0.037683, -0.44109, -0.43301, 0.025892, -0.033744, -0.08068, 0.1622, 0.43503, 0.25968, -0.20914, -0.048581, -0.48503, -0.31875, 0.075417, 0.52741, -0.10098, -0.38519, -0.16721, -0.038992, -0.11484, -0.46317, -0.519, -0.48945, -0.16657, -1.4382, 0.031249, 0.12955, -0.15718, -0.5244, 0.38711, 0.20144], 'pizza': [0.0068727, -0.21634, 0.27831, -0.26192, 0.22884, 0.89332, 0.4131, 0.27377, 0.22652, 1.5041, -0.58059, 0.56083, -0.18432, 0.27738, -0.10709, -0.13519, 0.023817, 1.1765, -0.12659, 0.043173, 0.23242, -0.63213, 0.40228, -0.20605, 0.46381, -0.12991, -0.68031, -0.010371, 0.50033, -0.32266, 0.24053, 0.40178, 0.12051, -0.13791, 0.40821, 0.54735, -0.25946, 0.020254, 0.21249, 0.91965, -0.21202, 0.66568, 0.25879, -0.36124, -0.10977, 0.87492, -0.089425, 0.39184, -0.32589, -0.22331, -0.17504, 0.074762, 0.45271, 0.085476, -0.079526, -0.23986, -0.010322, 0.089974, 0.29794, 0.26672, -0.044288, -0.082716, 0.20801, 0.38404, 0.15281, -1.1292, -0.094527, 0.16901, -0.018155, 0.31023, -0.095716, 0.32587, -0.2225, -0.040376, -0.52201, -0.040547, -0.2473, 0.059596, 0.31592, 0.48751, 0.14681, -0.29337, 0.61309, -0.7844, -0.16297, 0.042847, 0.90914, 0.70536, -0.44725, -0.3035, -0.26998, -0.32488, 0.10539, -0.24494, -0.023413, 0.51872, -0.0060798, -0.039611, 0.28618, 0.17071, -0.661, -0.1303, 0.59381, 0.33792, -0.016678, -0.31536, 0.92849, -0.19661, 0.14412, 0.141, 0.095604, -0.65534, -0.66278, -0.068806, 0.57471, -0.34244, 0.30524, 0.070219, -0.31053, 0.25418, 0.16362, 0.48417, 0.15889, 0.20571, -0.24816, -0.52146, 0.85366, 0.029624, -0.20695, 0.68848, -0.19801, -0.55261, 0.25334, 0.23374, -0.47797, -0.58102, -0.30506, -0.24182, -0.089947, 0.020074, -2.442, -0.38229, 0.38005, 0.45891, -0.10147, -0.46439, -0.47909, 0.48057, 0.66937, 0.16773, 0.23094, -0.0037971, 0.11692, 0.19027, 0.22866, -0.10451, 0.16913, 0.1929, 0.21792, 0.3183, -0.69639, -0.039663, -0.034875, -0.34398, -0.033303, -0.44731, 0.39323, 0.28786, 0.41256, -0.042063, 0.053043, 0.032974, 0.13665, -0.47123, -0.59784, -0.15469, -0.043701, -0.28768, -0.5192, -0.81342, 0.28083, -0.20795, -0.0063995, -0.2165, -0.18462, -0.12112, 0.16446, 0.1074, -0.21256, -0.079728, -0.26936, 0.1213, -0.41473, -0.3929, 0.11391, 0.017356, 0.6225, 0.39374, 0.18043, 0.06208, -0.048457, -0.13303, -0.28215, 0.23984, 0.19951, 0.079811, -0.24321, 0.52115, 0.37684, -0.16641, 0.18813, 0.38081, -0.068178, 0.17925, 0.26455, -0.19848, 0.23375, -0.075531, -0.26779, 0.20576, -0.14164, 0.18145, -0.27216, -0.27441, 0.07846, -0.15033, -1.008, 0.010385, -0.42617, -0.2697, -0.1037, 0.23114, 0.31361, -0.64973, 0.081318, -0.20336, -0.21733, -0.47194, -0.22844, 0.3207, 0.47024, 0.19194, -0.38945, -0.53102, 0.30868, 0.4516, 0.35045, -0.41879, -0.6142, -0.25174, 0.1445, -0.37202, -0.29062, -0.24497, 0.11433, 0.51326, -0.10476, 0.070229, -0.33251, -0.26181, -0.22115, -0.098211, -0.8274, -0.73995, -0.2146, 0.61523, -0.36608, -0.043749, -1.0097, 0.19351, -0.54799, 0.28998, -0.07631, 0.075785, -0.63011, 0.084629, -0.021395, -0.060536, 0.48363, 0.16488, 0.42662, -0.1786, 0.14382, 0.3153, 0.017293, 0.6706, 0.49765, 0.34787, -0.62071, 0.20983, 0.71446, 0.071448, -0.14597, 0.50002, -0.42449, -0.3517, 0.10134, -0.5875, 0.11043, 0.47559]}\n"
     ]
    }
   ],
   "source": [
    "import codecs\n",
    "\n",
    "with codecs.open(glove_dataset_path, 'r') as f:\n",
    "    ls = {}\n",
    "    for c, r in enumerate(f):\n",
    "        sr = r.split()\n",
    "        if sr[0] in ['pizza', 'food', 'sport']:\n",
    "            ls[sr[0]] =[float(i) for i in sr[1:]]\n",
    "        if len(ls) == 3:\n",
    "            break\n",
    "\n",
    "print(ls)"
   ]
  },
  {
   "cell_type": "markdown",
   "metadata": {},
   "source": [
    "## Activty: Show that the vector of pizza is closer to vector of food than vector of sport"
   ]
  },
  {
   "cell_type": "code",
   "execution_count": 30,
   "metadata": {},
   "outputs": [
    {
     "data": {
      "text/plain": [
       "6.312737677708336"
      ]
     },
     "execution_count": 30,
     "metadata": {},
     "output_type": "execute_result"
    }
   ],
   "source": [
    "import numpy as np\n",
    "\n",
    "np.linalg.norm(np.array(ls['pizza']) - np.array(ls['food']))"
   ]
  },
  {
   "cell_type": "code",
   "execution_count": 31,
   "metadata": {},
   "outputs": [
    {
     "data": {
      "text/plain": [
       "8.817056623492523"
      ]
     },
     "execution_count": 31,
     "metadata": {},
     "output_type": "execute_result"
    }
   ],
   "source": [
    "np.linalg.norm(np.array(ls['pizza']) - np.array(ls['sport']))"
   ]
  },
  {
   "cell_type": "code",
   "execution_count": 32,
   "metadata": {},
   "outputs": [
    {
     "data": {
      "text/plain": [
       "8.303718155175721"
      ]
     },
     "execution_count": 32,
     "metadata": {},
     "output_type": "execute_result"
    }
   ],
   "source": [
    "np.linalg.norm(np.array(ls['food']) - np.array(ls['sport']))"
   ]
  },
  {
   "cell_type": "code",
   "execution_count": null,
   "metadata": {},
   "outputs": [],
   "source": []
  }
 ],
 "metadata": {
  "kernelspec": {
   "display_name": "Python 3",
   "language": "python",
   "name": "python3"
  },
  "language_info": {
   "codemirror_mode": {
    "name": "ipython",
    "version": 3
   },
   "file_extension": ".py",
   "mimetype": "text/x-python",
   "name": "python",
   "nbconvert_exporter": "python",
   "pygments_lexer": "ipython3",
   "version": "3.7.4"
  }
 },
 "nbformat": 4,
 "nbformat_minor": 2
}
