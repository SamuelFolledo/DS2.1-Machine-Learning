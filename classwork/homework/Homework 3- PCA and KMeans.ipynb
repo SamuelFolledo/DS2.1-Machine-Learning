{
 "cells": [
  {
   "cell_type": "markdown",
   "metadata": {},
   "source": [
    "## Apply PCA and Clustering to Wholesale Customer Data\n",
    "https://github.com/Make-School-Courses/DS-2.1-Machine-Learning/blob/master/Assignments/Home_Work_PCA_Kmeans.ipynb\n",
    "\n",
    "In this homework, we'll examine the [Wholesale Customers Dataset](https://archive.ics.uci.edu/ml/datasets/Wholesale+customers), which we'll get from the UCI Machine Learning Datasets repository. This dataset contains the purchase records from clients of a wholesale distributor. It details the total annual purchases across categories seen in the data dictionary below:\n",
    "\n",
    "**Category** | **Description**\n",
    ":-----|:-----\n",
    "CHANNEL| 1= Hotel/Restaurant/Cafe, 2=Retailer (Nominal)\n",
    "REGION| Geographic region of Portugal for each order (Nominal)\n",
    "FRESH| Annual spending (m.u.) on fresh products (Continuous)\n",
    "MILK| Annual spending (m.u.) on milk products (Continuous)\n",
    "GROCERY| Annual spending (m.u.)on grocery products (Continuous)\n",
    "FROZEN| Annual spending (m.u.)on frozen products (Continuous)\n",
    "DETERGENTS_PAPER| Annual spending (m.u.) on detergents and paper products (Continuous)\n",
    "DELICATESSEN| Annual spending (m.u.)on and delicatessen products (Continuous)\n",
    "\n",
    "\n",
    "**TASK**: Read in `wholesale_customers_data.csv` from the datasets folder and store in a dataframe. Store the `Channel` column in a separate variable, and then drop the Channel and Region columns from the dataframe. Scale the data and use PCA to engineer new features (Principal Components). Print out the explained variance for each principal component.\n",
    "\n",
    "## K-Means, but Without All the Supervision\n",
    "**Challenge**: Use K-Means clustering on the `wholesale_customers` dataset, and then again on a version of this dataset transformed by PCA.\n",
    "\n",
    "Read in the data from the `wholesale_customers_data.csv` file contained within the datasets folder.\n",
    "\n",
    "Store the `Channel` column in a separate variable, and then drop the `Region` and `Channel` columns from the dataframe. `Channel` will act as our labels to tell us what class of customer each datapoint actually is, in case we want to check the accuracy of our clustering.\n",
    "\n",
    "Scale the data, fit a k-means object to it, and then visualize the data and the clustering.\n",
    "\n",
    "Use PCA to transform the data, and then use k-means clustering on it to see if our results are any better.\n",
    "\n",
    "**Challenge**: Use the confusion matrix function to create a confusion matrix and see how accurate our clustering algorithms were. Which did better--scaled data, or data transformed by PCA?"
   ]
  },
  {
   "cell_type": "code",
   "execution_count": null,
   "metadata": {},
   "outputs": [],
   "source": []
  },
  {
   "cell_type": "markdown",
   "metadata": {},
   "source": [
    "## Task\n",
    "### Read in wholesale_customers_data.csv from the datasets folder and store in a dataframe"
   ]
  },
  {
   "cell_type": "code",
   "execution_count": 24,
   "metadata": {},
   "outputs": [
    {
     "data": {
      "text/html": [
       "<div>\n",
       "<style scoped>\n",
       "    .dataframe tbody tr th:only-of-type {\n",
       "        vertical-align: middle;\n",
       "    }\n",
       "\n",
       "    .dataframe tbody tr th {\n",
       "        vertical-align: top;\n",
       "    }\n",
       "\n",
       "    .dataframe thead th {\n",
       "        text-align: right;\n",
       "    }\n",
       "</style>\n",
       "<table border=\"1\" class=\"dataframe\">\n",
       "  <thead>\n",
       "    <tr style=\"text-align: right;\">\n",
       "      <th></th>\n",
       "      <th>Channel</th>\n",
       "      <th>Region</th>\n",
       "      <th>Fresh</th>\n",
       "      <th>Milk</th>\n",
       "      <th>Grocery</th>\n",
       "      <th>Frozen</th>\n",
       "      <th>Detergents_Paper</th>\n",
       "      <th>Delicassen</th>\n",
       "    </tr>\n",
       "  </thead>\n",
       "  <tbody>\n",
       "    <tr>\n",
       "      <th>0</th>\n",
       "      <td>2</td>\n",
       "      <td>3</td>\n",
       "      <td>12669</td>\n",
       "      <td>9656</td>\n",
       "      <td>7561</td>\n",
       "      <td>214</td>\n",
       "      <td>2674</td>\n",
       "      <td>1338</td>\n",
       "    </tr>\n",
       "    <tr>\n",
       "      <th>1</th>\n",
       "      <td>2</td>\n",
       "      <td>3</td>\n",
       "      <td>7057</td>\n",
       "      <td>9810</td>\n",
       "      <td>9568</td>\n",
       "      <td>1762</td>\n",
       "      <td>3293</td>\n",
       "      <td>1776</td>\n",
       "    </tr>\n",
       "    <tr>\n",
       "      <th>2</th>\n",
       "      <td>2</td>\n",
       "      <td>3</td>\n",
       "      <td>6353</td>\n",
       "      <td>8808</td>\n",
       "      <td>7684</td>\n",
       "      <td>2405</td>\n",
       "      <td>3516</td>\n",
       "      <td>7844</td>\n",
       "    </tr>\n",
       "    <tr>\n",
       "      <th>3</th>\n",
       "      <td>1</td>\n",
       "      <td>3</td>\n",
       "      <td>13265</td>\n",
       "      <td>1196</td>\n",
       "      <td>4221</td>\n",
       "      <td>6404</td>\n",
       "      <td>507</td>\n",
       "      <td>1788</td>\n",
       "    </tr>\n",
       "    <tr>\n",
       "      <th>4</th>\n",
       "      <td>2</td>\n",
       "      <td>3</td>\n",
       "      <td>22615</td>\n",
       "      <td>5410</td>\n",
       "      <td>7198</td>\n",
       "      <td>3915</td>\n",
       "      <td>1777</td>\n",
       "      <td>5185</td>\n",
       "    </tr>\n",
       "  </tbody>\n",
       "</table>\n",
       "</div>"
      ],
      "text/plain": [
       "   Channel  Region  Fresh  Milk  Grocery  Frozen  Detergents_Paper  Delicassen\n",
       "0        2       3  12669  9656     7561     214              2674        1338\n",
       "1        2       3   7057  9810     9568    1762              3293        1776\n",
       "2        2       3   6353  8808     7684    2405              3516        7844\n",
       "3        1       3  13265  1196     4221    6404               507        1788\n",
       "4        2       3  22615  5410     7198    3915              1777        5185"
      ]
     },
     "execution_count": 24,
     "metadata": {},
     "output_type": "execute_result"
    }
   ],
   "source": [
    "import pandas as pd\n",
    "\n",
    "df = pd.read_csv('../dataset/wholesale_customers_data.csv')\n",
    "df.head()"
   ]
  },
  {
   "cell_type": "markdown",
   "metadata": {},
   "source": [
    "### Store the Channel column in a separate variable"
   ]
  },
  {
   "cell_type": "code",
   "execution_count": 25,
   "metadata": {},
   "outputs": [
    {
     "data": {
      "text/plain": [
       "1    298\n",
       "2    142\n",
       "Name: Channel, dtype: int64"
      ]
     },
     "execution_count": 25,
     "metadata": {},
     "output_type": "execute_result"
    }
   ],
   "source": [
    "channel = df[\"Channel\"] #what you want to predict, \n",
    "df['Channel'].value_counts()"
   ]
  },
  {
   "cell_type": "markdown",
   "metadata": {},
   "source": [
    "### Drop the Channel and Region columns from the dataframe"
   ]
  },
  {
   "cell_type": "code",
   "execution_count": 26,
   "metadata": {},
   "outputs": [],
   "source": [
    "df = df.drop(['Channel', 'Region'], axis=1)"
   ]
  },
  {
   "cell_type": "markdown",
   "metadata": {},
   "source": [
    "### Scale the data and use PCA to engineer new features (Principal Components)\n",
    "- Use standard_scaler from Day 1 notes"
   ]
  },
  {
   "cell_type": "code",
   "execution_count": 27,
   "metadata": {},
   "outputs": [
    {
     "name": "stdout",
     "output_type": "stream",
     "text": [
      "[[ 0.05293319  0.52356777 -0.04111489 -0.58936716 -0.04356873 -0.06633906]\n",
      " [-0.39130197  0.54445767  0.17031835 -0.27013618  0.08640684  0.08915105]\n",
      " [-0.44702926  0.40853771 -0.0281571  -0.13753572  0.13323164  2.24329255]\n",
      " ...\n",
      " [ 0.20032554  1.31467078  2.34838631 -0.54337975  2.51121768  0.12145607]\n",
      " [-0.13538389 -0.51753572 -0.60251388 -0.41944059 -0.56977032  0.21304614]\n",
      " [-0.72930698 -0.5559243  -0.57322717 -0.62009417 -0.50488752 -0.52286938]]\n"
     ]
    }
   ],
   "source": [
    "from sklearn import preprocessing\n",
    "\n",
    "standard_scaler = preprocessing.StandardScaler()\n",
    "X_ss = standard_scaler.fit_transform(df) #scaled dataset\n",
    "print(X_ss)"
   ]
  },
  {
   "cell_type": "code",
   "execution_count": 80,
   "metadata": {},
   "outputs": [
    {
     "name": "stdout",
     "output_type": "stream",
     "text": [
      "[[-13.16529976  13.33401886]\n",
      " [  7.62263827  -2.7197538 ]\n",
      " [ 12.96276901   1.51952887]\n",
      " [-14.44942758  -3.57399434]\n",
      " [ 14.54015481   2.75032284]\n",
      " [ -7.51083475 -11.31012243]]\n"
     ]
    }
   ],
   "source": [
    "from sklearn.decomposition import PCA\n",
    "\n",
    "pca = PCA(n_components=2) #2 for x and y\n",
    "X_r = pca.fit_transform(X_ss.T) # What you get from pca, scaled dataset while preserving # turns scaled dataset into 2D to easily visualize data\n",
    "# X_r = pca.fit_transform(X_ss.T) #transpose\n",
    "print(X_r)"
   ]
  },
  {
   "cell_type": "markdown",
   "metadata": {},
   "source": [
    "### Print out the explained variance for each principal component."
   ]
  },
  {
   "cell_type": "code",
   "execution_count": 82,
   "metadata": {},
   "outputs": [
    {
     "name": "stdout",
     "output_type": "stream",
     "text": [
      "[175.21556203  67.15173367]\n",
      "[0.5389298  0.20654598]\n",
      "[0.5389298  0.74547579]\n"
     ]
    }
   ],
   "source": [
    "# how much information did we preserve?\n",
    "print(pca.explained_variance_)\n",
    "print(pca.explained_variance_ratio_)\n",
    "print(pca.explained_variance_ratio_.cumsum())"
   ]
  },
  {
   "cell_type": "markdown",
   "metadata": {},
   "source": [
    "## K-Means Without the Supervision\n",
    "**Challenge**: Use K-Means clustering on the wholesale_customers dataset, and then again on a version of this dataset transformed by PCA.\n",
    "\n",
    "Scale the data, fit a k-means object to it, and then visualize the data and the clustering.\n",
    "\n",
    "Use PCA to transform the data, and then use k-means clustering on it to see if our results are any better."
   ]
  },
  {
   "cell_type": "code",
   "execution_count": 12,
   "metadata": {},
   "outputs": [
    {
     "data": {
      "text/plain": [
       "<Figure size 640x480 with 1 Axes>"
      ]
     },
     "metadata": {},
     "output_type": "display_data"
    }
   ],
   "source": [
    "from sklearn.cluster import KMeans\n",
    "from scipy.spatial import distance\n",
    "import matplotlib.pyplot as plt\n",
    "import numpy as np\n",
    "\n",
    "def get_k_distortion(data, max_range):\n",
    "    distortions = []\n",
    "    K = range(1, max_range)\n",
    "    for k in K:\n",
    "        km = KMeans(n_clusters=k)\n",
    "        km.fit(data)\n",
    "        distortions.append(sum(np.min(distance.cdist(data, km.cluster_centers_, 'euclidean'), axis=1)) / data.shape[0])\n",
    "\n",
    "    plt.plot(K, distortions, 'bx-')\n",
    "    plt.xlabel('k')\n",
    "    plt.ylabel('Distortion')\n",
    "    plt.title('The Elbow Method showing the optimal k')\n",
    "    plt.show()\n",
    "    \n",
    "    \n",
    "get_k_distortion(df, 11)"
   ]
  },
  {
   "cell_type": "code",
   "execution_count": 13,
   "metadata": {},
   "outputs": [],
   "source": [
    "# Helper Methods\n",
    "\n",
    "def evaluate_model(confusion):\n",
    "    TN = confusion[0, 0]\n",
    "    FP = confusion[0, 1]\n",
    "    FN = confusion[1, 0]\n",
    "    TP = confusion[1, 1]\n",
    "    \n",
    "    accuray = ((TP + TN) / float(TP + TN + FP + FN))\n",
    "    precision = TP / float(TP + FP)\n",
    "    recall = TP / float(FN + TP) #important to be high in medical field\n",
    "    f1_score = 2 * precision * recall / float(precision + recall)\n",
    "    print(\"Accuracy: \\t\", accuray)\n",
    "    print(\"Precision: \\t\", precision)\n",
    "    print(\"Recall: \\t\", recall)\n",
    "    print(\"F1_score: \\t\", f1_score)\n",
    "#     return (accuray, precision, recall, f1_score) # All of these are better if they are closer to 1\n",
    "\n",
    "\n",
    "def get_confusion(y, X):\n",
    "    '''Get confusion matrix from a data\n",
    "    Parameters:\n",
    "                y is our target column\n",
    "                X is our feature columns\n",
    "    '''\n",
    "    # split X and y into training and testing sets\n",
    "    X_train, X_test, y_train, y_test = train_test_split(X, y, test_size=0.25, random_state=0) #split data such that 75% of data is to train, and 25% of data is for testing. Random_state //33m\n",
    "\n",
    "    logreg = LogisticRegression()\n",
    "    logreg.fit(X_train, y_train)\n",
    "\n",
    "    y_pred = logreg.predict(X_test)\n",
    "\n",
    "    # create confusion matrix\n",
    "    confusion = metrics.confusion_matrix(y_test, y_pred)\n",
    "    print(\"Confusion\\n\", confusion)\n",
    "    return confusion"
   ]
  },
  {
   "cell_type": "code",
   "execution_count": 18,
   "metadata": {},
   "outputs": [
    {
     "data": {
      "image/png": "[encoded data removed]",
      "text/plain": [
       "<Figure size 432x288 with 1 Axes>"
      ]
     },
     "metadata": {
      "needs_background": "light"
     },
     "output_type": "display_data"
    }
   ],
   "source": [
    "import matplotlib.pyplot as plt\n",
    "\n",
    "\n",
    "\n",
    "# Visualize the Data and Clusterization\n",
    "plt.scatter(X_ss[:, 0], X_ss[:, 1])\n",
    "plt.title('K-Means Clustering without PCA')\n",
    "plt.show()"
   ]
  },
  {
   "cell_type": "code",
   "execution_count": 19,
   "metadata": {},
   "outputs": [
    {
     "name": "stdout",
     "output_type": "stream",
     "text": [
      "[[ 0.00280244 -0.23920409 -0.25936746 -0.03395237 -0.24524409 -0.09786508]\n",
      " [-0.0223623   1.90875103  2.0696465   0.27092606  1.95694778  0.78092337]]\n"
     ]
    }
   ],
   "source": [
    "from sklearn.cluster import KMeans\n",
    "from sklearn.metrics import accuracy_score, f1_score, confusion_matrix\n",
    "\n",
    "km = KMeans(n_clusters=2) # turn 6D into 2 coordinates using KMeans\n",
    "km.fit(X_ss)\n",
    "print(km.cluster_centers_)"
   ]
  },
  {
   "cell_type": "code",
   "execution_count": 21,
   "metadata": {},
   "outputs": [
    {
     "name": "stdout",
     "output_type": "stream",
     "text": [
      "[1 1 1 1 1 1 1 1 1 2 1 1 1 1 1 1 1 1 1 1 1 1 1 2 1 1 1 1 2 1 1 1 1 1 1 1 1\n",
      " 1 2 1 1 1 1 2 1 2 2 2 1 2 1 1 1 1 1 1 2 1 1 1 1 2 1 1 1 2 1 1 1 1 1 2 1 1\n",
      " 1 1 1 2 1 1 1 1 1 1 1 2 2 1 1 1 1 1 2 1 1 1 1 1 1 1 1 1 1 1 1 1 1 1 1 2 1\n",
      " 1 1 1 1 1 1 1 1 1 1 1 1 1 1 1 1 1 1 1 1 1 1 1 1 1 1 1 1 1 1 1 1 1 1 2 1 1\n",
      " 1 1 1 1 1 1 1 2 1 1 1 1 1 1 1 2 1 2 1 1 1 1 1 2 1 2 1 1 1 1 1 1 1 2 1 2 1\n",
      " 1 1 1 1 1 1 1 1 1 1 1 1 1 1 1 2 2 1 1 1 2 1 1 1 2 1 2 1 1 1 1 2 1 1 1 1 1\n",
      " 1 1 1 1 1 1 1 1 1 1 1 1 1 1 1 1 1 1 1 1 1 1 1 1 1 1 1 1 1 2 1 1 1 1 1 1 1\n",
      " 1 1 1 1 1 1 2 1 1 1 1 1 1 1 1 1 1 1 1 1 1 1 1 1 1 1 1 1 1 1 1 1 1 1 1 1 1\n",
      " 1 1 1 1 1 2 1 1 2 1 2 1 1 2 1 1 2 1 1 1 1 1 1 2 1 1 1 1 1 2 1 1 1 1 1 2 1\n",
      " 2 1 1 1 1 1 1 1 1 1 2 1 1 1 1 1 2 1 2 1 1 1 1 1 1 1 1 1 1 1 1 1 1 1 1 1 1\n",
      " 1 1 1 1 1 1 1 1 1 1 1 1 1 1 2 1 1 1 1 1 1 1 1 1 1 1 1 1 1 1 1 1 1 1 1 1 1\n",
      " 2 1 1 1 1 1 1 1 1 1 1 1 1 1 1 1 1 1 1 1 1 1 1 1 1 1 1 1 1 1 2 1 1]\n"
     ]
    }
   ],
   "source": [
    "channel_pred = km.predict(X_ss) + 1\n",
    "print(channel_pred)"
   ]
  },
  {
   "cell_type": "code",
   "execution_count": 29,
   "metadata": {},
   "outputs": [
    {
     "name": "stdout",
     "output_type": "stream",
     "text": [
      "[2 2 2 1 2 2 2 2 1 2 2 2 2 2 2 1 2 1 2 1 2 1 1 2 2 2 1 1 2 1 1 1 1 1 1 2 1\n",
      " 2 2 1 1 1 2 2 2 2 2 2 2 2 1 1 2 2 1 1 2 2 1 1 2 2 2 2 1 2 1 2 1 1 1 1 1 2\n",
      " 2 1 1 2 1 1 1 2 2 1 2 2 2 1 1 1 1 1 2 1 2 1 2 1 1 1 2 2 2 1 1 1 2 2 2 2 1\n",
      " 2 1 1 1 1 1 1 1 1 1 1 1 2 1 1 1 2 1 1 1 1 1 1 1 1 1 1 1 1 1 1 1 1 1 2 1 1\n",
      " 1 1 1 1 1 1 1 2 2 1 2 2 2 1 1 2 2 2 2 1 1 1 2 2 1 2 1 2 1 1 1 1 1 1 1 1 1\n",
      " 1 1 1 2 2 1 1 1 2 1 1 1 2 1 1 2 2 1 1 1 2 1 2 1 2 1 2 1 1 2 1 2 1 2 1 1 1\n",
      " 1 2 1 1 2 1 1 1 2 1 1 1 1 1 1 1 1 1 1 1 1 1 1 2 1 1 1 1 1 2 1 1 1 1 1 1 1\n",
      " 1 1 1 1 1 2 1 2 1 2 1 1 1 1 1 1 1 1 1 1 2 1 2 1 1 1 1 1 1 1 1 1 1 1 2 1 2\n",
      " 1 2 2 1 2 2 2 2 2 2 2 1 1 2 1 1 2 1 1 2 1 1 1 2 1 1 1 1 1 1 1 1 1 1 1 2 1\n",
      " 2 2 2 1 1 1 1 2 2 1 2 1 1 2 2 1 2 1 2 1 2 1 1 1 2 1 1 1 1 1 1 1 2 1 1 1 1\n",
      " 2 1 1 2 1 1 2 1 1 2 1 1 1 1 1 1 1 1 1 1 1 1 1 1 1 1 2 1 1 1 1 1 1 1 1 1 1\n",
      " 2 2 1 1 1 1 1 1 2 2 1 2 1 1 2 1 2 2 1 1 1 1 1 1 1 1 1 1 1 1 2 1 1]\n"
     ]
    }
   ],
   "source": [
    "print(np.array(channel))"
   ]
  },
  {
   "cell_type": "code",
   "execution_count": 30,
   "metadata": {},
   "outputs": [
    {
     "data": {
      "text/plain": [
       "array([[292,   6],\n",
       "       [ 99,  43]])"
      ]
     },
     "execution_count": 30,
     "metadata": {},
     "output_type": "execute_result"
    }
   ],
   "source": [
    "confusion_matrix(channel, channel_pred)"
   ]
  },
  {
   "cell_type": "code",
   "execution_count": 31,
   "metadata": {},
   "outputs": [
    {
     "data": {
      "text/plain": [
       "0.7613636363636364"
      ]
     },
     "execution_count": 31,
     "metadata": {},
     "output_type": "execute_result"
    }
   ],
   "source": [
    "accuracy_score(channel, channel_pred)"
   ]
  },
  {
   "cell_type": "code",
   "execution_count": 32,
   "metadata": {},
   "outputs": [
    {
     "data": {
      "text/plain": [
       "0.8476052249637155"
      ]
     },
     "execution_count": 32,
     "metadata": {},
     "output_type": "execute_result"
    }
   ],
   "source": [
    "f1_score(channel, channel_pred)"
   ]
  },
  {
   "cell_type": "code",
   "execution_count": null,
   "metadata": {},
   "outputs": [],
   "source": []
  },
  {
   "cell_type": "code",
   "execution_count": null,
   "metadata": {},
   "outputs": [],
   "source": [
    "predictions = [pred + 1 for pred in y_pred] # \n",
    "confusion = get_confusion(target, df)\n",
    "evaluate_model(confusion)"
   ]
  },
  {
   "cell_type": "markdown",
   "metadata": {},
   "source": [
    "## K-Means Clustering with PCA"
   ]
  },
  {
   "cell_type": "code",
   "execution_count": 72,
   "metadata": {},
   "outputs": [],
   "source": [
    "# build a matrix of the feature values, not including Channel and Region\n",
    "X = np.array([df[i].values for i in df.columns if i != 'Channel' or i != 'Region'])\n",
    "\n",
    "# calculate the PCA\n",
    "pca = PCA(n_components=2) # apply 2 components only\n",
    "\n",
    "# Find the principle components of each features\n",
    "X_r = pca.fit_transform(X_ss)"
   ]
  },
  {
   "cell_type": "code",
   "execution_count": 73,
   "metadata": {},
   "outputs": [
    {
     "data": {
      "text/plain": [
       "array([[ 1.93290546e-01, -3.05099963e-01],\n",
       "       [ 4.34419896e-01, -3.28412623e-01],\n",
       "       [ 8.11143234e-01,  8.15095701e-01],\n",
       "       [-7.78647832e-01,  6.52753734e-01],\n",
       "       [ 1.66287259e-01,  1.27143372e+00],\n",
       "       [-1.56169932e-01, -2.95140988e-01],\n",
       "       [-3.35288404e-01, -5.25003258e-01],\n",
       "       [ 1.40586434e-01, -2.30992687e-01],\n",
       "       [-5.17319541e-01, -6.59362827e-01],\n",
       "       [ 1.59210908e+00, -7.41011332e-01],\n",
       "       [ 6.38085945e-01, -4.01825201e-01],\n",
       "       [-9.27692579e-01, -2.19287242e-01],\n",
       "       [ 9.91362176e-01,  6.85910808e-01],\n",
       "       [ 8.50246760e-01, -8.56919642e-02],\n",
       "       [ 8.45043794e-01,  1.54724325e-01],\n",
       "       [-9.51585375e-01, -4.95908498e-01],\n",
       "       [ 5.57558717e-01, -1.02612272e+00],\n",
       "       [-3.52538598e-01,  2.07075910e-01],\n",
       "       [ 3.16578563e-01,  4.42066292e-01],\n",
       "       [-3.23755737e-01, -7.03586946e-01],\n",
       "       [-3.20000597e-01,  1.56628147e-01],\n",
       "       [-1.11844720e+00, -2.30527519e-01],\n",
       "       [-1.76694545e-01,  2.14371699e+00],\n",
       "       [ 4.68565421e+00,  3.59867838e+00],\n",
       "       [ 1.24504208e+00,  1.05565966e+00],\n",
       "       [-1.54114026e-01, -5.22893625e-01],\n",
       "       [-1.03962354e+00, -3.64796511e-02],\n",
       "       [-1.09752718e+00, -2.42981966e-01],\n",
       "       [ 3.12209160e+00, -3.30074922e-01],\n",
       "       [-7.79939939e-01,  1.07317334e+00],\n",
       "       [ 7.45831884e-02,  2.66503911e-01],\n",
       "       [-7.29189328e-01, -4.44809256e-01],\n",
       "       [-9.62230428e-01, -1.89891956e-02],\n",
       "       [-3.49770903e-01,  1.18059453e+00],\n",
       "       [-1.06908233e+00, -8.01596920e-01],\n",
       "       [ 1.67247676e-01, -1.07439690e+00],\n",
       "       [-1.72136773e-01,  1.26700638e+00],\n",
       "       [ 9.72688571e-01, -3.68175179e-01],\n",
       "       [ 1.58466417e+00, -1.12924692e+00],\n",
       "       [-7.79395670e-01,  3.16041994e+00],\n",
       "       [-1.13987818e-02,  2.21646888e+00],\n",
       "       [-2.32890178e-01,  4.13825388e-01],\n",
       "       [ 8.55723654e-01, -9.79673140e-01],\n",
       "       [ 1.94586221e+00, -1.56669797e+00],\n",
       "       [ 2.81308741e-01, -7.95695411e-01],\n",
       "       [ 2.81349689e+00, -9.88739333e-02],\n",
       "       [ 1.86531981e+00, -8.93604774e-01],\n",
       "       [ 9.53811613e+00,  1.50763710e+00],\n",
       "       [ 4.30076667e-01, -5.03383531e-01],\n",
       "       [ 3.59790485e+00, -1.23936641e+00],\n",
       "       [-9.28705325e-01,  1.34523950e-01],\n",
       "       [-5.09445372e-01, -8.70788351e-01],\n",
       "       [-2.50712755e-01,  8.62381410e-01],\n",
       "       [ 7.00283481e-01, -1.15590722e+00],\n",
       "       [-9.67926798e-01,  7.12936868e-01],\n",
       "       [-5.13838298e-01, -5.38731236e-01],\n",
       "       [ 4.59975591e+00, -1.23637590e+00],\n",
       "       [ 9.25166072e-01, -9.44776661e-01],\n",
       "       [-1.08960753e+00, -2.36577373e-01],\n",
       "       [-4.75885321e-02, -6.19165192e-01],\n",
       "       [-2.27325899e-01, -8.44904082e-01],\n",
       "       [ 8.43092531e+00, -5.92369291e-01],\n",
       "       [ 3.24106579e-02, -1.75747364e-01],\n",
       "       [ 1.42811818e+00, -4.84083753e-01],\n",
       "       [-8.64287286e-01, -1.79966374e-01],\n",
       "       [ 5.81057939e+00, -2.45493172e+00],\n",
       "       [-4.83729921e-01, -1.20570517e+00],\n",
       "       [ 6.14470850e-01, -2.16945804e-01],\n",
       "       [-2.38768151e-01,  4.24116869e-01],\n",
       "       [-1.04126562e+00, -5.00508207e-01],\n",
       "       [-8.04605382e-01,  1.30128505e+00],\n",
       "       [ 1.80128176e+00,  2.54862058e+00],\n",
       "       [-6.34348913e-01,  3.31457372e-01],\n",
       "       [-2.28969665e-01,  9.07520754e-01],\n",
       "       [ 3.06485839e-02, -3.08468361e-01],\n",
       "       [-1.16710943e+00,  6.44842223e-01],\n",
       "       [-5.67920318e-01,  1.00522067e-01],\n",
       "       [ 2.75294866e+00, -1.09100296e+00],\n",
       "       [-1.13244130e+00, -2.40935458e-01],\n",
       "       [-6.90393825e-01, -5.60343274e-01],\n",
       "       [-1.06334033e+00, -5.78287112e-01],\n",
       "       [ 1.04894863e+00, -1.41054914e+00],\n",
       "       [ 5.58090721e-01, -2.59970620e-01],\n",
       "       [-1.00230822e+00,  3.13410473e-01],\n",
       "       [-4.08430512e-01, -5.26562579e-01],\n",
       "       [ 1.26530021e+01, -2.71520591e+00],\n",
       "       [ 8.42098880e+00, -4.46857768e-01],\n",
       "       [ 1.07568546e+00,  4.06934180e+00],\n",
       "       [-1.01428890e+00,  5.48845305e-01],\n",
       "       [-3.90899637e-01,  1.03024639e+00],\n",
       "       [-1.19574764e+00, -9.48258544e-03],\n",
       "       [-7.89025937e-01,  8.37102896e-01],\n",
       "       [ 5.22890886e+00, -4.36535292e-01],\n",
       "       [-4.44900634e-01,  4.41797355e+00],\n",
       "       [ 7.64217944e-01, -9.51920503e-01],\n",
       "       [-7.63178962e-01, -8.43001677e-01],\n",
       "       [-2.97668139e-01, -1.19523362e+00],\n",
       "       [-1.37622521e+00, -8.34000562e-01],\n",
       "       [-1.36853476e+00, -8.06512603e-01],\n",
       "       [-1.03011679e+00,  2.05711023e-01],\n",
       "       [ 1.12946873e+00, -4.34004126e-02],\n",
       "       [ 1.30180993e+00, -8.52134817e-01],\n",
       "       [ 1.78695999e-01, -5.47184421e-01],\n",
       "       [ 1.20734868e-01,  3.93626052e+00],\n",
       "       [-8.03565636e-01, -2.03402017e-01],\n",
       "       [-9.36125947e-01,  5.36874157e-03],\n",
       "       [ 6.23040753e-01, -1.00428993e+00],\n",
       "       [ 1.45819641e+00, -6.03429147e-01],\n",
       "       [-1.13395760e-03, -7.80875497e-01],\n",
       "       [ 1.66074224e+00, -1.10831135e+00],\n",
       "       [-9.99305030e-01,  1.08779807e-01],\n",
       "       [ 1.36954448e+00, -5.42280362e-01],\n",
       "       [-6.45241037e-01,  1.41374085e+00],\n",
       "       [-8.89892430e-01,  3.06280024e-01],\n",
       "       [-1.03806313e+00,  3.27554663e-01],\n",
       "       [-1.06047308e+00, -8.53762427e-02],\n",
       "       [-9.53151804e-01, -2.92189943e-01],\n",
       "       [-6.58070528e-01, -2.99029855e-01],\n",
       "       [-9.15410619e-01,  6.91065777e-01],\n",
       "       [-9.93346767e-01, -2.12377532e-02],\n",
       "       [-9.52507661e-01,  2.26568740e-01],\n",
       "       [-1.03114915e+00, -4.35439795e-01],\n",
       "       [-1.28246393e+00, -3.78564097e-02],\n",
       "       [ 1.81958024e-01, -3.01364068e-01],\n",
       "       [-7.77830758e-01,  1.39601055e+00],\n",
       "       [-1.59311412e-01,  4.37293888e+00],\n",
       "       [-9.81723045e-01,  9.48934097e-01],\n",
       "       [ 3.33777019e-01,  3.39134473e-01],\n",
       "       [-4.41489135e-01, -9.41927500e-01],\n",
       "       [-9.23348259e-01,  1.32534370e+00],\n",
       "       [-1.01448912e+00,  3.03200146e-01],\n",
       "       [-1.34462179e+00, -7.65305342e-01],\n",
       "       [-9.56375734e-01, -2.62563207e-01],\n",
       "       [-1.20005979e+00, -4.51151860e-01],\n",
       "       [-1.09622211e+00, -4.69389464e-01],\n",
       "       [-1.11468441e+00, -5.17152140e-01],\n",
       "       [ 9.18368713e-02, -4.68156266e-02],\n",
       "       [-2.46988955e-01, -8.06443012e-01],\n",
       "       [-4.66533316e-01,  1.77675603e-01],\n",
       "       [-6.98988004e-01, -4.84281616e-01],\n",
       "       [-2.65873060e-01,  4.26141593e-01],\n",
       "       [ 8.34093690e-02,  6.86186493e-01],\n",
       "       [-2.61167046e-01,  9.28148670e-01],\n",
       "       [-1.07035935e+00,  5.83272609e-01],\n",
       "       [-9.17999064e-01, -1.29403852e-01],\n",
       "       [ 3.20637754e+00, -3.46680030e-01],\n",
       "       [-1.08708367e+00, -4.31372635e-01],\n",
       "       [-8.23046631e-01, -3.71011035e-01],\n",
       "       [-1.24349439e+00, -1.31153986e-01],\n",
       "       [-9.90261893e-01,  7.22454190e-01],\n",
       "       [-1.03303404e+00,  1.06015762e-02],\n",
       "       [-8.88105702e-01, -5.19172105e-01],\n",
       "       [-1.00843760e+00,  1.96645053e-01],\n",
       "       [-4.26657017e-01, -3.64404282e-01],\n",
       "       [-1.43670962e+00, -9.15254815e-01],\n",
       "       [ 2.05740359e+00, -1.25174331e+00],\n",
       "       [ 9.12612763e-01, -7.08377614e-01],\n",
       "       [-9.75250597e-01,  2.26980877e-01],\n",
       "       [ 2.48473967e-01, -7.00896498e-01],\n",
       "       [ 9.74702269e-01, -1.40294429e+00],\n",
       "       [ 3.13492363e-01, -7.81460117e-01],\n",
       "       [-1.14513727e+00,  1.08271213e-01],\n",
       "       [-9.11158306e-01,  8.08732488e-02],\n",
       "       [ 3.01339349e+00, -1.31265367e+00],\n",
       "       [ 1.21281411e-01, -6.12405995e-01],\n",
       "       [ 1.82246622e+00,  1.42106514e-01],\n",
       "       [ 5.23845001e-01, -3.04405244e-01],\n",
       "       [-7.48948884e-01, -7.57183756e-01],\n",
       "       [-1.26880348e+00, -4.63425024e-01],\n",
       "       [-1.15116557e+00, -3.16134710e-01],\n",
       "       [ 8.56779440e-01, -1.22568580e+00],\n",
       "       [ 3.23802110e+00, -2.24516314e-01],\n",
       "       [-2.53215825e-01, -9.32817902e-01],\n",
       "       [ 1.53065864e+00, -1.42784781e+00],\n",
       "       [-8.71955289e-01, -4.38404282e-01],\n",
       "       [ 4.92838390e-01, -8.61164210e-01],\n",
       "       [-1.10695134e-01,  1.82280009e+00],\n",
       "       [-3.38538928e-01,  2.86574147e-01],\n",
       "       [-5.30429936e-01, -2.77292792e-01],\n",
       "       [-6.58995145e-01,  1.35583774e-01],\n",
       "       [-1.28513703e-02, -2.58709224e-02],\n",
       "       [ 3.72695947e+00,  7.16753856e+00],\n",
       "       [ 6.35763088e-01, -1.27327631e+00],\n",
       "       [ 7.79794031e+00,  1.39490842e+01],\n",
       "       [-1.05691142e+00, -1.00533973e+00],\n",
       "       [-8.28007893e-01, -2.37595195e-01],\n",
       "       [-1.14256160e+00, -3.15098494e-01],\n",
       "       [ 2.10541231e-01, -3.03806985e-01],\n",
       "       [ 7.04427710e-01, -6.54502548e-01],\n",
       "       [ 7.39118626e-01, -8.11077013e-01],\n",
       "       [-7.16378611e-01,  7.26901147e-01],\n",
       "       [-1.27945302e+00, -2.73925739e-01],\n",
       "       [-1.12603056e+00, -6.06069982e-01],\n",
       "       [ 7.59165167e-01, -1.27671412e+00],\n",
       "       [-1.02288837e+00, -4.00633986e-01],\n",
       "       [-4.20393398e-01,  1.02940577e+00],\n",
       "       [ 2.16174461e-02,  3.16804922e+00],\n",
       "       [ 3.52040315e-01, -7.55069461e-01],\n",
       "       [-6.71218861e-01, -4.99358207e-03],\n",
       "       [-1.04081739e+00, -4.46826247e-01],\n",
       "       [ 2.20060345e+00, -9.34751045e-01],\n",
       "       [ 2.95992574e+00, -9.95325615e-01],\n",
       "       [ 7.51785893e-01,  1.93659273e+00],\n",
       "       [-1.14925126e+00, -9.41068765e-01],\n",
       "       [-9.29705688e-01, -5.27132107e-01],\n",
       "       [ 1.99618410e+00, -1.38410349e+00],\n",
       "       [-1.24866289e+00, -5.43506296e-01],\n",
       "       [-6.89753339e-02, -7.76404745e-01],\n",
       "       [-3.34659803e-01, -7.36190192e-01],\n",
       "       [ 2.03999398e+00, -1.24683142e+00],\n",
       "       [-9.32880789e-01,  4.15426911e-01],\n",
       "       [ 5.64383322e+00, -6.64664295e-01],\n",
       "       [-1.03016297e+00, -1.98304256e-01],\n",
       "       [ 4.21769794e-02, -6.70036874e-01],\n",
       "       [ 4.98072006e-01, -1.01512866e+00],\n",
       "       [ 1.19688550e+00, -6.62392144e-01],\n",
       "       [ 3.60344520e+00, -1.78872824e+00],\n",
       "       [-1.01444279e+00,  3.08429167e-01],\n",
       "       [ 1.15797101e+00, -5.34214816e-02],\n",
       "       [-1.28176116e+00, -4.84534160e-01],\n",
       "       [-1.16144824e+00,  8.77289379e-03],\n",
       "       [ 2.71331755e-01, -9.73040550e-01],\n",
       "       [-1.03798258e+00,  2.27355525e-01],\n",
       "       [-6.65851294e-01,  2.24436863e-02],\n",
       "       [-1.21413848e+00, -4.48890266e-01],\n",
       "       [-7.53006910e-01, -2.64660104e-01],\n",
       "       [ 6.84763665e-02,  2.05322410e-01],\n",
       "       [-1.06622222e+00, -3.83144360e-01],\n",
       "       [-7.93096723e-01, -9.73577992e-01],\n",
       "       [-8.29773834e-01,  4.05043693e-01],\n",
       "       [-2.43952169e-01,  8.73840390e-01],\n",
       "       [-1.83563357e-01, -6.05585450e-01],\n",
       "       [-8.86512945e-01,  3.10182691e-01],\n",
       "       [-8.21760121e-01, -8.07341615e-01],\n",
       "       [-6.58134353e-01,  6.51635962e-01],\n",
       "       [-6.24230856e-01, -7.03772988e-01],\n",
       "       [-1.08558907e+00, -3.17576703e-01],\n",
       "       [-9.10708500e-01,  6.65173675e-01],\n",
       "       [-1.31863375e+00, -4.71234355e-01],\n",
       "       [-5.22276217e-01,  2.02508917e+00],\n",
       "       [-2.98084915e-01,  1.78549140e+00],\n",
       "       [-9.21434115e-01,  5.18413371e-01],\n",
       "       [-1.00698855e+00,  3.19007410e-01],\n",
       "       [-4.27302385e-01, -1.10441282e-01],\n",
       "       [ 3.50993039e-01, -4.36547615e-01],\n",
       "       [ 1.13840066e+00, -9.18486435e-01],\n",
       "       [-1.01326823e+00, -2.68775706e-01],\n",
       "       [-1.26689381e+00, -9.42154640e-03],\n",
       "       [-7.42038216e-01, -1.30120142e-01],\n",
       "       [-8.20950281e-01,  1.98777449e-01],\n",
       "       [-1.07766797e+00, -4.89495737e-01],\n",
       "       [ 4.99272766e+00, -1.79336238e-01],\n",
       "       [-7.50100817e-01,  5.35097121e-01],\n",
       "       [ 4.39852140e-01,  3.96310543e-01],\n",
       "       [ 7.16275749e-01,  7.05364876e-01],\n",
       "       [-1.11754233e+00,  8.66203405e-01],\n",
       "       [-6.42402859e-01, -4.08159437e-01],\n",
       "       [-6.13211952e-01,  1.16091453e-02],\n",
       "       [-3.51075599e-01,  2.77709514e+00],\n",
       "       [-2.43173128e-01,  1.69049513e+00],\n",
       "       [-7.87811357e-01, -4.46673914e-01],\n",
       "       [-1.17508566e+00,  2.82013707e-01],\n",
       "       [-1.05320336e+00,  2.29348892e-01],\n",
       "       [-5.40592596e-01, -4.87040075e-01],\n",
       "       [ 1.00953316e+00, -1.12030586e+00],\n",
       "       [ 1.66596968e+00,  1.23772315e+00],\n",
       "       [ 1.43605895e+00, -6.80512545e-01],\n",
       "       [-6.87920164e-01,  1.00796406e+00],\n",
       "       [ 1.20067920e+00, -7.49139115e-01],\n",
       "       [-1.23043995e+00,  6.91863302e-03],\n",
       "       [-1.21602382e+00, -6.35967176e-02],\n",
       "       [-8.15266593e-01, -4.20042943e-01],\n",
       "       [-3.09085648e-01, -6.92755039e-01],\n",
       "       [-7.76394129e-01,  1.52025281e+00],\n",
       "       [-1.01516487e+00, -6.62541590e-01],\n",
       "       [-1.26496755e+00, -7.35766681e-01],\n",
       "       [-3.18936058e-01,  1.13115309e+00],\n",
       "       [-1.05740334e+00,  1.55161433e+00],\n",
       "       [-8.69691472e-01,  4.99712733e-01],\n",
       "       [ 2.38008199e-01, -2.70059948e-02],\n",
       "       [-9.53506630e-01, -5.02665041e-01],\n",
       "       [-4.26641827e-02, -6.94667184e-02],\n",
       "       [-4.27447332e-01,  2.02745549e+00],\n",
       "       [-7.08965457e-01,  1.66599500e+00],\n",
       "       [ 2.66801105e-01,  3.27301872e+00],\n",
       "       [-9.87080440e-01,  7.94971312e-01],\n",
       "       [-1.01771215e+00, -4.83983811e-01],\n",
       "       [-8.49979245e-01,  8.89310373e-01],\n",
       "       [-1.19235358e+00, -1.54779662e-01],\n",
       "       [-1.23813991e+00,  1.01092956e+00],\n",
       "       [-8.72581534e-01, -5.69403833e-01],\n",
       "       [-8.74654033e-01, -2.83503297e-01],\n",
       "       [-7.22420151e-01, -2.34147901e-01],\n",
       "       [ 9.02539163e-01, -9.22564297e-01],\n",
       "       [-5.66085808e-01,  2.63611505e-01],\n",
       "       [-6.86933891e-01, -7.12621341e-01],\n",
       "       [-8.76813375e-01,  3.12554907e-01],\n",
       "       [-2.73366118e-01, -6.04091325e-01],\n",
       "       [ 1.38867226e-01, -7.09622159e-01],\n",
       "       [-1.20227944e+00, -8.89406902e-01],\n",
       "       [-5.56021347e-02,  2.97318870e-02],\n",
       "       [ 1.83636982e+00, -1.10343031e+00],\n",
       "       [ 3.16649317e-01, -1.10942154e+00],\n",
       "       [ 8.42238507e-01, -1.47992862e+00],\n",
       "       [ 2.18704846e+00, -1.36297491e+00],\n",
       "       [ 5.21605810e-01, -1.00138374e+00],\n",
       "       [ 1.86246109e+00, -7.63698127e-01],\n",
       "       [-9.11535290e-01,  4.84686516e-02],\n",
       "       [-1.07900220e+00, -5.36968069e-01],\n",
       "       [ 1.78008459e+00, -9.25637422e-01],\n",
       "       [-9.06850999e-01,  1.09184145e+00],\n",
       "       [-5.89795623e-01,  5.72124386e-01],\n",
       "       [ 1.99821096e+00, -1.84536209e+00],\n",
       "       [-1.11093454e+00,  3.59614047e-02],\n",
       "       [-5.94900684e-01, -2.42308719e-01],\n",
       "       [ 1.15188080e+00, -4.00124625e-01],\n",
       "       [-1.06204025e+00, -1.47977797e-01],\n",
       "       [-5.98679594e-01, -5.87835014e-01],\n",
       "       [-8.87538721e-01, -2.42637009e-01],\n",
       "       [ 3.09498644e+00, -7.63082815e-01],\n",
       "       [-9.24364322e-01, -6.70191795e-01],\n",
       "       [-8.13720429e-01, -9.66787679e-02],\n",
       "       [-9.15974969e-01,  9.94255472e-02],\n",
       "       [-3.77283971e-01, -4.31798936e-01],\n",
       "       [-8.12229870e-01,  6.24446567e-01],\n",
       "       [ 2.01435596e+00,  9.00548732e+00],\n",
       "       [-1.07705757e+00, -2.00176615e-01],\n",
       "       [-1.22310226e+00, -8.02181462e-01],\n",
       "       [-7.83446916e-01,  9.82880053e-01],\n",
       "       [-8.70602565e-01, -3.81559558e-02],\n",
       "       [-8.25754986e-01,  2.73402214e-02],\n",
       "       [ 2.53966286e+00, -8.88441684e-01],\n",
       "       [-7.78150665e-01,  7.31076631e-01],\n",
       "       [ 7.54858101e+00, -3.37988900e+00],\n",
       "       [-6.92419610e-01,  1.78430815e+00],\n",
       "       [ 4.77742111e-01,  4.26951897e-01],\n",
       "       [-1.12087397e+00, -1.56515644e-01],\n",
       "       [-9.49081923e-01,  5.77097803e-01],\n",
       "       [-7.85502943e-01,  1.00984011e+00],\n",
       "       [-6.92820719e-01,  6.15478483e-01],\n",
       "       [ 3.98226206e-01, -1.13312701e+00],\n",
       "       [ 4.59527357e-01, -7.54948411e-01],\n",
       "       [-1.51978645e-02, -9.30373046e-01],\n",
       "       [ 2.47371446e+00, -1.84499474e+00],\n",
       "       [-1.16693521e+00, -4.99191067e-01],\n",
       "       [-2.74738651e-01, -1.10017595e+00],\n",
       "       [ 9.04513925e-01, -8.10025659e-01],\n",
       "       [ 5.74092826e-01,  3.74897709e-01],\n",
       "       [-9.32910011e-01, -5.86754725e-01],\n",
       "       [ 2.36961965e+00, -1.17337095e+00],\n",
       "       [-1.11174173e+00, -4.26235749e-01],\n",
       "       [ 2.40494877e+00, -1.02583724e+00],\n",
       "       [-1.23981224e+00, -8.01269640e-01],\n",
       "       [ 1.40458248e+00, -1.43872144e+00],\n",
       "       [-2.76091522e-01,  8.33205425e-01],\n",
       "       [-1.24137556e+00, -9.21339076e-01],\n",
       "       [-1.27058943e+00,  4.91508546e-01],\n",
       "       [ 7.88389247e-01, -1.60174193e+00],\n",
       "       [ 5.18669809e-01,  7.42329532e-01],\n",
       "       [-7.88683019e-01, -7.13825725e-01],\n",
       "       [-9.25963818e-01,  2.69274662e-01],\n",
       "       [-1.27307181e+00, -5.42888464e-01],\n",
       "       [-1.08888741e+00, -6.92881624e-01],\n",
       "       [-9.09769924e-01, -8.05227658e-01],\n",
       "       [-1.17494918e+00, -6.59331190e-01],\n",
       "       [ 3.16562434e-01, -2.90672596e-01],\n",
       "       [-1.07819930e+00, -3.35334961e-01],\n",
       "       [-1.26845290e+00, -5.71722105e-01],\n",
       "       [-1.05997907e+00,  3.11956002e-01],\n",
       "       [-1.32351987e+00, -5.09360105e-01],\n",
       "       [-4.52889515e-01,  1.22011994e+00],\n",
       "       [-8.89038047e-01,  1.01354033e+00],\n",
       "       [-5.77868301e-01,  1.83178545e-01],\n",
       "       [ 2.31724314e-02,  2.80604104e-01],\n",
       "       [-1.05129239e+00, -3.91423615e-01],\n",
       "       [-1.18827803e+00, -6.45424256e-01],\n",
       "       [ 7.47267802e-01, -2.14670768e-01],\n",
       "       [-7.95433275e-01,  1.01323059e+00],\n",
       "       [-9.73808092e-01, -5.76305743e-01],\n",
       "       [-3.13033096e-01, -8.77909108e-01],\n",
       "       [-1.02294533e+00,  7.13619910e-01],\n",
       "       [-7.74978904e-01,  1.15267118e+00],\n",
       "       [ 2.09313829e-01,  1.18942419e+00],\n",
       "       [-1.01608673e+00, -3.63548311e-01],\n",
       "       [ 1.66161681e+00,  8.65314836e-01],\n",
       "       [-1.10371686e+00,  2.80030489e-02],\n",
       "       [-8.60868556e-01, -5.03650254e-01],\n",
       "       [-1.01273557e+00,  3.28008413e-01],\n",
       "       [-1.20952624e+00, -2.76472687e-01],\n",
       "       [-1.10337874e+00, -7.18583134e-02],\n",
       "       [-1.09161616e+00,  3.85951851e-02],\n",
       "       [-9.17448752e-01, -4.07836739e-01],\n",
       "       [-8.44273830e-01, -7.43275400e-01],\n",
       "       [-4.33582019e-01,  1.26669620e+00],\n",
       "       [-1.08023020e+00, -2.23437031e-01],\n",
       "       [-1.09325284e+00, -1.78540442e-01],\n",
       "       [ 6.31137682e-01, -2.21757409e-01],\n",
       "       [-1.05891285e+00,  5.20146528e-01],\n",
       "       [-1.21565654e+00,  2.50277877e-01],\n",
       "       [-1.21716482e+00, -3.12658011e-01],\n",
       "       [-1.15102646e+00, -1.49219088e-01],\n",
       "       [-7.06258826e-01,  2.18627817e+00],\n",
       "       [-6.67843798e-01,  2.22121069e-01],\n",
       "       [-1.72270951e-01,  2.06803631e-01],\n",
       "       [-6.26869720e-01,  4.28113305e-01],\n",
       "       [-1.15809773e+00, -3.72053943e-01],\n",
       "       [-3.77232055e-01,  1.42585039e+00],\n",
       "       [ 1.64836563e+00, -7.48964058e-01],\n",
       "       [-3.85396094e-01, -5.37285035e-01],\n",
       "       [-6.01596730e-02,  4.62578408e-01],\n",
       "       [-6.01630878e-01, -3.05588187e-01],\n",
       "       [-5.74286264e-01,  8.73973131e-02],\n",
       "       [-8.13055409e-02, -1.23210470e+00],\n",
       "       [-1.63944207e-01,  1.84983941e+00],\n",
       "       [-8.61319060e-01, -2.39969637e-02],\n",
       "       [ 1.33114450e-01, -3.27081205e-01],\n",
       "       [ 9.07636238e-01, -8.87244718e-01],\n",
       "       [ 1.44040622e-01, -7.97320716e-01],\n",
       "       [ 1.15952167e+00, -1.31901049e+00],\n",
       "       [-6.85107676e-01, -3.04135946e-01],\n",
       "       [ 6.66808814e-01, -1.02111825e+00],\n",
       "       [ 7.70166816e-02, -5.55807822e-02],\n",
       "       [-7.82022900e-01,  3.76151035e-01],\n",
       "       [-5.59320317e-01, -8.98805681e-02],\n",
       "       [-3.48659159e-02, -4.13840811e-01],\n",
       "       [-7.38136321e-01,  1.77337584e+00],\n",
       "       [ 9.41276361e-01, -5.35107344e-02],\n",
       "       [ 5.29384578e-01,  2.53628437e+00],\n",
       "       [-5.53025671e-01, -5.42887569e-01],\n",
       "       [-8.45501488e-01, -1.76851882e-01],\n",
       "       [ 9.30557721e-02, -5.94926700e-01],\n",
       "       [-2.69326464e-01,  1.28338846e+00],\n",
       "       [-8.15140688e-01, -9.44045936e-02],\n",
       "       [-9.32563125e-01, -4.19577799e-01],\n",
       "       [-2.64539112e-01, -2.20207430e-01],\n",
       "       [ 8.70602460e-01,  2.22084524e+00],\n",
       "       [-9.02520061e-01,  1.67691557e+00],\n",
       "       [ 3.46570362e+00, -1.03983801e+00],\n",
       "       [-9.18022733e-01, -3.00465906e-02],\n",
       "       [-1.10513709e+00, -8.61337874e-01]])"
      ]
     },
     "execution_count": 73,
     "metadata": {},
     "output_type": "execute_result"
    }
   ],
   "source": [
    "X_r"
   ]
  },
  {
   "cell_type": "code",
   "execution_count": 74,
   "metadata": {},
   "outputs": [
    {
     "data": {
      "text/plain": [
       "KMeans(algorithm='auto', copy_x=True, init='k-means++', max_iter=300,\n",
       "       n_clusters=2, n_init=10, n_jobs=None, precompute_distances='auto',\n",
       "       random_state=None, tol=0.0001, verbose=0)"
      ]
     },
     "execution_count": 74,
     "metadata": {},
     "output_type": "execute_result"
    }
   ],
   "source": [
    "km = KMeans(n_clusters=2)\n",
    "km.fit(X_r)"
   ]
  },
  {
   "cell_type": "code",
   "execution_count": 75,
   "metadata": {},
   "outputs": [
    {
     "data": {
      "text/plain": [
       "array([1, 1, 1, 1, 1, 1, 1, 1, 1, 2, 1, 1, 1, 1, 1, 1, 1, 1, 1, 1, 1, 1,\n",
       "       1, 2, 1, 1, 1, 1, 2, 1, 1, 1, 1, 1, 1, 1, 1, 1, 2, 1, 1, 1, 1, 2,\n",
       "       1, 2, 2, 2, 1, 2, 1, 1, 1, 1, 1, 1, 2, 1, 1, 1, 1, 2, 1, 1, 1, 2,\n",
       "       1, 1, 1, 1, 1, 1, 1, 1, 1, 1, 1, 2, 1, 1, 1, 1, 1, 1, 1, 2, 2, 1,\n",
       "       1, 1, 1, 1, 2, 1, 1, 1, 1, 1, 1, 1, 1, 1, 1, 1, 1, 1, 1, 1, 1, 2,\n",
       "       1, 1, 1, 1, 1, 1, 1, 1, 1, 1, 1, 1, 1, 1, 1, 1, 1, 1, 1, 1, 1, 1,\n",
       "       1, 1, 1, 1, 1, 1, 1, 1, 1, 1, 1, 1, 1, 2, 1, 1, 1, 1, 1, 1, 1, 1,\n",
       "       1, 2, 1, 1, 1, 1, 1, 1, 1, 2, 1, 2, 1, 1, 1, 1, 1, 2, 1, 2, 1, 1,\n",
       "       1, 1, 1, 1, 1, 2, 1, 2, 1, 1, 1, 1, 1, 1, 1, 1, 1, 1, 1, 1, 1, 1,\n",
       "       1, 1, 2, 2, 1, 1, 1, 2, 1, 1, 1, 2, 1, 2, 1, 1, 1, 1, 2, 1, 1, 1,\n",
       "       1, 1, 1, 1, 1, 1, 1, 1, 1, 1, 1, 1, 1, 1, 1, 1, 1, 1, 1, 1, 1, 1,\n",
       "       1, 1, 1, 1, 1, 1, 1, 1, 1, 2, 1, 1, 1, 1, 1, 1, 1, 1, 1, 1, 1, 1,\n",
       "       1, 1, 1, 1, 1, 1, 1, 1, 1, 1, 1, 1, 1, 1, 1, 1, 1, 1, 1, 1, 1, 1,\n",
       "       1, 1, 1, 1, 1, 1, 1, 1, 1, 1, 1, 1, 1, 1, 1, 2, 1, 1, 2, 1, 2, 1,\n",
       "       1, 2, 1, 1, 2, 1, 1, 1, 1, 1, 1, 2, 1, 1, 1, 1, 1, 1, 1, 1, 1, 1,\n",
       "       1, 2, 1, 2, 1, 1, 1, 1, 1, 1, 1, 1, 1, 2, 1, 1, 1, 1, 1, 2, 1, 2,\n",
       "       1, 1, 1, 1, 1, 1, 1, 1, 1, 1, 1, 1, 1, 1, 1, 1, 1, 1, 1, 1, 1, 1,\n",
       "       1, 1, 1, 1, 1, 1, 1, 1, 1, 1, 1, 1, 1, 1, 1, 1, 1, 1, 1, 1, 1, 1,\n",
       "       1, 1, 1, 1, 1, 1, 1, 1, 1, 1, 1, 2, 1, 1, 1, 1, 1, 1, 1, 1, 1, 1,\n",
       "       1, 1, 1, 1, 1, 1, 1, 1, 1, 1, 1, 1, 1, 1, 1, 1, 1, 1, 1, 2, 1, 1],\n",
       "      dtype=int32)"
      ]
     },
     "execution_count": 75,
     "metadata": {},
     "output_type": "execute_result"
    }
   ],
   "source": [
    "channel_pred = km.predict(X_r) + 1\n",
    "channel_pred"
   ]
  },
  {
   "cell_type": "code",
   "execution_count": 76,
   "metadata": {},
   "outputs": [
    {
     "data": {
      "text/plain": [
       "array([[296,   2],\n",
       "       [ 99,  43]])"
      ]
     },
     "execution_count": 76,
     "metadata": {},
     "output_type": "execute_result"
    }
   ],
   "source": [
    "confusion_matrix(channel, channel_pred)"
   ]
  },
  {
   "cell_type": "code",
   "execution_count": 77,
   "metadata": {},
   "outputs": [
    {
     "data": {
      "text/plain": [
       "0.7704545454545455"
      ]
     },
     "execution_count": 77,
     "metadata": {},
     "output_type": "execute_result"
    }
   ],
   "source": [
    "accuracy_score(channel, channel_pred)"
   ]
  },
  {
   "cell_type": "code",
   "execution_count": 78,
   "metadata": {},
   "outputs": [
    {
     "data": {
      "text/plain": [
       "0.8542568542568543"
      ]
     },
     "execution_count": 78,
     "metadata": {},
     "output_type": "execute_result"
    }
   ],
   "source": [
    "f1_score(channel, channel_pred)"
   ]
  },
  {
   "cell_type": "code",
   "execution_count": 64,
   "metadata": {},
   "outputs": [],
   "source": [
    "# print(df.columns[0:])\n",
    "# for feature, (plot_x, plot_y) in enumerate(zip(X_r[:, 0], X_r[:, 1])):\n",
    "#     plt.scatter(plot_x, plot_y)\n",
    "#     plt.text(plot_x+0.5, plot_y+0.5, df.columns[0:][feature])\n",
    "# plt.show()"
   ]
  },
  {
   "cell_type": "code",
   "execution_count": null,
   "metadata": {},
   "outputs": [],
   "source": []
  },
  {
   "cell_type": "markdown",
   "metadata": {},
   "source": [
    "## Challenge: Use the confusion matrix function to create a confusion matrix and see how accurate our clustering algorithms were. \n",
    "- Which did better: scaled data or data transformed by PCA?"
   ]
  },
  {
   "cell_type": "code",
   "execution_count": null,
   "metadata": {},
   "outputs": [],
   "source": []
  },
  {
   "cell_type": "markdown",
   "metadata": {},
   "source": [
    "### Evaluate model"
   ]
  },
  {
   "cell_type": "code",
   "execution_count": null,
   "metadata": {},
   "outputs": [],
   "source": []
  },
  {
   "cell_type": "code",
   "execution_count": null,
   "metadata": {},
   "outputs": [],
   "source": []
  },
  {
   "cell_type": "code",
   "execution_count": null,
   "metadata": {},
   "outputs": [],
   "source": []
  }
 ],
 "metadata": {
  "kernelspec": {
   "display_name": "Python 3",
   "language": "python",
   "name": "python3"
  },
  "language_info": {
   "codemirror_mode": {
    "name": "ipython",
    "version": 3
   },
   "file_extension": ".py",
   "mimetype": "text/x-python",
   "name": "python",
   "nbconvert_exporter": "python",
   "pygments_lexer": "ipython3",
   "version": "3.7.4"
  }
 },
 "nbformat": 4,
 "nbformat_minor": 2
}
