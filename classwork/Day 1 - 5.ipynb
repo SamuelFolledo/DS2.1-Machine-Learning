{
 "cells": [
  {
   "cell_type": "raw",
   "metadata": {},
   "source": []
  },
  {
   "cell_type": "markdown",
   "metadata": {},
   "source": [
    "# Day 1: Intro to Machine Learning\n",
    "https://github.com/Make-School-Courses/DS-2.1-Machine-Learning/blob/master/Notebooks/remote_intro_ML.ipynb"
   ]
  },
  {
   "cell_type": "code",
   "execution_count": null,
   "metadata": {},
   "outputs": [],
   "source": []
  },
  {
   "cell_type": "markdown",
   "metadata": {},
   "source": [
    "## Activity MinMaxScaler\n",
    "<img src=\"../static/screenshots/day1-1.png\" width=\"900\">\n",
    "\n",
    "<!-- ![alt](../static/screenshots/day1-1.png) -->"
   ]
  },
  {
   "cell_type": "code",
   "execution_count": 25,
   "metadata": {},
   "outputs": [
    {
     "name": "stdout",
     "output_type": "stream",
     "text": [
      "[[1000    2]\n",
      " [1500    3]]\n",
      "First column =  [1000 1500]\n",
      "Second column =  [2 3]\n",
      "\n",
      "column-range = [[  0   0]\n",
      " [500   1]]\n",
      "range = [500   1]\n",
      "\n",
      "Result = [[0. 0.]\n",
      " [1. 1.]]\n"
     ]
    }
   ],
   "source": [
    "import numpy as np\n",
    "\n",
    "X = np.array([[1000, 2], [1500, 3]])\n",
    "print(X)\n",
    "print(\"First column = \", X[:, 0])\n",
    "print(\"Second column = \", X[:, 1])\n",
    "\n",
    "print()\n",
    "print(\"column-range =\", X - X.min(axis=0))\n",
    "print(\"range =\", X.max(axis=0) - X.min(axis=0))\n",
    "\n",
    "def max_min_s(X):\n",
    "    col_minimum = X.min(axis=0) #get the minimum elements from (axis=0) all columns \n",
    "    col_range = X.max(axis=0) - col_minimum #get the range from each column by getting the max from each column and subtracting the minimum frm each column\n",
    "    return (X - col_minimum) / col_range\n",
    "\n",
    "print()\n",
    "print(\"Result =\", max_min_s(X))"
   ]
  },
  {
   "cell_type": "markdown",
   "metadata": {},
   "source": [
    "### SKLearn version"
   ]
  },
  {
   "cell_type": "code",
   "execution_count": 27,
   "metadata": {},
   "outputs": [
    {
     "name": "stdout",
     "output_type": "stream",
     "text": [
      "[[0. 0.]\n",
      " [1. 1.]]\n"
     ]
    }
   ],
   "source": [
    "from sklearn import preprocessing\n",
    "\n",
    "min_max_scaler = preprocessing.MinMaxScaler()\n",
    "X_minmax = min_max_scaler.fit_transform(X)\n",
    "print(X_minmax)"
   ]
  },
  {
   "cell_type": "code",
   "execution_count": null,
   "metadata": {},
   "outputs": [],
   "source": []
  },
  {
   "cell_type": "markdown",
   "metadata": {},
   "source": [
    "## StandardScaler\n",
    "## Acitivity: A two dimensional array (Matrix) X is given, write a function that:\n",
    "- Subtract the mean element of each column from all the elements of that column\n",
    "- Then diivide the result to the standard deviation of value for each column"
   ]
  },
  {
   "cell_type": "code",
   "execution_count": 33,
   "metadata": {},
   "outputs": [
    {
     "name": "stdout",
     "output_type": "stream",
     "text": [
      "mean for each column [1250.     2.5]\n",
      "std for each column [250.    0.5]\n",
      "[[-1. -1.]\n",
      " [ 1.  1.]]\n"
     ]
    }
   ],
   "source": [
    "X = np.array([[1000, 2], [1500, 3]])\n",
    "\n",
    "def standard_s(X):\n",
    "    col_mean = X.mean(axis=0)\n",
    "    print(\"mean for each column\", col_mean)\n",
    "    col_std = X.std(axis=0)\n",
    "    print(\"std for each column\", col_std)\n",
    "    return (X - col_mean) / col_std\n",
    "\n",
    "print(standard_s(X))"
   ]
  },
  {
   "cell_type": "markdown",
   "metadata": {},
   "source": [
    "### SKLearn version of preprecoessing package:"
   ]
  },
  {
   "cell_type": "code",
   "execution_count": 35,
   "metadata": {},
   "outputs": [
    {
     "name": "stdout",
     "output_type": "stream",
     "text": [
      "[[-1. -1.]\n",
      " [ 1.  1.]]\n"
     ]
    }
   ],
   "source": [
    "standard_scaler = preprocessing.StandardScaler()\n",
    "X_ss = standard_scaler.fit_transform(X)\n",
    "print(X_ss)"
   ]
  },
  {
   "cell_type": "markdown",
   "metadata": {},
   "source": [
    "# Day 2: Simple Linear Regression\n",
    "\n",
    "## Review of Linear Regression\n",
    "- We want to present the relationship between two variables linearly\n",
    "    - For example, recall the example relationship between running distance and drinking water\n",
    "- In regression, we are interested in predicting a scalar-valued target, such as the price of a stock.\n",
    "- By linear, we mean that the target must be predicted as a linear function of the inputs\n",
    "\n",
    "![alt](../static/screenshots/day2-1.png)\n",
    "\n",
    "- Mean squared error\n",
    "    - square to positive error, and to penalize data points with larger distance\n",
    "- x is our feature and y is the target"
   ]
  },
  {
   "cell_type": "markdown",
   "metadata": {},
   "source": [
    "## Activity:\n",
    "We're going to revisit the example from QL with runners and water. You can assume that you are given the following data:\n",
    "\n",
    "Distance that a runner has run (in Miles)\n",
    "The amount of water that they drink (in Liters)\n",
    "Get in groups of 3 to complete the following activity\n",
    "\n",
    "### Given the below data, complete the following:\n",
    "- Plot the scatter of distance versus water that consumed\n",
    "- Find the best line that describes this relationship\n",
    "- Plot the best line that you found"
   ]
  },
  {
   "cell_type": "code",
   "execution_count": 2,
   "metadata": {},
   "outputs": [
    {
     "data": {
      "text/plain": [
       "Text(0, 0.5, 'Water Drinks (Litre)')"
      ]
     },
     "execution_count": 2,
     "metadata": {},
     "output_type": "execute_result"
    },
    {
     "data": {
      "image/png": "[encoded data removed]",
      "text/plain": [
       "<Figure size 432x288 with 1 Axes>"
      ]
     },
     "metadata": {
      "needs_background": "light"
     },
     "output_type": "display_data"
    }
   ],
   "source": [
    "import numpy as np\n",
    "\n",
    "# Distance run in miles\n",
    "X = np.array([3.3,4.4,5.5,6.71,6.93,4.168,9.779,6.182,7.59,2.167,\n",
    "                         7.042,10.791,5.313,7.997,5.654,9.27,3.1])\n",
    "\n",
    "# Amount of water consumed in liters\n",
    "Y = np.array([1.7,2.76,2.09,3.19,1.694,1.573,3.366,2.596,2.53,1.221,\n",
    "                         2.827,3.465,1.65,2.904,2.42,2.94,1.3])\n",
    "\n",
    "\n",
    "import matplotlib.pyplot as plt\n",
    "\n",
    "plt.scatter(X, Y)\n",
    "plt.xlabel('Running Distance (Mile)')\n",
    "plt.ylabel('Water Drinks (Litre)')"
   ]
  },
  {
   "cell_type": "markdown",
   "metadata": {},
   "source": [
    "### Solution"
   ]
  },
  {
   "cell_type": "code",
   "execution_count": 5,
   "metadata": {},
   "outputs": [
    {
     "name": "stdout",
     "output_type": "stream",
     "text": [
      "[[ 3.3  ]\n",
      " [ 4.4  ]\n",
      " [ 5.5  ]\n",
      " [ 6.71 ]\n",
      " [ 6.93 ]\n",
      " [ 4.168]\n",
      " [ 9.779]\n",
      " [ 6.182]\n",
      " [ 7.59 ]\n",
      " [ 2.167]\n",
      " [ 7.042]\n",
      " [10.791]\n",
      " [ 5.313]\n",
      " [ 7.997]\n",
      " [ 5.654]\n",
      " [ 9.27 ]\n",
      " [ 3.1  ]]\n"
     ]
    }
   ],
   "source": [
    "# Reshape your data when passing to sklearn\n",
    "### Passing 1-arrays as data is deprecated. Because of this,\n",
    "### we must reshape our data using X.reshape(-1, 1) since our data has a single feature\n",
    "print(X.reshape(-1, 1))"
   ]
  },
  {
   "cell_type": "code",
   "execution_count": 8,
   "metadata": {},
   "outputs": [
    {
     "name": "stdout",
     "output_type": "stream",
     "text": [
      "Best slope= [[0.25163494]]\n",
      "Best y-intercept= [0.79880123]\n"
     ]
    }
   ],
   "source": [
    "# Obtain the best slope and intercept for the given data using sklearn\n",
    "### Hints: The following documentation will be useful:\n",
    "### LinearRegression\n",
    "### Review the fit method in the above documentation\n",
    "### Review the Attributes in the above documentation to see where to find the best slope and intercept\n",
    "### Remember to reshape your data!\n",
    "\n",
    "from sklearn.linear_model import LinearRegression\n",
    "lr_reg = LinearRegression()\n",
    "\n",
    "lr_reg.fit(X.reshape(-1, 1), Y.reshape(-1, 1)) # train the model (which is linear regression cna be train by X and Y)\n",
    "print(\"Best slope=\", lr_reg.coef_) # ask the model what is the best slope (after training)\n",
    "print(\"Best y-intercept=\", lr_reg.intercept_) #ask the model the best y intercept"
   ]
  },
  {
   "cell_type": "markdown",
   "metadata": {},
   "source": [
    "### Question:\n",
    "Use the code you wrote above to predict how much water a runner will drink if they run for 5 miles"
   ]
  },
  {
   "cell_type": "code",
   "execution_count": 13,
   "metadata": {},
   "outputs": [
    {
     "data": {
      "text/plain": [
       "array([[2.05697595]])"
      ]
     },
     "execution_count": 13,
     "metadata": {},
     "output_type": "execute_result"
    }
   ],
   "source": [
    "lr_reg.predict([[5.0]])"
   ]
  },
  {
   "cell_type": "markdown",
   "metadata": {},
   "source": [
    "### Question: what are the metrics in order to evaluate Regression Model?\n",
    "1. Mean-Squared-Error (MSE)\n",
    "2. R-Squared: is a number between 0 to 1, close to one means better model\n",
    "\n",
    "\n",
    "### Question:\n",
    "What is the mean-squared-error of our Linear Regression Model?\n",
    "##### Hints:\n",
    "- Given the slope ($w_1$) and intercept ($w_0$), we can use the following formula to find the mean-square-error (MSE):\n",
    "    - $MSE = f(w_1, w_0)=\\frac{1}{N}\\sum_{i=0}^{N-1} (w_1x[i] + w_0 - y[i])^2$\n",
    "- How could the map function help you find y_predicted?"
   ]
  },
  {
   "cell_type": "code",
   "execution_count": 18,
   "metadata": {},
   "outputs": [
    {
     "name": "stdout",
     "output_type": "stream",
     "text": [
      "0.15385767404191164\n"
     ]
    },
    {
     "data": {
      "image/png": "[encoded data removed]",
      "text/plain": [
       "<Figure size 432x288 with 1 Axes>"
      ]
     },
     "metadata": {
      "needs_background": "light"
     },
     "output_type": "display_data"
    }
   ],
   "source": [
    "y_predicted = list(map(lambda x: 0.25163494*x + 0.79880123, X))\n",
    "plt.scatter(X, Y)\n",
    "plt.plot(X, y_predicted ,'r')\n",
    "error = sum([ (i-j)**2 for i, j in zip(Y, y_predicted) ]) / len(Y)\n",
    "print(error)"
   ]
  },
  {
   "cell_type": "code",
   "execution_count": 24,
   "metadata": {},
   "outputs": [
    {
     "name": "stdout",
     "output_type": "stream",
     "text": [
      "MSE= 0.15385767404191095\n"
     ]
    },
    {
     "data": {
      "image/png": "[encoded data removed]",
      "text/plain": [
       "<Figure size 432x288 with 1 Axes>"
      ]
     },
     "metadata": {
      "needs_background": "light"
     },
     "output_type": "display_data"
    }
   ],
   "source": [
    "from sklearn.metrics import mean_squared_error\n",
    "\n",
    "y_true = Y\n",
    "y_pred = lr_reg.predict(X.reshape(-1,1))\n",
    "plt.scatter(X, y_true) #plot the data points\n",
    "plt.plot(X, y_pred, 'r') #plot the linear regression line\n",
    "print(\"MSE=\", mean_squared_error(y_true, y_pred)) #the closer to 0 the better"
   ]
  },
  {
   "cell_type": "code",
   "execution_count": 26,
   "metadata": {},
   "outputs": [
    {
     "name": "stdout",
     "output_type": "stream",
     "text": [
      "0.6928760302783605\n"
     ]
    }
   ],
   "source": [
    "from sklearn.metrics import r2_score\n",
    "\n",
    "y_true = Y\n",
    "y_pred = lr_reg.predict(X.reshape(-1,1))\n",
    "print(r2_score(y_true, y_pred)) #R squared = metric to represent how well our linear regression is. The closer to 1 the better"
   ]
  },
  {
   "cell_type": "code",
   "execution_count": 27,
   "metadata": {},
   "outputs": [],
   "source": [
    "# QL Review - Python way of getting slope intercept and MSE\n",
    "import numpy as np\n",
    "\n",
    "## Slope Intercept\n",
    "def slope_intercept_LR(x, y):\n",
    "    w1 = (np.mean([i*j for i, j in zip(x, y)]) - np.mean(x) * np.mean(y)) / (np.mean([i*i for i in x])) - np.mean(x) #this line maybe wrong check the last np.mean(x)\n",
    "    w0 = np.mean(y) - w1.np.mean(x)\n",
    "    return w1, w0\n",
    "\n",
    "# print(slope_intercept_LR(X, Y))\n",
    "\n",
    "## Mean Squared Error\n",
    "def min_sq_error(y, x, w1, w0):\n",
    "    y_pred = [w1*i + w0 for i in x]\n",
    "    sum_squared_error = sum([(i-j)**2 for i,j in zip(y_pred, y)])\n",
    "    N = len(y)\n",
    "    mse = sum_squared_error / N\n",
    "    return mse"
   ]
  },
  {
   "cell_type": "markdown",
   "metadata": {},
   "source": [
    "## Activity: How much companies' sales would be based on their product advertisement?\n",
    "- We have a dataset of 200 companies, comprised of the top 150 companies, and the bottom 50 companies.\n",
    "- The top companies (150) spent money to advertise their product on TV, radio and newspaper\n",
    "- Based on their advertisments, they have calculated the sale that they had\n",
    "- For the bottom companies (50), they want to have an estimation for the following: if they spend X dollar, Y dollar and Z dollar on TV, radio and newspaper, respectively, how much would their predicted sales be?\n",
    "- We will use the top 150 companies in our dataset to train the model, and the bottom 50 companies to check that the model is working correctly\n"
   ]
  },
  {
   "cell_type": "code",
   "execution_count": 31,
   "metadata": {},
   "outputs": [
    {
     "data": {
      "text/html": [
       "<div>\n",
       "<style scoped>\n",
       "    .dataframe tbody tr th:only-of-type {\n",
       "        vertical-align: middle;\n",
       "    }\n",
       "\n",
       "    .dataframe tbody tr th {\n",
       "        vertical-align: top;\n",
       "    }\n",
       "\n",
       "    .dataframe thead th {\n",
       "        text-align: right;\n",
       "    }\n",
       "</style>\n",
       "<table border=\"1\" class=\"dataframe\">\n",
       "  <thead>\n",
       "    <tr style=\"text-align: right;\">\n",
       "      <th></th>\n",
       "      <th>Unnamed: 0</th>\n",
       "      <th>TV</th>\n",
       "      <th>radio</th>\n",
       "      <th>newspaper</th>\n",
       "      <th>sales</th>\n",
       "    </tr>\n",
       "  </thead>\n",
       "  <tbody>\n",
       "    <tr>\n",
       "      <th>0</th>\n",
       "      <td>1</td>\n",
       "      <td>230.1</td>\n",
       "      <td>37.8</td>\n",
       "      <td>69.2</td>\n",
       "      <td>22.1</td>\n",
       "    </tr>\n",
       "    <tr>\n",
       "      <th>1</th>\n",
       "      <td>2</td>\n",
       "      <td>44.5</td>\n",
       "      <td>39.3</td>\n",
       "      <td>45.1</td>\n",
       "      <td>10.4</td>\n",
       "    </tr>\n",
       "    <tr>\n",
       "      <th>2</th>\n",
       "      <td>3</td>\n",
       "      <td>17.2</td>\n",
       "      <td>45.9</td>\n",
       "      <td>69.3</td>\n",
       "      <td>9.3</td>\n",
       "    </tr>\n",
       "    <tr>\n",
       "      <th>3</th>\n",
       "      <td>4</td>\n",
       "      <td>151.5</td>\n",
       "      <td>41.3</td>\n",
       "      <td>58.5</td>\n",
       "      <td>18.5</td>\n",
       "    </tr>\n",
       "    <tr>\n",
       "      <th>4</th>\n",
       "      <td>5</td>\n",
       "      <td>180.8</td>\n",
       "      <td>10.8</td>\n",
       "      <td>58.4</td>\n",
       "      <td>12.9</td>\n",
       "    </tr>\n",
       "  </tbody>\n",
       "</table>\n",
       "</div>"
      ],
      "text/plain": [
       "   Unnamed: 0     TV  radio  newspaper  sales\n",
       "0           1  230.1   37.8       69.2   22.1\n",
       "1           2   44.5   39.3       45.1   10.4\n",
       "2           3   17.2   45.9       69.3    9.3\n",
       "3           4  151.5   41.3       58.5   18.5\n",
       "4           5  180.8   10.8       58.4   12.9"
      ]
     },
     "execution_count": 31,
     "metadata": {},
     "output_type": "execute_result"
    }
   ],
   "source": [
    "import pandas as pd\n",
    "from sklearn.linear_model import LinearRegression\n",
    "from sklearn.metrics import r2_score\n",
    "\n",
    "\n",
    "df = pd.read_csv(\"dataset/Advertising.csv\")\n",
    "feature_cols = [\"TV\", \"radio\", \"newspaper\"]\n",
    "\n",
    "# Use the top 150 companies to train the Linear Regression Model\n",
    "X_train = df[feature_cols][:150]\n",
    "Y_train = df.sales[:150]\n",
    "\n",
    "df.head()"
   ]
  },
  {
   "cell_type": "markdown",
   "metadata": {},
   "source": [
    "#### TODO: Instansiate the model (Linear Regression) and train it\n",
    "Use the top 150 companies to train the linear regression model. So the model does know about TV, Radio and Newspaper amount and also their sales for top 150 (75% of the dataset). However, we intentionally hide the sales for bottom 50 companies"
   ]
  },
  {
   "cell_type": "code",
   "execution_count": 40,
   "metadata": {},
   "outputs": [
    {
     "name": "stdout",
     "output_type": "stream",
     "text": [
      "Generating a linear regression on the top 150 companies (first one)\n",
      "\n",
      "Printing the coefficient and y intercept of our first 150 sales\n",
      "Slope for each column=\t [ 0.04700012  0.17993257 -0.00140273]\n",
      "Y-intercept=\t\t 3.029766796293691\n"
     ]
    }
   ],
   "source": [
    "df = pd.read_csv(\"dataset/Advertising.csv\")\n",
    "feature_cols = [\"TV\", \"radio\", \"newspaper\"]\n",
    "\n",
    "# Get the top 150 companies to train the Linear Regression Model with\n",
    "X_train = df[feature_cols][:150]\n",
    "Y_train = df.sales[:150]\n",
    "\n",
    "# Instansiate the model (Linear Regression) and train it\n",
    "print(\"Generating a linear regression on the top 150 companies (first one)\")\n",
    "sales_reg = LinearRegression()\n",
    "sales_reg.fit(X_train, Y_train)\n",
    "\n",
    "print(\"\\nPrinting the coefficient and y intercept of our first 150 sales\")\n",
    "print(\"Slope for each column=\\t\", sales_reg.coef_)\n",
    "print(\"Y-intercept=\\t\\t\", sales_reg.intercept_)"
   ]
  },
  {
   "cell_type": "markdown",
   "metadata": {},
   "source": [
    "#### TODO: Predict the botton 50 companies' sales"
   ]
  },
  {
   "cell_type": "code",
   "execution_count": 47,
   "metadata": {},
   "outputs": [
    {
     "name": "stdout",
     "output_type": "stream",
     "text": [
      "Predicting the sales of the bottom 50 companies (last ones)\n",
      "[18.67186188 10.15990172 16.48950045 18.17132726 15.63964047  5.30168953\n",
      " 15.19930681 10.27021058 10.15577653 12.48190724 14.35100299 13.43010832\n",
      " 15.10545883 17.32542469 11.17561481 14.54411372 10.60623457 13.6578278\n",
      " 17.31920373 18.29020846  7.44118029 14.4553876   7.54376735 12.20415315\n",
      " 14.07598825 24.7841683  20.11008458 12.38328494 16.41529992 12.58762415\n",
      " 10.84616747 14.23249384  6.65512798 24.18338541 18.74887883 20.75225663\n",
      "  9.92682913 17.15002463 18.96767352  6.05302918 12.27336433  8.51313117\n",
      "  4.53156602 18.42150484 16.46286778  5.47156415  8.32748549 13.01318332\n",
      " 23.82330766 15.4737108 ]\n",
      "\n",
      "Trained score=\t 0.8963519785440216\n",
      "Actual scores=\t 0.8963519785440216\n"
     ]
    }
   ],
   "source": [
    "X_test = df[feature_cols][-50:]\n",
    "Y_test = df.sales[-50:]\n",
    "print(\"Predicting the sales of the bottom 50 companies (last ones)\")\n",
    "print(sales_reg.predict(X_test))\n",
    "\n",
    "print(\"\\nTrained score=\\t\", sales_reg.score(X_test, Y_test)) #score from the linear regression model\n",
    "print(\"Actual scores=\\t\", r2_score(Y_test, sales_reg.predict(X_test))) #actual score"
   ]
  },
  {
   "cell_type": "markdown",
   "metadata": {},
   "source": [
    "### Question: If a new company spends 100, 100, and 20 dollars on TV, radio and newspaper, respectively on advertising, how much sales would you predict they have?"
   ]
  },
  {
   "cell_type": "code",
   "execution_count": 46,
   "metadata": {},
   "outputs": [
    {
     "data": {
      "text/plain": [
       "array([25.69498118])"
      ]
     },
     "execution_count": 46,
     "metadata": {},
     "output_type": "execute_result"
    }
   ],
   "source": [
    "sales_reg.predict([[100, 100, 20]])"
   ]
  },
  {
   "cell_type": "code",
   "execution_count": 57,
   "metadata": {},
   "outputs": [
    {
     "name": "stdout",
     "output_type": "stream",
     "text": [
      "Columns= Index(['Unnamed: 0', 'TV', 'radio', 'newspaper', 'sales'], dtype='object')\n",
      "151st company's values= [121.    8.4  48.7]\n",
      "151st company's sales= 11.6\n",
      "SUM= 10.15990195329369\n",
      "Actual= 10.15990195329369\n"
     ]
    }
   ],
   "source": [
    "import pandas as pd\n",
    "import numpy as np\n",
    "\n",
    "df = pd.read_csv(\"dataset/Advertising.csv\")\n",
    "feature_cols = [\"TV\", \"radio\", \"newspaper\"]\n",
    "\n",
    "# Get the top 150 companies to train the Linear Regression Model with\n",
    "X_train = df[feature_cols][:150]\n",
    "Y_train = df.sales[:150]\n",
    "sales_reg = LinearRegression()\n",
    "sales_reg.fit(X_train, Y_train)\n",
    "\n",
    "W = np.array([ 0.04700012, 0.17993257, -0.00140273]) #from sales_reg.coef_\n",
    "y_intercept = 3.029766796293691 #y - intercept\n",
    "\n",
    "print(\"Columns=\",df.columns)\n",
    "print(\"151st company's values=\", df.values[151, 1:4]) #the TV, radio, and newspaper for the 151st company\n",
    "print(\"151st company's sales=\", df.values[151, 4]) #sales for the 151st company\n",
    "print(\"SUM=\", sum(df.values[151, 1:4] * W) + y_intercept)\n",
    "print(\"Actual=\", 0.04700012*121 + 0.17993257*8.4 + -0.00140273*48.7 + y_intercept)"
   ]
  },
  {
   "cell_type": "code",
   "execution_count": null,
   "metadata": {},
   "outputs": [],
   "source": []
  },
  {
   "cell_type": "code",
   "execution_count": null,
   "metadata": {},
   "outputs": [],
   "source": []
  },
  {
   "cell_type": "markdown",
   "metadata": {},
   "source": [
    "# Day 3: Support Vector Machine\n",
    "https://github.com/Make-School-Courses/DS-2.1-Machine-Learning/blob/master/Notebooks/remote_simple_svm.ipynb\n",
    "\n",
    "\n",
    "## Support Vector Machine (SVM)\n",
    "SVM is a **supervised machine learning model for classification tasks**. It's really good at doing both classification and regression simultaneously.\n",
    "\n",
    "If you have a lot of data that needs to be classified, an SVM can help you achieve that\n",
    "\n",
    "For two dimensions (when we have two features), assume the target has two classes. The SVM will obtain the best line that seperates the data into two groups\n",
    "\n",
    "![alt](../static/screenshots/day3-1.png)\n",
    "\n",
    "## What are Support Vectors in SVM?\n",
    "Support vectors are the **datapoints that lie closest to the decision boundary** (best line, seen in red below)\n",
    "\n",
    "![alt](../static/screenshots/day3-2.png)"
   ]
  },
  {
   "cell_type": "markdown",
   "metadata": {},
   "source": [
    "## Brain Health\n",
    "We have medical data on brain health through the following Brain Health Dataset\n",
    "\n",
    "- Two features (X1 and X2 columns) are given that are releted to brain chemistry:\n",
    "    - Serotonin\n",
    "    - Dopamine\n",
    "- The target (y column) shows brain health by indicating having (-1) or not having (1) depression.\n",
    "    - 1 means subject does not have depression\n",
    "    - -1 means subject does have depression"
   ]
  },
  {
   "cell_type": "code",
   "execution_count": 4,
   "metadata": {},
   "outputs": [
    {
     "name": "stdout",
     "output_type": "stream",
     "text": [
      "         X1        X2  y\n",
      "0  2.947814  6.626878  1\n",
      "1  2.530388  7.785050  1\n",
      "2  3.566991  5.651046  1\n",
      "3  3.156983  5.467077  1\n",
      "4  2.582346  4.457777 -1\n",
      "5  2.155826  6.222343 -1\n",
      "6  3.273418  3.520687 -1\n"
     ]
    }
   ],
   "source": [
    "import pandas as pd\n",
    "\n",
    "df=pd.read_csv('dataset/SVM_Dataset1.csv', index_col=0)\n",
    "print(df)"
   ]
  },
  {
   "cell_type": "markdown",
   "metadata": {},
   "source": [
    "### Activity: Lets build our X_train and Y_train arrays"
   ]
  },
  {
   "cell_type": "code",
   "execution_count": 9,
   "metadata": {},
   "outputs": [
    {
     "name": "stdout",
     "output_type": "stream",
     "text": [
      "X_Train= [[2.947814 6.626878]\n",
      " [2.530388 7.78505 ]\n",
      " [3.566991 5.651046]\n",
      " [3.156983 5.467077]\n",
      " [2.582346 4.457777]\n",
      " [2.155826 6.222343]\n",
      " [3.273418 3.520687]]\n",
      "\n",
      "Y_Train= [ 1  1  1  1 -1 -1 -1]\n"
     ]
    }
   ],
   "source": [
    "import numpy as np\n",
    "X1=df['X1']\n",
    "X2=df['X2']\n",
    "X_train=np.array(list(zip(X1,X2))) #create an array from X1 and X2\n",
    "print(\"X_Train=\", X_train)\n",
    "\n",
    "y_train=df['y'].values\n",
    "print(\"\\nY_Train=\", y_train)"
   ]
  },
  {
   "cell_type": "markdown",
   "metadata": {},
   "source": [
    "### Activity: Assign color and label to each target class\n",
    "Hint: To do this, build two lists whose color/label values match with the values of the y_train array at the corresponding indices."
   ]
  },
  {
   "cell_type": "code",
   "execution_count": 10,
   "metadata": {},
   "outputs": [
    {
     "name": "stdout",
     "output_type": "stream",
     "text": [
      "['b', 'b', 'b', 'b', 'r', 'r', 'r']\n"
     ]
    }
   ],
   "source": [
    "color_ls = []\n",
    "# if y == 1, then the value at the same index in color_ls will be 'b'\n",
    "# otherwise, it will be 'r'\n",
    "for k in y_train:\n",
    "    if k == 1:\n",
    "        color_ls.append('b')\n",
    "    else:\n",
    "        color_ls.append('r')\n",
    "\n",
    "print(color_ls)"
   ]
  },
  {
   "cell_type": "code",
   "execution_count": 11,
   "metadata": {},
   "outputs": [
    {
     "name": "stdout",
     "output_type": "stream",
     "text": [
      "['H', 'H', 'H', 'H', 'NH', 'NH', 'NH']\n"
     ]
    }
   ],
   "source": [
    "label = []\n",
    "# if y == 1, then the value at the same index in label will be 'H'\n",
    "# otherwise, it will be 'NH'\n",
    "for k in y_train:\n",
    "    if k == 1:\n",
    "        label.append('H')\n",
    "    else:\n",
    "        label.append('NH')\n",
    "\n",
    "print(label)"
   ]
  },
  {
   "cell_type": "markdown",
   "metadata": {},
   "source": [
    "### Activity: Create a scatter plot of data with labels\n",
    "Complete this activity groups of 3:\n",
    "\n",
    "**Hints:**\n",
    "- There's some functions in [matplotlib.pyplot](https://matplotlib.org/3.2.1/api/_as_gen/matplotlib.pyplot.html) that will help us here.\n",
    "- How can the [enumerate function](https://www.geeksforgeeks.org/enumerate-in-python/) help us here?"
   ]
  },
  {
   "cell_type": "code",
   "execution_count": 13,
   "metadata": {},
   "outputs": [
    {
     "data": {
      "image/png": "[encoded data removed]",
      "text/plain": [
       "<Figure size 432x288 with 1 Axes>"
      ]
     },
     "metadata": {
      "needs_background": "light"
     },
     "output_type": "display_data"
    }
   ],
   "source": [
    "import matplotlib.pyplot as plt\n",
    "\n",
    "# k is our index, (i,j) are our Serotonin and Dopamine pairings.\n",
    "# For example, here are the values on the first iteration of the loop:\n",
    "# k == 0, (i, j) == (2.947814, 6.626878)\n",
    "for k, (i,j) in enumerate(X_train):\n",
    "    # add the datapoint to a scatter plot,\n",
    "    # using the k'th color in colors_ls\n",
    "    plt.scatter(i, j, c = color_ls[k])\n",
    "    # 0.02 to the right and above the point,\n",
    "    # add the k'th text label in label\n",
    "    plt.text(i+0.02, j+0.02, label[k])"
   ]
  },
  {
   "cell_type": "markdown",
   "metadata": {},
   "source": [
    "## How to obtain the best line using sklearn\n",
    "sklearn has an [SVM module](https://scikit-learn.org/stable/modules/svm.html#svm) you can import that will help you find the best fit line. Look into how the SVC and fit functions can help you"
   ]
  },
  {
   "cell_type": "code",
   "execution_count": 14,
   "metadata": {},
   "outputs": [
    {
     "data": {
      "text/plain": [
       "SVC(C=10, cache_size=200, class_weight=None, coef0=0.0,\n",
       "    decision_function_shape='ovr', degree=3, gamma='auto_deprecated',\n",
       "    kernel='linear', max_iter=-1, probability=False, random_state=None,\n",
       "    shrinking=True, tol=0.001, verbose=False)"
      ]
     },
     "execution_count": 14,
     "metadata": {},
     "output_type": "execute_result"
    }
   ],
   "source": [
    "from sklearn import svm\n",
    "\n",
    "# svm_classifier = svm.SVC(kernel='poly',C=1, degree=2)\n",
    "\n",
    "# We want to use a linear classification\n",
    "svm_classifier = svm.SVC(kernel='linear', C=10) #C is a hyper parameter for this\n",
    "\n",
    "# find the best fit line that separates our group\n",
    "svm_classifier.fit(X_train, y_train)"
   ]
  },
  {
   "cell_type": "code",
   "execution_count": 15,
   "metadata": {},
   "outputs": [],
   "source": [
    "# Helper function to plot the best fit line,\n",
    "# as well as marking the closest data points to the line,\n",
    "# through dotted lines (margins)\n",
    "def plot_decision_boundary(clf, X, y):\n",
    "    x1_min, x1_max = X[:, 0].min() - 1, X[:, 0].max() + 1\n",
    "    x2_min, x2_max = X[:, 1].min() - 1, X[:, 1].max() + 1\n",
    "    xx1, xx2 = np.meshgrid(np.arange(x1_min, x1_max),np.arange(x2_min, x2_max))\n",
    "    Z = clf.decision_function(np.array([xx1.ravel(), xx2.ravel()]).T).reshape(xx1.shape)\n",
    "    plt.contour(xx1, xx2, Z, colors='b', levels=[-1, 0, 1], alpha=0.4, linestyles=['--', '-', '--'])\n",
    "    plt.xlim(xx1.min(), xx1.max())\n",
    "    plt.ylim(xx2.min(), xx2.max())"
   ]
  },
  {
   "cell_type": "code",
   "execution_count": 16,
   "metadata": {},
   "outputs": [
    {
     "data": {
      "image/png": "[encoded data removed]",
      "text/plain": [
       "<Figure size 432x288 with 1 Axes>"
      ]
     },
     "metadata": {
      "needs_background": "light"
     },
     "output_type": "display_data"
    }
   ],
   "source": [
    "# pass in the trained model and data points,\n",
    "# and plot the best fit line + margins\n",
    "plot_decision_boundary(svm_classifier, X_train, y_train)\n",
    "\n",
    "# plot data points + color/labels\n",
    "for k, (i,j) in enumerate(X_train):\n",
    "    plt.scatter(i, j, c = color_ls[k])\n",
    "    plt.text(i+0.02, j+0.02, label[k])"
   ]
  },
  {
   "cell_type": "code",
   "execution_count": 17,
   "metadata": {},
   "outputs": [
    {
     "data": {
      "text/plain": [
       "array([2, 1], dtype=int32)"
      ]
     },
     "execution_count": 17,
     "metadata": {},
     "output_type": "execute_result"
    }
   ],
   "source": [
    "# Number of Support Vectors for each class:\n",
    "svm_classifier.n_support_"
   ]
  },
  {
   "cell_type": "code",
   "execution_count": 18,
   "metadata": {},
   "outputs": [
    {
     "data": {
      "text/plain": [
       "array([[2.155826, 6.222343],\n",
       "       [3.273418, 3.520687],\n",
       "       [3.156983, 5.467077]])"
      ]
     },
     "execution_count": 18,
     "metadata": {},
     "output_type": "execute_result"
    }
   ],
   "source": [
    "# What are those Support Vectors:\n",
    "svm_classifier.support_vectors_"
   ]
  },
  {
   "cell_type": "code",
   "execution_count": 20,
   "metadata": {},
   "outputs": [
    {
     "name": "stdout",
     "output_type": "stream",
     "text": [
      "Weight= [[2.90336685 1.20121959]]\n",
      "Intercept [-14.73321143]\n"
     ]
    }
   ],
   "source": [
    "# Obtain the slope (weight) and intercept for the best fit line equation: \n",
    "\n",
    "# a + b\n",
    "weight=svm_classifier.coef_\n",
    "\n",
    "# c\n",
    "intercept=svm_classifier.intercept_\n",
    "\n",
    "print(\"Weight=\", weight)\n",
    "print(\"Intercept\", intercept)"
   ]
  },
  {
   "cell_type": "markdown",
   "metadata": {},
   "source": [
    "### From the above weight and intecept results, we can say the best line is:\n",
    "$ax_1+bx_2+c =0$, where $a = 2.90336685$, $b = 1.20121959$ and $c = -14.73321143$\n",
    "\n",
    "### Activity: Check that the points (3, 5) and (2, 7.5) are very close to the best line:\n",
    "- Use a, b, and c that we just calculated"
   ]
  },
  {
   "cell_type": "code",
   "execution_count": 25,
   "metadata": {},
   "outputs": [
    {
     "name": "stdout",
     "output_type": "stream",
     "text": [
      "-0.017012931258699737\n",
      "0.08266919494858271\n"
     ]
    }
   ],
   "source": [
    "print(weight[0][0]*3 + weight[0][1]*5 + intercept[0])\n",
    "print(weight[0][0]*2 + weight[0][1]*7.5 + intercept[0])"
   ]
  },
  {
   "cell_type": "markdown",
   "metadata": {},
   "source": [
    "### Activity: Am I healthy?\n",
    "- I went to a medical lab and they measured my Serotonin and Dopamine which was 3 and 6, respectively.\n",
    "- Can we use the SVM classifier to see if I am deppressed?"
   ]
  },
  {
   "cell_type": "code",
   "execution_count": 33,
   "metadata": {},
   "outputs": [
    {
     "name": "stdout",
     "output_type": "stream",
     "text": [
      "Healthy\n",
      "1.1842066592050333\n"
     ]
    }
   ],
   "source": [
    "is_healthy = svm_classifier.predict([[3,6]])\n",
    "\n",
    "if is_healthy == 1:\n",
    "    print(\"Healthy\")\n",
    "else:\n",
    "    print(\"Not Healthy\")\n",
    "    \n",
    "print(weight[0][0]*3 + weight[0][1]*6 + intercept[0]) #weight can also be read as slopes"
   ]
  },
  {
   "cell_type": "markdown",
   "metadata": {},
   "source": [
    "## SVM Training For Non-Linearly Separable Data\n",
    "Based on the [SVM_Dataset2 dataset](https://render.githubusercontent.com/view/Datasets/SVM_Dataset2.csv), it is possible that we can not find a line that separates the two classes."
   ]
  },
  {
   "cell_type": "code",
   "execution_count": 56,
   "metadata": {},
   "outputs": [
    {
     "name": "stdout",
     "output_type": "stream",
     "text": [
      "      x1  x2  y\n",
      "0    7.0  20 -1\n",
      "1    8.0  12 -1\n",
      "2    9.0  19 -1\n",
      "3   10.0  17 -1\n",
      "4   11.0  15 -1\n",
      "5   13.0  14 -1\n",
      "6   14.0  12 -1\n",
      "7   15.0  14 -1\n",
      "8   15.0  17 -1\n",
      "9   16.0  16 -1\n",
      "10   4.0  15  1\n",
      "11   5.5  12  1\n",
      "12   7.0  10  1\n",
      "13   8.0  10  1\n",
      "14   9.0   9  1\n",
      "15  10.0   8  1\n",
      "16  11.0   5  1\n",
      "17  12.0   7  1\n",
      "18  12.0   9  1\n",
      "19  13.0  10  1\n"
     ]
    }
   ],
   "source": [
    "import pandas as pd\n",
    "\n",
    "df2 = pd.read_csv('dataset/SVM_Dataset2.csv')\n",
    "print(df2)"
   ]
  },
  {
   "cell_type": "code",
   "execution_count": 58,
   "metadata": {},
   "outputs": [
    {
     "name": "stdout",
     "output_type": "stream",
     "text": [
      "X_Train= [[ 7.  20. ]\n",
      " [ 8.  12. ]\n",
      " [ 9.  19. ]\n",
      " [10.  17. ]\n",
      " [11.  15. ]\n",
      " [13.  14. ]\n",
      " [14.  12. ]\n",
      " [15.  14. ]\n",
      " [15.  17. ]\n",
      " [16.  16. ]\n",
      " [ 4.  15. ]\n",
      " [ 5.5 12. ]\n",
      " [ 7.  10. ]\n",
      " [ 8.  10. ]\n",
      " [ 9.   9. ]\n",
      " [10.   8. ]\n",
      " [11.   5. ]\n",
      " [12.   7. ]\n",
      " [12.   9. ]\n",
      " [13.  10. ]]\n",
      "\n",
      "Y_Train= [-1 -1 -1 -1 -1 -1 -1 -1 -1 -1  1  1  1  1  1  1  1  1  1  1]\n",
      "['r', 'r', 'r', 'r', 'r', 'r', 'r', 'r', 'r', 'r', 'b', 'b', 'b', 'b', 'b', 'b', 'b', 'b', 'b', 'b']\n",
      "['NH', 'NH', 'NH', 'NH', 'NH', 'NH', 'NH', 'NH', 'NH', 'NH', 'H', 'H', 'H', 'H', 'H', 'H', 'H', 'H', 'H', 'H']\n"
     ]
    }
   ],
   "source": [
    "import numpy as np\n",
    "X1=df2['x1']\n",
    "X2=df2['x2']\n",
    "X_train=np.array(list(zip(X1,X2))) #create an array from X1 and X2\n",
    "print(\"X_Train=\", X_train)\n",
    "\n",
    "y_train=df2['y'].values\n",
    "print(\"\\nY_Train=\", y_train)\n",
    "\n",
    "color_ls = []\n",
    "# if y == 1, then the value at the same index in color_ls will be 'b'\n",
    "# otherwise, it will be 'r'\n",
    "for k in y_train:\n",
    "    if k == 1:\n",
    "        color_ls.append('b')\n",
    "    else:\n",
    "        color_ls.append('r')\n",
    "\n",
    "print(color_ls)\n",
    "\n",
    "label = []\n",
    "# if y == 1, then the value at the same index in label will be 'H'\n",
    "# otherwise, it will be 'NH'\n",
    "for k in y_train:\n",
    "    if k == 1:\n",
    "        label.append('H')\n",
    "    else:\n",
    "        label.append('NH')\n",
    "\n",
    "print(label)"
   ]
  },
  {
   "cell_type": "code",
   "execution_count": 59,
   "metadata": {},
   "outputs": [
    {
     "data": {
      "image/png": "[encoded data removed]",
      "text/plain": [
       "<Figure size 432x288 with 1 Axes>"
      ]
     },
     "metadata": {
      "needs_background": "light"
     },
     "output_type": "display_data"
    }
   ],
   "source": [
    "import matplotlib.pyplot as plt\n",
    "\n",
    "# k is our index, (i,j) are our Serotonin and Dopamine pairings.\n",
    "# For example, here are the values on the first iteration of the loop:\n",
    "# k == 0, (i, j) == (2.947814, 6.626878)\n",
    "for k, (i,j) in enumerate(X_train):\n",
    "    # add the datapoint to a scatter plot,\n",
    "    # using the k'th color in colors_ls\n",
    "    plt.scatter(i, j, c = color_ls[k])\n",
    "    # 0.02 to the right and above the point,\n",
    "    # add the k'th text label in label\n",
    "    plt.text(i+0.02, j+0.02, label[k])"
   ]
  },
  {
   "cell_type": "markdown",
   "metadata": {},
   "source": [
    "### Kernels in SVM and their parameters:\n",
    "#### Type of kernels:\n",
    "- Linear\n",
    "- Polynomial\n",
    "- RBF (Gaussian)\n",
    "\n",
    "There are two parameters for each of these:\n",
    "\n",
    "Gamma (for RBF only). This is the \"spread\" of the decision region (kernel)\n",
    "C (for all of them). This is the threshold for misclassifying data.\n",
    "Read [this article on SVM parameters](https://chrisalbon.com/machine_learning/support_vector_machines/svc_parameters_using_rbf_kernel/) for more information! (Optional)\n",
    "\n",
    "### What if the classes are unbalanced?\n",
    "Let's go through this example together to learn about assigning class weights for SVMs: http://scikit-learn.org/stable/auto_examples/svm/plot_separating_hyperplane_unbalanced.html\n",
    "\n",
    "### Activity: Obtain which line (black or red) from the previous example will have the lowest error\n",
    "\n",
    "#### Follow these steps:\n",
    "1. Train two SVM models: one with class weights, and one without\n",
    "2. Pass the dataset into your SVM models\n",
    "3. Compare the model predictions with known classes\n",
    "4. Report which one has the lowest mistakes (error rate)\n",
    "5. Use the following code to get started (includes the dataset to use:)"
   ]
  },
  {
   "cell_type": "code",
   "execution_count": 67,
   "metadata": {},
   "outputs": [
    {
     "data": {
      "text/plain": [
       "array([[ 8. , 12. ],\n",
       "       [ 4. , 15. ],\n",
       "       [ 5.5, 12. ],\n",
       "       [13. , 10. ]])"
      ]
     },
     "execution_count": 67,
     "metadata": {},
     "output_type": "execute_result"
    },
    {
     "data": {
      "image/png": "[encoded data removed]",
      "text/plain": [
       "<Figure size 432x288 with 1 Axes>"
      ]
     },
     "metadata": {
      "needs_background": "light"
     },
     "output_type": "display_data"
    }
   ],
   "source": [
    "import numpy as np\n",
    "import pandas as pd\n",
    "from sklearn import svm\n",
    "import matplotlib.pyplot as plt\n",
    "\n",
    "df=pd.read_csv('dataset/SVM_Dataset2.csv')\n",
    "\n",
    "\n",
    "X1=df['x1']\n",
    "X2=df['x2']\n",
    "\n",
    "X_train=np.array(list(zip(X1,X2)))\n",
    "y_train=df['y'].values\n",
    "\n",
    "\n",
    "# svm_classifier = svm.SVC(kernel='linear',C=10)\n",
    "\n",
    "# svm_classifier = svm.SVC(kernel='rbf', gamma=0.1, C=10)\n",
    "\n",
    "svm_classifier = svm.SVC(kernel='poly', degree=2, gamma='auto', C=10)\n",
    "\n",
    "svm_classifier.fit(X_train, y_train)\n",
    "\n",
    "color_ls = []\n",
    "for k in y_train:\n",
    "    if k == 1:\n",
    "        color_ls.append('b')\n",
    "    else:\n",
    "        color_ls.append('r')\n",
    "color_ls\n",
    "\n",
    "label = []\n",
    "for k in y_train:\n",
    "    if k == 1:\n",
    "        label.append('H')\n",
    "    else:\n",
    "        label.append('NH')\n",
    "label\n",
    "\n",
    "def plot_decision_boundary(clf, X, y):\n",
    "    x1_min, x1_max = X[:, 0].min() - 1, X[:, 0].max() + 1\n",
    "    x2_min, x2_max = X[:, 1].min() - 1, X[:, 1].max() + 1\n",
    "    xx1, xx2 = np.meshgrid(np.arange(x1_min, x1_max),np.arange(x2_min, x2_max))\n",
    "    Z = clf.decision_function(np.array([xx1.ravel(), xx2.ravel()]).T).reshape(xx1.shape)\n",
    "    plt.contourf(xx1, xx2, Z, colors='k', levels=[-1, 0, 1], alpha=0.4, linestyles=['--', '-', '--'])\n",
    "    plt.xlim(xx1.min(), xx1.max())\n",
    "    plt.ylim(xx2.min(), xx2.max())\n",
    "    \n",
    "\n",
    "plot_decision_boundary(svm_classifier, X_train, y_train)\n",
    "\n",
    "for k, (i,j) in enumerate(X_train):\n",
    "    plt.scatter(i, j, c = color_ls[k])\n",
    "    plt.text(i+0.02, j+0.02, label[k])\n",
    "    \n",
    "svm_classifier.support_vectors_"
   ]
  },
  {
   "cell_type": "markdown",
   "metadata": {},
   "source": [
    "## Article: SVC Parameters When Using RBF Kernel\n",
    "https://chrisalbon.com/machine_learning/support_vector_machines/svc_parameters_using_rbf_kernel/\n"
   ]
  },
  {
   "cell_type": "code",
   "execution_count": 69,
   "metadata": {},
   "outputs": [],
   "source": [
    "# Import packages to visualize the classifer\n",
    "from matplotlib.colors import ListedColormap\n",
    "import matplotlib.pyplot as plt\n",
    "import warnings\n",
    "\n",
    "# Import packages to do the classifying\n",
    "import numpy as np\n",
    "from sklearn.svm import SVC"
   ]
  },
  {
   "cell_type": "markdown",
   "metadata": {},
   "source": [
    "#### Helper Methods\n",
    "Do not need to understand this code block"
   ]
  },
  {
   "cell_type": "code",
   "execution_count": 72,
   "metadata": {},
   "outputs": [],
   "source": [
    "def versiontuple(v):\n",
    "    return tuple(map(int, (v.split(\".\"))))\n",
    "\n",
    "def plot_decision_regions(X, y, classifier, test_idx=None, resolution=0.02):\n",
    "\n",
    "    # setup marker generator and color map\n",
    "    markers = ('s', 'x', 'o', '^', 'v')\n",
    "    colors = ('red', 'blue', 'lightgreen', 'gray', 'cyan')\n",
    "    cmap = ListedColormap(colors[:len(np.unique(y))])\n",
    "\n",
    "    # plot the decision surface\n",
    "    x1_min, x1_max = X[:, 0].min() - 1, X[:, 0].max() + 1\n",
    "    x2_min, x2_max = X[:, 1].min() - 1, X[:, 1].max() + 1\n",
    "    xx1, xx2 = np.meshgrid(np.arange(x1_min, x1_max, resolution),\n",
    "                           np.arange(x2_min, x2_max, resolution))\n",
    "    Z = classifier.predict(np.array([xx1.ravel(), xx2.ravel()]).T)\n",
    "    Z = Z.reshape(xx1.shape)\n",
    "    plt.contourf(xx1, xx2, Z, alpha=0.4, cmap=cmap)\n",
    "    plt.xlim(xx1.min(), xx1.max())\n",
    "    plt.ylim(xx2.min(), xx2.max())\n",
    "\n",
    "    for idx, cl in enumerate(np.unique(y)):\n",
    "        plt.scatter(x=X[y == cl, 0], y=X[y == cl, 1],\n",
    "                    alpha=0.8, c=cmap(idx),\n",
    "                    marker=markers[idx], label=cl)\n",
    "\n",
    "    # highlight test samples\n",
    "    if test_idx:\n",
    "        # plot all samples\n",
    "        if not versiontuple(np.__version__) >= versiontuple('1.9.0'):\n",
    "            X_test, y_test = X[list(test_idx), :], y[list(test_idx)]\n",
    "            warnings.warn('Please update to NumPy 1.9.0 or newer')\n",
    "        else:\n",
    "            X_test, y_test = X[test_idx, :], y[test_idx]\n",
    "\n",
    "        plt.scatter(X_test[:, 0],\n",
    "                    X_test[:, 1],\n",
    "                    c='',\n",
    "                    alpha=1.0,\n",
    "                    linewidths=1,\n",
    "                    marker='o',\n",
    "                    s=55, label='test set')"
   ]
  },
  {
   "cell_type": "markdown",
   "metadata": {},
   "source": [
    "#### Generate Data"
   ]
  },
  {
   "cell_type": "code",
   "execution_count": 70,
   "metadata": {},
   "outputs": [
    {
     "data": {
      "image/png": "[encoded data removed]",
      "text/plain": [
       "<Figure size 432x288 with 1 Axes>"
      ]
     },
     "metadata": {
      "needs_background": "light"
     },
     "output_type": "display_data"
    }
   ],
   "source": [
    "np.random.seed(0)\n",
    "X_xor = np.random.randn(200, 2)\n",
    "y_xor = np.logical_xor(X_xor[:, 0] > 0,\n",
    "                       X_xor[:, 1] > 0)\n",
    "y_xor = np.where(y_xor, 1, -1)\n",
    "\n",
    "plt.scatter(X_xor[y_xor == 1, 0],\n",
    "            X_xor[y_xor == 1, 1],\n",
    "            c='b', marker='x',\n",
    "            label='1')\n",
    "plt.scatter(X_xor[y_xor == -1, 0],\n",
    "            X_xor[y_xor == -1, 1],\n",
    "            c='r',\n",
    "            marker='s',\n",
    "            label='-1')\n",
    "\n",
    "plt.xlim([-3, 3])\n",
    "plt.ylim([-3, 3])\n",
    "plt.legend(loc='best')\n",
    "plt.tight_layout()\n",
    "plt.show()"
   ]
  },
  {
   "cell_type": "markdown",
   "metadata": {},
   "source": [
    "#### Classify Using a Linear Kernel"
   ]
  },
  {
   "cell_type": "code",
   "execution_count": 76,
   "metadata": {},
   "outputs": [
    {
     "name": "stderr",
     "output_type": "stream",
     "text": [
      "'c' argument looks like a single numeric RGB or RGBA sequence, which should be avoided as value-mapping will have precedence in case its length matches with 'x' & 'y'.  Please use a 2-D array with a single row if you really want to specify the same RGB or RGBA value for all points.\n",
      "'c' argument looks like a single numeric RGB or RGBA sequence, which should be avoided as value-mapping will have precedence in case its length matches with 'x' & 'y'.  Please use a 2-D array with a single row if you really want to specify the same RGB or RGBA value for all points.\n"
     ]
    },
    {
     "data": {
      "image/png": "[encoded data removed]",
      "text/plain": [
       "<Figure size 432x288 with 1 Axes>"
      ]
     },
     "metadata": {
      "needs_background": "light"
     },
     "output_type": "display_data"
    }
   ],
   "source": [
    "# Create a SVC classifier using a linear kernel\n",
    "svm = SVC(kernel='linear', C=1, random_state=0)\n",
    "# Train the classifier\n",
    "svm.fit(X_xor, y_xor)\n",
    "\n",
    "# Visualize the decision boundaries\n",
    "plot_decision_regions(X_xor, y_xor, classifier=svm)\n",
    "plt.legend(loc='upper left')\n",
    "plt.tight_layout()\n",
    "plt.show()"
   ]
  },
  {
   "attachments": {
    "Screen%20Shot%202020-08-26%20at%202.14.34%20PM.png": {
     "image/png": "[encoded data removed]"
    }
   },
   "cell_type": "markdown",
   "metadata": {},
   "source": [
    "### Classify Using a RBF Kernel\n",
    "![Screen%20Shot%202020-08-26%20at%202.14.34%20PM.png](attachment:Screen%20Shot%202020-08-26%20at%202.14.34%20PM.png)\n",
    "\n",
    "##### Gamma\n",
    "gamma is a parameter of the RBF kernel and can be thought of as the ‘spread’ of the kernel and therefore the decision region. When gamma is low, the ‘curve’ of the decision boundary is very low and thus the decision region is very broad. When gamma is high, the ‘curve’ of the decision boundary is high, which creates islands of decision-boundaries around data points. We will see this very clearly below.\n",
    "\n",
    "##### C\n",
    "C is a parameter of the SVC learner and is the penalty for misclassifying a data point. When C is small, the classifier is okay with misclassified data points (high bias, low variance). When C is large, the classifier is heavily penalized for misclassified data and therefore bends over backwards avoid any misclassified data points (low bias, high variance).\n",
    "\n",
    "##### Gamma\n",
    "In the four charts below, we apply the same SVC-RBF classifier to the same data while holding C constant. The only difference between each chart is that each time we will increase the value of gamma. By doing so, we can visually see the effect of gamma on the decision boundary.\n",
    "\n",
    "#### Gamma = 0.01\n",
    "In the case of our SVC classifier and data, when using a low gamma like 0.01, the decision boundary is not very ‘curvy’, rather it is just one big sweeping arch."
   ]
  },
  {
   "cell_type": "code",
   "execution_count": 78,
   "metadata": {},
   "outputs": [
    {
     "name": "stderr",
     "output_type": "stream",
     "text": [
      "'c' argument looks like a single numeric RGB or RGBA sequence, which should be avoided as value-mapping will have precedence in case its length matches with 'x' & 'y'.  Please use a 2-D array with a single row if you really want to specify the same RGB or RGBA value for all points.\n",
      "'c' argument looks like a single numeric RGB or RGBA sequence, which should be avoided as value-mapping will have precedence in case its length matches with 'x' & 'y'.  Please use a 2-D array with a single row if you really want to specify the same RGB or RGBA value for all points.\n"
     ]
    },
    {
     "data": {
      "image/png": "[encoded data removed]",
      "text/plain": [
       "<Figure size 432x288 with 1 Axes>"
      ]
     },
     "metadata": {
      "needs_background": "light"
     },
     "output_type": "display_data"
    }
   ],
   "source": [
    "# Create a SVC classifier using an RBF kernel\n",
    "svm = SVC(kernel='rbf', random_state=0, gamma=.01, C=1)\n",
    "# Train the classifier\n",
    "svm.fit(X_xor, y_xor)\n",
    "\n",
    "# Visualize the decision boundaries\n",
    "plot_decision_regions(X_xor, y_xor, classifier=svm)\n",
    "plt.legend(loc='upper left')\n",
    "plt.tight_layout()\n",
    "plt.show()"
   ]
  },
  {
   "cell_type": "markdown",
   "metadata": {},
   "source": [
    "#### Gamma = 1.0\n",
    "You can see a big difference when we increase the gamma to 1. Now the decision boundary is starting to better cover the spread of the data."
   ]
  },
  {
   "cell_type": "code",
   "execution_count": 79,
   "metadata": {},
   "outputs": [
    {
     "name": "stderr",
     "output_type": "stream",
     "text": [
      "'c' argument looks like a single numeric RGB or RGBA sequence, which should be avoided as value-mapping will have precedence in case its length matches with 'x' & 'y'.  Please use a 2-D array with a single row if you really want to specify the same RGB or RGBA value for all points.\n",
      "'c' argument looks like a single numeric RGB or RGBA sequence, which should be avoided as value-mapping will have precedence in case its length matches with 'x' & 'y'.  Please use a 2-D array with a single row if you really want to specify the same RGB or RGBA value for all points.\n"
     ]
    },
    {
     "data": {
      "image/png": "[encoded data removed]",
      "text/plain": [
       "<Figure size 432x288 with 1 Axes>"
      ]
     },
     "metadata": {
      "needs_background": "light"
     },
     "output_type": "display_data"
    }
   ],
   "source": [
    "# Create a SVC classifier using an RBF kernel\n",
    "svm = SVC(kernel='rbf', random_state=0, gamma=1, C=1)\n",
    "# Train the classifier\n",
    "svm.fit(X_xor, y_xor)\n",
    "\n",
    "# Visualize the decision boundaries\n",
    "plot_decision_regions(X_xor, y_xor, classifier=svm)\n",
    "plt.legend(loc='upper left')\n",
    "plt.tight_layout()\n",
    "plt.show()"
   ]
  },
  {
   "cell_type": "markdown",
   "metadata": {},
   "source": [
    "#### Gamma = 10.0\n",
    "At gamma = 10 the spread of the kernel is less pronounced. The decision boundary starts to be highly effected by individual data points (i.e. variance)."
   ]
  },
  {
   "cell_type": "code",
   "execution_count": 80,
   "metadata": {},
   "outputs": [
    {
     "name": "stderr",
     "output_type": "stream",
     "text": [
      "'c' argument looks like a single numeric RGB or RGBA sequence, which should be avoided as value-mapping will have precedence in case its length matches with 'x' & 'y'.  Please use a 2-D array with a single row if you really want to specify the same RGB or RGBA value for all points.\n",
      "'c' argument looks like a single numeric RGB or RGBA sequence, which should be avoided as value-mapping will have precedence in case its length matches with 'x' & 'y'.  Please use a 2-D array with a single row if you really want to specify the same RGB or RGBA value for all points.\n"
     ]
    },
    {
     "data": {
      "image/png": "[encoded data removed]",
      "text/plain": [
       "<Figure size 432x288 with 1 Axes>"
      ]
     },
     "metadata": {
      "needs_background": "light"
     },
     "output_type": "display_data"
    }
   ],
   "source": [
    "# Create a SVC classifier using an RBF kernel\n",
    "svm = SVC(kernel='rbf', random_state=0, gamma=10, C=1)\n",
    "# Train the classifier\n",
    "svm.fit(X_xor, y_xor)\n",
    "\n",
    "# Visualize the decision boundaries\n",
    "plot_decision_regions(X_xor, y_xor, classifier=svm)\n",
    "plt.legend(loc='upper left')\n",
    "plt.tight_layout()\n",
    "plt.show()"
   ]
  },
  {
   "cell_type": "markdown",
   "metadata": {},
   "source": [
    "#### Gamma = 100.0\n",
    "With high gamma, the decision boundary is almost entirely dependent on individual data points, creating “islands”. This data is clearly overfitted."
   ]
  },
  {
   "cell_type": "code",
   "execution_count": 81,
   "metadata": {},
   "outputs": [
    {
     "name": "stderr",
     "output_type": "stream",
     "text": [
      "'c' argument looks like a single numeric RGB or RGBA sequence, which should be avoided as value-mapping will have precedence in case its length matches with 'x' & 'y'.  Please use a 2-D array with a single row if you really want to specify the same RGB or RGBA value for all points.\n",
      "'c' argument looks like a single numeric RGB or RGBA sequence, which should be avoided as value-mapping will have precedence in case its length matches with 'x' & 'y'.  Please use a 2-D array with a single row if you really want to specify the same RGB or RGBA value for all points.\n"
     ]
    },
    {
     "data": {
      "image/png": "[encoded data removed]",
      "text/plain": [
       "<Figure size 432x288 with 1 Axes>"
      ]
     },
     "metadata": {
      "needs_background": "light"
     },
     "output_type": "display_data"
    }
   ],
   "source": [
    "# Create a SVC classifier using an RBF kernel\n",
    "svm = SVC(kernel='rbf', random_state=0, gamma=100, C=1)\n",
    "# Train the classifier\n",
    "svm.fit(X_xor, y_xor)\n",
    "\n",
    "# Visualize the decision boundaries\n",
    "plot_decision_regions(X_xor, y_xor, classifier=svm)\n",
    "plt.legend(loc='upper left')\n",
    "plt.tight_layout()\n",
    "plt.show()"
   ]
  },
  {
   "cell_type": "markdown",
   "metadata": {},
   "source": [
    "### C - The Penalty Parameter\n",
    "Now we will repeat the process for C: we will use the same classifier, same data, and hold gamma constant. The only thing we will change is the C, the penalty for misclassification.\n",
    "\n",
    "#### C = 1\n",
    "With C = 1, the classifier is clearly tolerant of misclassified data point. There are many red points in the blue region and blue points in the red region."
   ]
  },
  {
   "cell_type": "code",
   "execution_count": 82,
   "metadata": {},
   "outputs": [
    {
     "name": "stderr",
     "output_type": "stream",
     "text": [
      "'c' argument looks like a single numeric RGB or RGBA sequence, which should be avoided as value-mapping will have precedence in case its length matches with 'x' & 'y'.  Please use a 2-D array with a single row if you really want to specify the same RGB or RGBA value for all points.\n",
      "'c' argument looks like a single numeric RGB or RGBA sequence, which should be avoided as value-mapping will have precedence in case its length matches with 'x' & 'y'.  Please use a 2-D array with a single row if you really want to specify the same RGB or RGBA value for all points.\n"
     ]
    },
    {
     "data": {
      "image/png": "[encoded data removed]",
      "text/plain": [
       "<Figure size 432x288 with 1 Axes>"
      ]
     },
     "metadata": {
      "needs_background": "light"
     },
     "output_type": "display_data"
    }
   ],
   "source": [
    "# Create a SVC classifier using an RBF kernel\n",
    "svm = SVC(kernel='rbf', random_state=0, gamma=.01, C=1)\n",
    "# Train the classifier\n",
    "svm.fit(X_xor, y_xor)\n",
    "\n",
    "# Visualize the decision boundaries\n",
    "plot_decision_regions(X_xor, y_xor, classifier=svm)\n",
    "plt.legend(loc='upper left')\n",
    "plt.tight_layout()\n",
    "plt.show()"
   ]
  },
  {
   "cell_type": "markdown",
   "metadata": {},
   "source": [
    "#### C = 10\n",
    "At C = 10, the classifier is less tolerant to misclassified data points and therefore the decision boundary is more severe."
   ]
  },
  {
   "cell_type": "code",
   "execution_count": 83,
   "metadata": {},
   "outputs": [
    {
     "name": "stderr",
     "output_type": "stream",
     "text": [
      "'c' argument looks like a single numeric RGB or RGBA sequence, which should be avoided as value-mapping will have precedence in case its length matches with 'x' & 'y'.  Please use a 2-D array with a single row if you really want to specify the same RGB or RGBA value for all points.\n",
      "'c' argument looks like a single numeric RGB or RGBA sequence, which should be avoided as value-mapping will have precedence in case its length matches with 'x' & 'y'.  Please use a 2-D array with a single row if you really want to specify the same RGB or RGBA value for all points.\n"
     ]
    },
    {
     "data": {
      "image/png": "[encoded data removed]",
      "text/plain": [
       "<Figure size 432x288 with 1 Axes>"
      ]
     },
     "metadata": {
      "needs_background": "light"
     },
     "output_type": "display_data"
    }
   ],
   "source": [
    "# Create a SVC classifier using an RBF kernel\n",
    "svm = SVC(kernel='rbf', random_state=0, gamma=.01, C=10)\n",
    "# Train the classifier\n",
    "svm.fit(X_xor, y_xor)\n",
    "\n",
    "# Visualize the decision boundaries\n",
    "plot_decision_regions(X_xor, y_xor, classifier=svm)\n",
    "plt.legend(loc='upper left')\n",
    "plt.tight_layout()\n",
    "plt.show()"
   ]
  },
  {
   "cell_type": "markdown",
   "metadata": {},
   "source": [
    "#### C = 1000\n",
    "When C = 1000, the classifier starts to become very intolerant to misclassified data points and thus the decision boundary becomes less biased and has more variance (i.e. more dependent on the individual data points)."
   ]
  },
  {
   "cell_type": "code",
   "execution_count": null,
   "metadata": {},
   "outputs": [],
   "source": [
    "# Create a SVC classifier using an RBF kernel\n",
    "svm = SVC(kernel='rbf', random_state=0, gamma=.01, C=1000)\n",
    "# Train the classifier\n",
    "svm.fit(X_xor, y_xor)\n",
    "\n",
    "# Visualize the decision boundaries\n",
    "plot_decision_regions(X_xor, y_xor, classifier=svm)\n",
    "plt.legend(loc='upper left')\n",
    "plt.tight_layout()\n",
    "plt.show()"
   ]
  },
  {
   "cell_type": "markdown",
   "metadata": {},
   "source": [
    "#### C = 10000\n",
    "At C = 10000, the classifier “works really hard” to not misclassify data points and we see signs of overfitting."
   ]
  },
  {
   "cell_type": "code",
   "execution_count": 84,
   "metadata": {},
   "outputs": [
    {
     "name": "stderr",
     "output_type": "stream",
     "text": [
      "'c' argument looks like a single numeric RGB or RGBA sequence, which should be avoided as value-mapping will have precedence in case its length matches with 'x' & 'y'.  Please use a 2-D array with a single row if you really want to specify the same RGB or RGBA value for all points.\n",
      "'c' argument looks like a single numeric RGB or RGBA sequence, which should be avoided as value-mapping will have precedence in case its length matches with 'x' & 'y'.  Please use a 2-D array with a single row if you really want to specify the same RGB or RGBA value for all points.\n"
     ]
    },
    {
     "data": {
      "image/png": "[encoded data removed]",
      "text/plain": [
       "<Figure size 432x288 with 1 Axes>"
      ]
     },
     "metadata": {
      "needs_background": "light"
     },
     "output_type": "display_data"
    }
   ],
   "source": [
    "# Create a SVC classifier using an RBF kernel\n",
    "svm = SVC(kernel='rbf', random_state=0, gamma=.01, C=10000)\n",
    "# Train the classifier\n",
    "svm.fit(X_xor, y_xor)\n",
    "\n",
    "# Visualize the decision boundaries\n",
    "plot_decision_regions(X_xor, y_xor, classifier=svm)\n",
    "plt.legend(loc='upper left')\n",
    "plt.tight_layout()\n",
    "plt.show()"
   ]
  },
  {
   "cell_type": "markdown",
   "metadata": {},
   "source": [
    "#### C = 100000\n",
    "At C = 100000, the classifier is heavily penalized for any misclassified data points and therefore the margins are small."
   ]
  },
  {
   "cell_type": "code",
   "execution_count": 85,
   "metadata": {},
   "outputs": [
    {
     "name": "stderr",
     "output_type": "stream",
     "text": [
      "'c' argument looks like a single numeric RGB or RGBA sequence, which should be avoided as value-mapping will have precedence in case its length matches with 'x' & 'y'.  Please use a 2-D array with a single row if you really want to specify the same RGB or RGBA value for all points.\n",
      "'c' argument looks like a single numeric RGB or RGBA sequence, which should be avoided as value-mapping will have precedence in case its length matches with 'x' & 'y'.  Please use a 2-D array with a single row if you really want to specify the same RGB or RGBA value for all points.\n"
     ]
    },
    {
     "data": {
      "image/png": "[encoded data removed]",
      "text/plain": [
       "<Figure size 432x288 with 1 Axes>"
      ]
     },
     "metadata": {
      "needs_background": "light"
     },
     "output_type": "display_data"
    }
   ],
   "source": [
    "# Create a SVC classifier using an RBF kernel\n",
    "svm = SVC(kernel='rbf', random_state=0, gamma=.01, C=100000)\n",
    "# Train the classifier\n",
    "svm.fit(X_xor, y_xor)\n",
    "\n",
    "# Visualize the decision boundaries\n",
    "plot_decision_regions(X_xor, y_xor, classifier=svm)\n",
    "plt.legend(loc='upper left')\n",
    "plt.tight_layout()\n",
    "plt.show()"
   ]
  },
  {
   "cell_type": "code",
   "execution_count": null,
   "metadata": {},
   "outputs": [],
   "source": []
  },
  {
   "cell_type": "markdown",
   "metadata": {},
   "source": [
    "## Article 2: SVM: Separating hyperplane for unbalanced classes\n",
    "https://scikit-learn.org/stable/auto_examples/svm/plot_separating_hyperplane_unbalanced.html\n"
   ]
  },
  {
   "cell_type": "markdown",
   "metadata": {},
   "source": [
    "**Note** This example will also work by replacing SVC(kernel=\"linear\") with SGDClassifier(loss=\"hinge\"). Setting the loss parameter of the SGDClassifier equal to hinge will yield behaviour such as that of a SVC with a linear kernel.\n",
    "For example try instead of the SVC:\n",
    "\n",
    "`clf = SGDClassifier(n_iter=100, alpha=0.01)`"
   ]
  },
  {
   "cell_type": "code",
   "execution_count": 68,
   "metadata": {},
   "outputs": [
    {
     "name": "stdout",
     "output_type": "stream",
     "text": [
      "Automatically created module for IPython interactive environment\n"
     ]
    },
    {
     "data": {
      "image/png": "[encoded data removed]",
      "text/plain": [
       "<Figure size 432x288 with 1 Axes>"
      ]
     },
     "metadata": {
      "needs_background": "light"
     },
     "output_type": "display_data"
    }
   ],
   "source": [
    "print(__doc__)\n",
    "\n",
    "import numpy as np\n",
    "import matplotlib.pyplot as plt\n",
    "from sklearn import svm\n",
    "from sklearn.datasets import make_blobs\n",
    "\n",
    "# we create two clusters of random points\n",
    "n_samples_1 = 1000\n",
    "n_samples_2 = 100\n",
    "centers = [[0.0, 0.0], [2.0, 2.0]]\n",
    "clusters_std = [1.5, 0.5]\n",
    "X, y = make_blobs(n_samples=[n_samples_1, n_samples_2],\n",
    "                  centers=centers,\n",
    "                  cluster_std=clusters_std,\n",
    "                  random_state=0, shuffle=False)\n",
    "\n",
    "# fit the model and get the separating hyperplane\n",
    "clf = svm.SVC(kernel='linear', C=1.0)\n",
    "clf.fit(X, y)\n",
    "\n",
    "# fit the model and get the separating hyperplane using weighted classes\n",
    "wclf = svm.SVC(kernel='linear', class_weight={1: 10})\n",
    "wclf.fit(X, y)\n",
    "\n",
    "# plot the samples\n",
    "plt.scatter(X[:, 0], X[:, 1], c=y, cmap=plt.cm.Paired, edgecolors='k')\n",
    "\n",
    "# plot the decision functions for both classifiers\n",
    "ax = plt.gca()\n",
    "xlim = ax.get_xlim()\n",
    "ylim = ax.get_ylim()\n",
    "\n",
    "# create grid to evaluate model\n",
    "xx = np.linspace(xlim[0], xlim[1], 30)\n",
    "yy = np.linspace(ylim[0], ylim[1], 30)\n",
    "YY, XX = np.meshgrid(yy, xx)\n",
    "xy = np.vstack([XX.ravel(), YY.ravel()]).T\n",
    "\n",
    "# get the separating hyperplane\n",
    "Z = clf.decision_function(xy).reshape(XX.shape)\n",
    "\n",
    "# plot decision boundary and margins\n",
    "a = ax.contour(XX, YY, Z, colors='k', levels=[0], alpha=0.5, linestyles=['-'])\n",
    "\n",
    "# get the separating hyperplane for weighted classes\n",
    "Z = wclf.decision_function(xy).reshape(XX.shape)\n",
    "\n",
    "# plot decision boundary and margins for weighted classes\n",
    "b = ax.contour(XX, YY, Z, colors='r', levels=[0], alpha=0.5, linestyles=['-'])\n",
    "\n",
    "plt.legend([a.collections[0], b.collections[0]], [\"non weighted\", \"weighted\"],\n",
    "           loc=\"upper right\")\n",
    "plt.show()"
   ]
  },
  {
   "cell_type": "code",
   "execution_count": null,
   "metadata": {},
   "outputs": [],
   "source": []
  },
  {
   "cell_type": "code",
   "execution_count": null,
   "metadata": {},
   "outputs": [],
   "source": []
  },
  {
   "cell_type": "markdown",
   "metadata": {},
   "source": [
    "# Day 4: Logistic Regression\n",
    "https://github.com/Make-School-Courses/DS-2.1-Machine-Learning/blob/master/Notebooks/remote_simple_logistic_regression.ipynb\n",
    "\n",
    "## What is Logistic Regression?\n",
    "- Logistic regression is another **type of classifier**, which is different from linear regression\n",
    "- Logistic regression **predicts whether something is True or False**, and the plot is an S-curve that goes from 0 to 1 (probability of False to True)\n",
    "\n",
    "## How is it different from SVM?\n",
    "- SVM **can not tell us what the probability is of being classified in a given category**\n",
    "- For example, going back to the example we used in our SVM class, if my Serotonin is 3 and my Dopamine is 6, what is the chance that I would be considered happy? 90 percent? 60 percent? etc...\n",
    "- Logistic Regression tell us this information!\n",
    "\n",
    "#### Logistic Regression Video\n",
    "Before we start the video, here are some concepts that are mentioned in the video:\n",
    "\n",
    "- R-Squared (R^2): is a number between 0 to 1, close to one means better model for linear regression (i.e. the closer to one, the better fit the line is)\n",
    "\n",
    "#### Multiple Regression: Regression model using 3+ variables\n",
    "Let's watch this video: https://www.youtube.com/watch?v=yIYKR4sgzI8"
   ]
  },
  {
   "cell_type": "markdown",
   "metadata": {},
   "source": [
    "## The dataset we use for Logistic Regression\n",
    "- Dataset we will use today: [diabetes.csv](https://render.githubusercontent.com/view/Datasets/diabetes.csv)\n",
    "- The objective of the dataset is to diagnostically predict whether or not a patient has diabetes, based on certain diagnostic measurements included in the dataset\n",
    "- In particular, all patients here are females at least 21 years old of Pima Indian heritage\n",
    "- Labels:\n",
    "    - 1: diabetes\n",
    "    - 0: no diabetes\n",
    "\n",
    "## Activity: Fit a Logistic Regression Classifier on diabetes.csv\n",
    "In groups of 3, complete the following steps:\n",
    "\n",
    "1- Load the dataset: pd.read_csv('diabetes.csv')\n",
    "\n",
    "2- Use these features: feature_cols = ['Pregnancies', 'Insulin', 'BMI', 'Age']\n",
    "\n",
    "3- Split the data to train and test: X_train, X_test, y_train, y_test = train_test_split(X, y, test_size=0.25, random_state=0)\n",
    "\n",
    "4- Obtain the statistics of y_test"
   ]
  },
  {
   "cell_type": "code",
   "execution_count": 1,
   "metadata": {},
   "outputs": [
    {
     "data": {
      "text/plain": [
       "0    130\n",
       "1     62\n",
       "Name: Outcome, dtype: int64"
      ]
     },
     "execution_count": 1,
     "metadata": {},
     "output_type": "execute_result"
    }
   ],
   "source": [
    "import pandas as pd\n",
    "from sklearn.model_selection import train_test_split\n",
    "\n",
    "#1- Load the dataset\n",
    "pima = pd.read_csv('dataset/diabetes.csv')\n",
    "\n",
    "#2- Use these features\n",
    "feature_cols = ['Pregnancies', 'Insulin', 'BMI', 'Age']\n",
    "\n",
    "# X is a matrix, access the features we want in feature_cols\n",
    "X = pima[feature_cols] #feature matrix\n",
    "\n",
    "# y is a vector, hence we use dot to access 'label'\n",
    "y = pima['Outcome']\n",
    "\n",
    "# split X and y into training and testing sets\n",
    "X_train, X_test, y_train, y_test = train_test_split(X, y, test_size=0.25, random_state=0) #split data such that 75% of data is to train, and 25% of data is for testing. Random_state //33m\n",
    "\n",
    "y_test.value_counts()\n",
    "# print(\"X_train=\", X_train, \"\\nX_test=\", X_test, \"y_train=\", y_train, \"y_test=\", y_test)"
   ]
  },
  {
   "cell_type": "code",
   "execution_count": 2,
   "metadata": {},
   "outputs": [
    {
     "data": {
      "text/plain": [
       "0.75"
      ]
     },
     "execution_count": 2,
     "metadata": {},
     "output_type": "execute_result"
    }
   ],
   "source": [
    "# Check the size of y_train and show that it is 75% of the whole dataset\n",
    "len(y_train) / len(X)"
   ]
  },
  {
   "cell_type": "markdown",
   "metadata": {},
   "source": [
    "## Activity: Build the classifier model with Logistic Regression and produce y_pred from X_test (features from test part)\n",
    "Hint: read up on sklearn's [LogisticRegression](https://scikit-learn.org/stable/modules/generated/sklearn.linear_model.LogisticRegression.html) module, specifically the fit and predict methods\n",
    "\n",
    "1. Instantiate `logistic regression` model\n",
    "2. Train the model with X_train and y_train\n",
    "3. Pass X_test into predict method -> call the result as y_pred\n",
    "4. print y_pred"
   ]
  },
  {
   "cell_type": "code",
   "execution_count": 3,
   "metadata": {},
   "outputs": [
    {
     "name": "stderr",
     "output_type": "stream",
     "text": [
      "/usr/local/lib/python3.7/site-packages/sklearn/linear_model/logistic.py:432: FutureWarning: Default solver will be changed to 'lbfgs' in 0.22. Specify a solver to silence this warning.\n",
      "  FutureWarning)\n"
     ]
    },
    {
     "data": {
      "text/plain": [
       "LogisticRegression(C=1.0, class_weight=None, dual=False, fit_intercept=True,\n",
       "                   intercept_scaling=1, l1_ratio=None, max_iter=100,\n",
       "                   multi_class='warn', n_jobs=None, penalty='l2',\n",
       "                   random_state=None, solver='warn', tol=0.0001, verbose=0,\n",
       "                   warm_start=False)"
      ]
     },
     "execution_count": 3,
     "metadata": {},
     "output_type": "execute_result"
    }
   ],
   "source": [
    "from sklearn.linear_model import LogisticRegression\n",
    "\n",
    "logreg = LogisticRegression()\n",
    "\n",
    "# fit model -> We are telling the model that for 576 subjects, based on their Pregnancies, Insulin, BMI and Age,\n",
    "# here are their diabities conditions (labels) in y_train\n",
    "logreg.fit(X_train, y_train)"
   ]
  },
  {
   "cell_type": "code",
   "execution_count": 4,
   "metadata": {},
   "outputs": [
    {
     "name": "stdout",
     "output_type": "stream",
     "text": [
      "[0 0 0 0 0 0 0 1 0 1 0 1 0 0 0 0 0 0 0 0 0 0 0 0 0 0 0 1 0 0 0 0 0 0 0 0 0\n",
      " 0 0 0 0 0 0 0 1 0 0 0 0 0 0 0 1 0 0 0 0 1 0 0 1 0 0 0 0 0 0 0 0 0 0 0 0 1\n",
      " 0 0 1 0 0 0 1 0 0 0 0 0 0 0 1 0 0 0 0 0 0 0 1 0 1 0 1 0 0 0 0 0 0 0 0 0 0\n",
      " 1 0 0 0 0 0 0 0 1 0 1 0 1 0 0 0 0 0 0 0 0 0 1 0 0 0 0 0 0 0 0 0 0 0 0 0 0\n",
      " 0 0 0 0 0 0 1 0 1 0 0 1 0 0 0 0 0 0 1 0 0 0 0 0 0 0 1 0 1 0 0 0 0 1 0 0 0\n",
      " 0 0 0 0 0 0 0]\n"
     ]
    }
   ],
   "source": [
    "y_pred = logreg.predict(X_test)\n",
    "\n",
    "print(y_pred) #based on the remaining 192 people (y_pred), 0 means they are okay"
   ]
  },
  {
   "cell_type": "code",
   "execution_count": 5,
   "metadata": {},
   "outputs": [
    {
     "name": "stdout",
     "output_type": "stream",
     "text": [
      "[1 0 0 1 0 0 1 1 0 0 1 1 0 0 0 0 1 0 0 0 1 1 0 0 0 0 0 0 0 0 0 0 0 0 0 1 1\n",
      " 0 0 0 0 0 0 1 1 0 0 1 1 1 0 0 1 0 0 0 0 1 1 1 1 0 0 1 1 1 1 0 0 0 0 0 0 0\n",
      " 1 0 0 0 0 0 0 0 0 0 0 0 1 0 1 0 0 0 0 0 0 0 1 0 1 1 0 0 0 0 0 1 0 0 0 1 0\n",
      " 1 1 1 1 1 0 0 0 1 0 0 0 0 0 0 0 1 0 0 0 0 0 1 0 1 0 1 1 0 0 0 0 0 1 0 0 0\n",
      " 0 1 0 1 0 0 1 0 0 0 1 1 1 1 0 0 0 1 0 0 0 0 0 0 1 1 0 0 0 0 0 0 1 1 0 1 1\n",
      " 0 1 1 1 0 0 0]\n"
     ]
    }
   ],
   "source": [
    "print(y_test.values.T)"
   ]
  },
  {
   "cell_type": "code",
   "execution_count": 6,
   "metadata": {},
   "outputs": [
    {
     "name": "stdout",
     "output_type": "stream",
     "text": [
      "Accuracy= 0.6927083333333334\n"
     ]
    }
   ],
   "source": [
    "correct = 0\n",
    "for i in range(len(y_pred)):\n",
    "    if y_pred.tolist()[i] == y_test.tolist()[i]:\n",
    "        correct+=1\n",
    "print(\"Accuracy=\", correct / len(y_pred))"
   ]
  },
  {
   "cell_type": "markdown",
   "metadata": {},
   "source": [
    "## Activity: How many samples in y_test have diabetes, and how many do not?"
   ]
  },
  {
   "cell_type": "code",
   "execution_count": 7,
   "metadata": {},
   "outputs": [
    {
     "data": {
      "text/plain": [
       "<Figure size 640x480 with 1 Axes>"
      ]
     },
     "metadata": {},
     "output_type": "display_data"
    },
    {
     "data": {
      "text/plain": [
       "0    130\n",
       "1     62\n",
       "Name: Outcome, dtype: int64"
      ]
     },
     "execution_count": 7,
     "metadata": {},
     "output_type": "execute_result"
    }
   ],
   "source": [
    "import matplotlib.pyplot as plt\n",
    "import pandas as pd\n",
    "\n",
    "# create and plot a histogram based on y_test\n",
    "plt.hist(y_test, bins=20)\n",
    "plt.show()\n",
    "\n",
    "# count how many are 0 and 1 (no diabetes, has diabetes)\n",
    "y_test_pd_series = pd.Series(y_test)\n",
    "y_test_pd_series.value_counts()"
   ]
  },
  {
   "cell_type": "markdown",
   "metadata": {},
   "source": [
    "## Intro to Confusion Matrix\n",
    "A confusion matrix is **a table that is used to describe the performance of a classifier on a set of test data where we know the true vales**. Essentially, we **use it to check how well our classifier's predicted values matched against the known values of the same data**.\n",
    "\n",
    "The confusion matrix itself is a simple 2x2 matrix, but it's important we go over the terminology of each row/column in the matrix:\n",
    "- **True Positives (TP)**: we correctly predicted a positive outcome (i.e. someone has diabetes, and we correctly predicted it)\n",
    "- **True Negatives (TN)**: we correctly predicted a negative outcome (i.e. someone does not have diabetes, and we correctly predicted it)\n",
    "- **False Positives (FP)**: we incorrectly predicted a positive outcome (i.e. someone does not have diabetes, and we incorrectly said that they did)\n",
    "- **False Negatives (FN)**: we incorrectly predicted a negative outcome (i.e. someone has diabetes, and we incorrectly said that they do not)\n",
    "\n",
    "![alt](https://github.com/Make-School-Courses/DS-2.1-Machine-Learning/raw/b939f21b6e1e14018d5a589c0412428d3a5ce7fa/Notebooks/Images/blank_confusion_matrix.png)"
   ]
  },
  {
   "cell_type": "markdown",
   "metadata": {},
   "source": [
    "## Activity: Write a function that calculates the confusion matrix for the Pima Diabetes dataset\n",
    "- How many 0s (no diabetes) in y_test are predicted correctly as 0 (no diabetes) in y_pred?\n",
    "    - True Positives\n",
    "- How many 0s (no diabetes) in y_test are predicted incorrectly as 1 (diabetes) in y_pred?\n",
    "    - False Positive\n",
    "- How many 1s (diabetes) in y_test are predicted incorrectly as 0 (no diabetes) in y_pred?\n",
    "    - False Negative\n",
    "- How many 1s (diabetes) in y_test are predicted correctly 1 (diabetes) in y_pred?\n",
    "    - True Negative"
   ]
  },
  {
   "cell_type": "code",
   "execution_count": 8,
   "metadata": {},
   "outputs": [
    {
     "name": "stdout",
     "output_type": "stream",
     "text": [
      "[[118.  12.]\n",
      " [ 47.  15.]]\n"
     ]
    }
   ],
   "source": [
    "import numpy as np\n",
    "\n",
    "def comp_yt_yp(y_test, y_predict):\n",
    "    # create a blank 2x2 confusion matrix (all 0s)\n",
    "    conf_matrix  = np.zeros((2, 2))\n",
    "    # indices that will create all confusion matrix values\n",
    "    # TP (1,1), TN (0,0), FP (0, 1), FN (1, 0)\n",
    "    for row_index in [0, 1]:\n",
    "        for column_index in [0, 1]:\n",
    "            counter = 0\n",
    "            # iterate through all elements of y_test, y_predict,\n",
    "            # which are all values of either 0 or 1\n",
    "            for (yt_index, yp_index) in zip(y_test, y_predict):\n",
    "                # comparing the elements of y_test and y_predict with each confusion matrix value (TP, TN, FP, FN),\n",
    "                # and if there's a match for the confusion matrix value we're looking at, increment the counter\n",
    "                if (yt_index == row_index) & (yp_index == column_index):\n",
    "#                     print(row_index, \"=\", yt_index, \"\\t\", yp_index, \"=\", column_index)\n",
    "                    counter += 1\n",
    "            # Add the total number of elements for the confusion matrix value,\n",
    "            # then look at the next value in the loop\n",
    "            conf_matrix[row_index, column_index] = counter \n",
    "    return conf_matrix\n",
    "\n",
    "# print the result of calculating our confusion matrix\n",
    "print(comp_yt_yp(y_test, y_pred))"
   ]
  },
  {
   "cell_type": "code",
   "execution_count": 9,
   "metadata": {},
   "outputs": [
    {
     "data": {
      "text/plain": [
       "[[118, 12], [47, 15]]"
      ]
     },
     "execution_count": 9,
     "metadata": {},
     "output_type": "execute_result"
    }
   ],
   "source": [
    "def get_confusion_matrix(y_test, y_predict):\n",
    "    true_negative = 0\n",
    "    true_positive = 0\n",
    "    false_negative = 0\n",
    "    false_positive = 0\n",
    "    y_test = y_test.values.T\n",
    "    \n",
    "    for i in range(len(y_predict)):\n",
    "        if y_predict[i] == y_test[i]:\n",
    "            #see if they match\n",
    "            if y_predict[i] == 0:\n",
    "                #if they match and are both 0\n",
    "                true_negative += 1\n",
    "            else:\n",
    "                true_positive += 1\n",
    "        else:\n",
    "            # if they don't match\n",
    "            if y_predict[i] == 0:\n",
    "                false_negative += 1\n",
    "            else:\n",
    "                false_positive += 1\n",
    "    return [[true_negative, false_positive], [false_negative, true_positive]]\n",
    "\n",
    "get_confusion_matrix(y_test, y_pred)"
   ]
  },
  {
   "cell_type": "markdown",
   "metadata": {},
   "source": [
    "## Easier way to compute elements of Confusion Matrix using sklearn"
   ]
  },
  {
   "cell_type": "code",
   "execution_count": 10,
   "metadata": {},
   "outputs": [
    {
     "name": "stdout",
     "output_type": "stream",
     "text": [
      "[[118  12]\n",
      " [ 47  15]]\n"
     ]
    }
   ],
   "source": [
    "from sklearn import metrics\n",
    "\n",
    "confusion = metrics.confusion_matrix(y_test, y_pred)\n",
    "print(confusion)\n",
    "\n",
    "TP = confusion[1, 1]\n",
    "TN = confusion[0, 0]\n",
    "FP = confusion[0, 1]\n",
    "FN = confusion[1, 0]"
   ]
  },
  {
   "cell_type": "code",
   "execution_count": 11,
   "metadata": {},
   "outputs": [
    {
     "name": "stdout",
     "output_type": "stream",
     "text": [
      "Accuracy= 0.6927083333333334\n"
     ]
    }
   ],
   "source": [
    "print(\"Accuracy=\", (TP + TN) / len(y_pred))"
   ]
  },
  {
   "cell_type": "markdown",
   "metadata": {},
   "source": [
    "## Activity: Apply these two methods to Pima Indian Diabetes dataset\n",
    "After logreg.fit(X_train, y_train), call the trained model using:\n",
    "- logreg.predict(X_test)\n",
    "- logreg.predict_proba(X_test)\n",
    "- In order to know which column is which labels: `logreg.classes_`\n",
    "\n",
    "Notice the difference in the results, and discuss it with your peers. What does each method do with the data?"
   ]
  },
  {
   "cell_type": "code",
   "execution_count": 26,
   "metadata": {},
   "outputs": [
    {
     "name": "stdout",
     "output_type": "stream",
     "text": [
      "[0 0 0 0 0 0 0 1 0 1]\n",
      "[[0.63247571 0.36752429]\n",
      " [0.71643656 0.28356344]\n",
      " [0.71104114 0.28895886]\n",
      " [0.5858938  0.4141062 ]\n",
      " [0.84103973 0.15896027]\n",
      " [0.82934844 0.17065156]\n",
      " [0.50110974 0.49889026]\n",
      " [0.48658459 0.51341541]\n",
      " [0.72321388 0.27678612]\n",
      " [0.32810562 0.67189438]]\n",
      "[0 1]\n"
     ]
    }
   ],
   "source": [
    "print(logreg.predict(X_test[:10])) #analyze the first 10 subjects\n",
    "print(logreg.predict_proba(X_test[:10])) #shows the percent how okay the person is is\n",
    "print(logreg.classes_)"
   ]
  },
  {
   "cell_type": "markdown",
   "metadata": {},
   "source": [
    "## The difference between .predict() and .predict_proba for logistic reg classifier¶\n",
    "- [**predict**](https://scikit-learn.org/stable/modules/generated/sklearn.linear_model.LogisticRegression.html#sklearn.linear_model.LogisticRegression.predict) will **return a list of 0 and 1 values** for a given sample\n",
    "- [**predict_proba**](https://scikit-learn.org/stable/modules/generated/sklearn.linear_model.LogisticRegression.html#sklearn.linear_model.LogisticRegression.predict_proba) will **return a list of lists where each element in the list is a probability estimate**: the probability of the element being a 0 or 1\n",
    "\n",
    "### Resources:\n",
    "https://www.ritchieng.com/machine-learning-evaluate-classification-model/"
   ]
  },
  {
   "cell_type": "code",
   "execution_count": null,
   "metadata": {},
   "outputs": [],
   "source": []
  },
  {
   "cell_type": "markdown",
   "metadata": {},
   "source": [
    "# Day 5 Model Evaluation\n",
    "- So far, learned about two classifiers: //21m\n",
    "    - SVM\n",
    "    - Logistic Regression\n",
    "- How we can evaluate which model performs better for our classification task? ",
    "\n",
    "\n",
    "## Lets review the confusion matrix we obtained from logistic regression model for diabetes dataset\n",
    "![Confusion Matrix](../static/screenshots/day5-1.png)"
   ]
  },
  {
   "cell_type": "markdown",
   "metadata": {},
   "source": [
    "## Classifier Model Evaluation Metrics\n",
    "### What is accuracy, recall, precision, Specificity and F1-score?¶\n",
    "Accuracy, recall, precision, Specificity and F1-score are all obtained from Confision Matrix elements known as : TN, FP, FN, TP\n",
    "- Accuracy: overall, **how often is the classifier correct**? -> $accuracy = \\frac {TP + TN}{TP+TN+FP+FN}$\n",
    "- Classification error: overall, **how often is the classifier incorrect**? -> $error = 1- accuracy = \\frac {FP + FN}{TP + TN + FP + FN}$\n",
    "- Recall: when the **actual value is positive**, how often is the prediction correct? -> $recall = \\frac {TP}{TP + FN}$\n",
    "- Precision: When a **positive value is predicted**, how often is the prediction correct? -> $precision = \\frac {TP}{TP + FP}$\n",
    "- Specificity: When the **actual value is negative**, how often is the prediction correct? -> $Specificity = \\frac {TN}{TN + FP}$\n",
    "- `F1-score = 2 x (Precision x Recall )/(Precision + Recall)`\n",
    "\n",
    "#### Note: Accuray, precision, recall, and f1_score are better the closer they are to 1\n",
    "\n",
    "## Activity: Write a function that returns Accuray, Precision, Recall, F1-score from Confision Matrix"
   ]
  },
  {
   "cell_type": "code",
   "execution_count": 74,
   "metadata": {},
   "outputs": [
    {
     "name": "stdout",
     "output_type": "stream",
     "text": [
      "[[87 43]\n",
      " [24 38]]\n",
      "(0.6510416666666666, 0.4691358024691358, 0.6129032258064516, 0.5314685314685315)\n"
     ]
    }
   ],
   "source": [
    "from sklearn import metrics\n",
    "import numpy as np\n",
    "\n",
    "confusion = metrics.confusion_matrix(y_test, y_pred)\n",
    "print(confusion)\n",
    "\n",
    "def evaluate_model(confusion):\n",
    "    TN = confusion[0, 0]\n",
    "    FP = confusion[0, 1]\n",
    "    FN = confusion[1, 0]\n",
    "    TP = confusion[1, 1]\n",
    "    \n",
    "    accuray = ((TP + TN) / float(TP + TN + FP + FN))\n",
    "    precision = TP / float(TP + FP)\n",
    "    recall = TP / float(FN + TP) #important to be high in medical field\n",
    "    f1_score = 2 * precision * recall / float(precision + recall)\n",
    "    return (accuray, precision, recall, f1_score) # All of these are better if they are closer to 1\n",
    "\n",
    "\n",
    "print(evaluate_model(confusion))"
   ]
  },
  {
   "cell_type": "markdown",
   "metadata": {},
   "source": [
    "## Activity (Reminder): How can we obtain y_pred (whose elements are 0 and 1) from y_pred_prob:\n",
    "- y_pred_prob = logreg.predict_proba(X_test)\n",
    "- Goal: from y_pred_prob -> obtain y_pred\n",
    "- Steps: For given y_pred_prob, check if the first element is > 0.5 then returns 0 else return 1"
   ]
  },
  {
   "cell_type": "code",
   "execution_count": 75,
   "metadata": {},
   "outputs": [
    {
     "data": {
      "text/plain": [
       "0.859375"
      ]
     },
     "execution_count": 75,
     "metadata": {},
     "output_type": "execute_result"
    }
   ],
   "source": [
    "y_pred_prob = logreg.predict_proba(X_test)\n",
    "# is 0.5 a good threshold or not\n",
    "threshold = 0.5\n",
    "correct = 0\n",
    "result = []\n",
    "for i in range(len(y_pred_prob)):\n",
    "    current_prob = y_pred_prob[i]\n",
    "    if current_prob[0] > threshold:\n",
    "        result.append(0)\n",
    "        correct+=1\n",
    "    else:\n",
    "        result.append(1)\n",
    "        \n",
    "correct / len(X_test)"
   ]
  },
  {
   "cell_type": "markdown",
   "metadata": {},
   "source": [
    "## Activity: Change the threshold of Logistic Regression (y_pred_prob) to get new confusion matrix and better model performance\n",
    "- The question now is which threshold is better?\n",
    "- To do this:\n",
    "    1. Train `logreg = LogisticRegression()` and get `y_pred_prob = logreg.predict_proba(X_test)`\n",
    "    2. The second column of `y_pred_prob` is the probability that a subject be diabetes\n",
    "    3. Plot histogram of second column. Hint: `plt.hist(y_pred_prob[:, 1], bins=8) plt.show()`\n",
    "    4. Count how many of y_train is 0 how many is 1. Define thershold as:\n",
    "        - `threshold = y_train.value_counts()[1] / len(y_train)`\n",
    "    5. Write a function that returns 0 if `y_pred_prob[:, 1]` is less than threshold, else returns 1 for all elements in y_pred_prob\n",
    "    6. Calculate the Confuction Matrix by `confusion = metrics.confusion_matrix(y_test, y_pred)`"
   ]
  },
  {
   "cell_type": "markdown",
   "metadata": {},
   "source": [
    "### My answer"
   ]
  },
  {
   "cell_type": "code",
   "execution_count": 76,
   "metadata": {},
   "outputs": [
    {
     "name": "stderr",
     "output_type": "stream",
     "text": [
      "/usr/local/lib/python3.7/site-packages/sklearn/linear_model/logistic.py:432: FutureWarning: Default solver will be changed to 'lbfgs' in 0.22. Specify a solver to silence this warning.\n",
      "  FutureWarning)\n",
      "/usr/local/lib/python3.7/site-packages/sklearn/linear_model/logistic.py:432: FutureWarning: Default solver will be changed to 'lbfgs' in 0.22. Specify a solver to silence this warning.\n",
      "  FutureWarning)\n"
     ]
    },
    {
     "name": "stdout",
     "output_type": "stream",
     "text": [
      "Threshold= 0.3576388888888889\n",
      "\n",
      "Previous confusion=\n",
      " [[118  12]\n",
      " [ 47  15]]\n",
      "Previous evaluation= (0.6927083333333334, 0.5555555555555556, 0.24193548387096775, 0.3370786516853933)\n",
      "\n",
      "New confusion=\n",
      " [[118  12]\n",
      " [ 47  15]]\n",
      "New evaluation= (0.6510416666666666, 0.4691358024691358, 0.6129032258064516, 0.5314685314685315)\n"
     ]
    },
    {
     "data": {
      "image/png": "[encoded data removed]",
      "text/plain": [
       "<Figure size 432x288 with 1 Axes>"
      ]
     },
     "metadata": {
      "needs_background": "light"
     },
     "output_type": "display_data"
    }
   ],
   "source": [
    "logreg = LogisticRegression()\n",
    "logreg.fit(X_train, y_train)\n",
    "y_pred_prob = logreg.predict_proba(X_test)\n",
    "#3.\n",
    "plt.hist(y_pred_prob[:, 1], bins=8) \n",
    "\n",
    "#4.\n",
    "threshold = y_train.value_counts()[1] / len(y_train)\n",
    "print(\"Threshold=\", threshold)\n",
    "#5.\n",
    "correct_count = 0\n",
    "y_pred = []\n",
    "\n",
    "# threshold = 0.5\n",
    "for i in range(len(y_pred_prob)):\n",
    "    current_prob = y_pred_prob[i]\n",
    "    if current_prob[1] < threshold:\n",
    "        y_pred.append(0)\n",
    "    else:\n",
    "        y_pred.append(1)\n",
    "        correct_count+=1\n",
    "#6.\n",
    "\n",
    "# Previous threshold from day 4\n",
    "prev_logreg = LogisticRegression()\n",
    "prev_logreg.fit(X_train, y_train)\n",
    "y_pred_prev = logreg.predict(X_test)\n",
    "prev_confusion = metrics.confusion_matrix(y_test, y_pred_prev)\n",
    "print(\"\\nPrevious confusion=\\n\", prev_confusion)\n",
    "print(\"Previous evaluation=\", evaluate_model(prev_confusion))\n",
    "\n",
    "# New threshold\n",
    "print(\"\\nNew confusion=\\n\", prev_confusion)\n",
    "print(\"New evaluation=\", evaluate_model(confusion)) #at the price of 4% lower accuracy, you get more recall\n",
    "\n",
    "plt.show()"
   ]
  },
  {
   "cell_type": "markdown",
   "metadata": {},
   "source": [
    "### Milad's answer"
   ]
  },
  {
   "cell_type": "code",
   "execution_count": 85,
   "metadata": {},
   "outputs": [
    {
     "name": "stdout",
     "output_type": "stream",
     "text": [
      "Index(['Pregnancies', 'Glucose', 'BloodPressure', 'SkinThickness', 'Insulin',\n",
      "       'BMI', 'DiabetesPedigreeFunction', 'Age', 'Outcome'],\n",
      "      dtype='object')\n",
      "   Pregnancies  Glucose  BloodPressure  SkinThickness  Insulin   BMI  \\\n",
      "0            6      148             72             35        0  33.6   \n",
      "1            1       85             66             29        0  26.6   \n",
      "2            8      183             64              0        0  23.3   \n",
      "3            1       89             66             23       94  28.1   \n",
      "4            0      137             40             35      168  43.1   \n",
      "\n",
      "   DiabetesPedigreeFunction  Age  Outcome  \n",
      "0                     0.627   50        1  \n",
      "1                     0.351   31        0  \n",
      "2                     0.672   32        1  \n",
      "3                     0.167   21        0  \n",
      "4                     2.288   33        1  \n"
     ]
    },
    {
     "name": "stderr",
     "output_type": "stream",
     "text": [
      "/usr/local/lib/python3.7/site-packages/sklearn/linear_model/logistic.py:432: FutureWarning: Default solver will be changed to 'lbfgs' in 0.22. Specify a solver to silence this warning.\n",
      "  FutureWarning)\n"
     ]
    }
   ],
   "source": [
    "import pandas as pd\n",
    "from sklearn.model_selection import train_test_split\n",
    "from sklearn.linear_model import LogisticRegression\n",
    "\n",
    "pima = pd.read_csv('dataset/diabetes.csv')\n",
    "print(pima.columns)\n",
    "print(pima.head())\n",
    "\n",
    "feature_cols = ['Pregnancies', 'Insulin', 'BMI', 'Age']\n",
    "\n",
    "X = pima[feature_cols]\n",
    "# print(X)\n",
    "# y is a vector, hence we use dot to access 'label'\n",
    "y = pima['Outcome']\n",
    "\n",
    "# split X and y into training and testing sets\n",
    "X_train, X_test, y_train, y_test = train_test_split(X, y, test_size=0.25, random_state=0)\n",
    "\n",
    "\n",
    "logreg = LogisticRegression()\n",
    "\n",
    "# fit model\n",
    "logreg.fit(X_train, y_train)\n",
    "\n",
    "y_pred_prob = logreg.predict_proba(X_test)"
   ]
  },
  {
   "cell_type": "code",
   "execution_count": 78,
   "metadata": {},
   "outputs": [
    {
     "name": "stdout",
     "output_type": "stream",
     "text": [
      "(0.65625, 0.4791666666666667, 0.7419354838709677, 0.5822784810126582)\n"
     ]
    }
   ],
   "source": [
    "import numpy as np\n",
    "\n",
    "confusion = np.array([[80, 50], [16, 46]])\n",
    "\n",
    "TN = confusion[0, 0]\n",
    "FP = confusion[0, 1]\n",
    "FN = confusion[1, 0]\n",
    "TP = confusion[1, 1]\n",
    "\n",
    "Accuray = ((TP + TN) / float(TP + TN + FP + FN))\n",
    "\n",
    "Precision = TP / float(TP + FP)\n",
    "\n",
    "Recall = TP / float(FN + TP)\n",
    "\n",
    "F1_score = 2*Precision*Recall/float(Precision+Recall)\n",
    "\n",
    "print((Accuray, Precision, Recall, F1_score))"
   ]
  },
  {
   "cell_type": "markdown",
   "metadata": {},
   "source": [
    "### Comparison\n",
    "- With **threshold = 0.5** -> `confusion = np.array([[118., 12.], [ 47., 15.]])`\n",
    "- With **optimal threshold** -> `confusion = np.array([[80, 50], [16, 46]])`"
   ]
  },
  {
   "cell_type": "code",
   "execution_count": 80,
   "metadata": {},
   "outputs": [
    {
     "name": "stdout",
     "output_type": "stream",
     "text": [
      "(0.65625, 0.4791666666666667, 0.7419354838709677, 0.5822784810126582)\n",
      "(0.65625, 0.4791666666666667, 0.7419354838709677, 0.5822784810126582)\n"
     ]
    }
   ],
   "source": [
    "# With threshold 0.5\n",
    "print((Accuray, Precision, Recall, F1_score))\n",
    "\n",
    "# With Optimal Theshold\n",
    "print((Accuray, Precision, Recall, F1_score))"
   ]
  },
  {
   "cell_type": "markdown",
   "metadata": {},
   "source": [
    "## Cross-Validation\n",
    "- Normally in a machine learning process, **data is divided into** training and test sets; the **training set is then used to train the model** and the **test set is used to evaluate the performance of a model**\n",
    "- It is possible that the accuracy obtained on one test is very different to accuracy obtained on another test set using the same algorithm\n",
    "- To see the model performance, we use **K-Fold Cross-Validation** for performance evaluation where K is any number\n",
    "- Suppose we want to perform 5-fold cross validation\n",
    "\n",
    "![Cross Validation](../static/screenshots/day5-2.png)\n",
    "\n",
    "## Lets obtain Accuracy and F1-Score for 5-fold cross validation based on diabetes dataset"
   ]
  },
  {
   "cell_type": "code",
   "execution_count": 90,
   "metadata": {},
   "outputs": [
    {
     "name": "stdout",
     "output_type": "stream",
     "text": [
      "500\n",
      "268\n",
      "Accuracy= [0.64935065 0.65584416 0.64935065 0.69281046 0.65359477]\n",
      "Accuracy mean 0.6601901366607248\n",
      "\n",
      "F1_scores= [0.578125   0.55462185 0.54237288 0.624      0.576     ]\n",
      "F1_mean= 0.5750239460190857\n"
     ]
    },
    {
     "name": "stderr",
     "output_type": "stream",
     "text": [
      "/usr/local/lib/python3.7/site-packages/sklearn/linear_model/logistic.py:432: FutureWarning: Default solver will be changed to 'lbfgs' in 0.22. Specify a solver to silence this warning.\n",
      "  FutureWarning)\n",
      "/usr/local/lib/python3.7/site-packages/sklearn/linear_model/logistic.py:432: FutureWarning: Default solver will be changed to 'lbfgs' in 0.22. Specify a solver to silence this warning.\n",
      "  FutureWarning)\n",
      "/usr/local/lib/python3.7/site-packages/sklearn/linear_model/logistic.py:432: FutureWarning: Default solver will be changed to 'lbfgs' in 0.22. Specify a solver to silence this warning.\n",
      "  FutureWarning)\n",
      "/usr/local/lib/python3.7/site-packages/sklearn/linear_model/logistic.py:432: FutureWarning: Default solver will be changed to 'lbfgs' in 0.22. Specify a solver to silence this warning.\n",
      "  FutureWarning)\n",
      "/usr/local/lib/python3.7/site-packages/sklearn/linear_model/logistic.py:432: FutureWarning: Default solver will be changed to 'lbfgs' in 0.22. Specify a solver to silence this warning.\n",
      "  FutureWarning)\n",
      "/usr/local/lib/python3.7/site-packages/sklearn/linear_model/logistic.py:432: FutureWarning: Default solver will be changed to 'lbfgs' in 0.22. Specify a solver to silence this warning.\n",
      "  FutureWarning)\n",
      "/usr/local/lib/python3.7/site-packages/sklearn/linear_model/logistic.py:432: FutureWarning: Default solver will be changed to 'lbfgs' in 0.22. Specify a solver to silence this warning.\n",
      "  FutureWarning)\n",
      "/usr/local/lib/python3.7/site-packages/sklearn/linear_model/logistic.py:432: FutureWarning: Default solver will be changed to 'lbfgs' in 0.22. Specify a solver to silence this warning.\n",
      "  FutureWarning)\n",
      "/usr/local/lib/python3.7/site-packages/sklearn/linear_model/logistic.py:432: FutureWarning: Default solver will be changed to 'lbfgs' in 0.22. Specify a solver to silence this warning.\n",
      "  FutureWarning)\n",
      "/usr/local/lib/python3.7/site-packages/sklearn/linear_model/logistic.py:432: FutureWarning: Default solver will be changed to 'lbfgs' in 0.22. Specify a solver to silence this warning.\n",
      "  FutureWarning)\n"
     ]
    }
   ],
   "source": [
    "from sklearn.model_selection import cross_val_score \n",
    "import pandas as pd\n",
    "from sklearn.linear_model import LogisticRegression\n",
    "\n",
    "pima = pd.read_csv('dataset/diabetes.csv')\n",
    "\n",
    "feature_cols = ['Pregnancies', 'Insulin', 'BMI', 'Age']\n",
    "\n",
    "# X is a matrix,access the features we want in feature_cols\n",
    "X = pima[feature_cols]\n",
    "\n",
    "# y is a vector, hence we use dot to access 'label'\n",
    "y = pima['Outcome']\n",
    "\n",
    "print(y.value_counts()[0])\n",
    "print(y.value_counts()[1])\n",
    "\n",
    "logreg = LogisticRegression(class_weight={1: 500/268})\n",
    "#logreg = LogisticRegression(class_weight={1: y.value_counts()[0]/y.value_counts()[1]})\n",
    "# logreg = LogisticRegression()\n",
    "\n",
    "all_accuracies = cross_val_score(estimator=logreg, X=X, y=y, cv=5, scoring='accuracy') #cv=5 is the 5-fold\n",
    "print(\"Accuracy=\", all_accuracies)\n",
    "print(\"Accuracy mean\", all_accuracies.mean())\n",
    "\n",
    "print()\n",
    "\n",
    "all_f1 = cross_val_score(estimator=logreg, X=X, y=y, cv=5, scoring='f1') #f1\n",
    "print(\"F1_scores=\", all_f1)\n",
    "print(\"F1_mean=\", all_f1.mean())"
   ]
  },
  {
   "cell_type": "code",
   "execution_count": 88,
   "metadata": {},
   "outputs": [
    {
     "data": {
      "image/png": "[encoded data removed]",
      "text/plain": [
       "<Figure size 432x288 with 1 Axes>"
      ]
     },
     "metadata": {
      "needs_background": "light"
     },
     "output_type": "display_data"
    },
    {
     "data": {
      "text/plain": [
       "0    500\n",
       "1    268\n",
       "Name: Outcome, dtype: int64"
      ]
     },
     "execution_count": 88,
     "metadata": {},
     "output_type": "execute_result"
    }
   ],
   "source": [
    "import matplotlib.pyplot as plt\n",
    "import pandas as pd\n",
    "\n",
    "plt.hist(y, bins=20)\n",
    "plt.show()\n",
    "\n",
    "y_pd_series = pd.Series(y)\n",
    "y_pd_series.value_counts()"
   ]
  },
  {
   "cell_type": "markdown",
   "metadata": {},
   "source": [
    "## How to choose Models based on Cross-Validation\n",
    "- We want to have low variance result for CV -> pick a model that has lower variance\n",
    "- If two models have low variance result for CV -> pick a model that has higher mean\n",
    "\n",
    "## Grid Search for Parameter Selection\n",
    "- Machine learning models have hyper-parameters. To know which values of hyper-paramaeters give the best result we need grid search\n",
    "- Question: what does grid search mean?\n",
    "\n",
    "### Big Note:\n",
    "- All of these metrics, including confusion matrix, accuracy, precision, recall, f-1 score are for a classifier model **(e.g. SVM, logistic regression)** not regression model. For regression model **(e.g. linear regression)**, the metrics are r squared and MSE"
   ]
  },
  {
   "cell_type": "code",
   "execution_count": null,
   "metadata": {},
   "outputs": [],
   "source": []
  },
  {
   "cell_type": "markdown",
   "metadata": {},
   "source": [
    "### Resources\n",
    "Optimal threshold is obtained from ROC and AUC curve where axises are TPR and 1-FPR : https://www.ritchieng.com/machine-learning-evaluate-classification-model/"
   ]
  },
  {
   "cell_type": "code",
   "execution_count": null,
   "metadata": {},
   "outputs": [],
   "source": []
  }
 ],
 "metadata": {
  "kernelspec": {
   "display_name": "Python 3",
   "language": "python",
   "name": "python3"
  },
  "language_info": {
   "codemirror_mode": {
    "name": "ipython",
    "version": 3
   },
   "file_extension": ".py",
   "mimetype": "text/x-python",
   "name": "python",
   "nbconvert_exporter": "python",
   "pygments_lexer": "ipython3",
   "version": "3.7.4"
  }
 },
 "nbformat": 4,
 "nbformat_minor": 2
}
